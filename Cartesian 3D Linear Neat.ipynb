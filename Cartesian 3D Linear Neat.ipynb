{
 "cells": [
  {
   "cell_type": "markdown",
   "metadata": {},
   "source": [
    "# Analytical Benchmarks - 3D Cartesian Linear"
   ]
  },
  {
   "cell_type": "code",
   "execution_count": 1,
   "metadata": {
    "collapsed": true
   },
   "outputs": [],
   "source": [
    "#import and initialisation\n",
    "from sympy import *\n",
    "import matplotlib.pyplot as plt\n",
    "import numpy as np\n",
    "init_printing()\n",
    "%matplotlib inline"
   ]
  },
  {
   "cell_type": "code",
   "execution_count": 2,
   "metadata": {
    "collapsed": true
   },
   "outputs": [],
   "source": [
    "#define the symbols used in the derivation\n",
    "x,y,z,rho,C1,Cx,Cy,Cz,gx,mu,gy,gz= symbols( 'x y z rho C1 C_x C_y C_z g_x mu g_y g_z')\n",
    "exx,eyy,exx = symbols(\"e_{xx} e_{yy} e_{zz}\")\n",
    "exy,exz,eyx = symbols(\"e_{xy} e_{xz} e_{yz}\")\n",
    "rhox, rhoy,rhoz = symbols(\"rho_x rho_y rho_z\")\n",
    "tau_xx, tau_yy, tau_zz = symbols(\"tau_{xx} tau_{xy} tau_{yy}\")\n",
    "tau_xy, tau_xz, tau_yz = symbols(\"tau_{xy} tau_{xz} tau_{yz}\")\n",
    "tau_yx, tau_zx, tau_zy = symbols(\"tau_{yx} tau_{zx} tau_{zy}\")\n",
    "vx,vy,vz = symbols('v_x v_y v_z',function=True)\n",
    "p = symbols('p',function=True)"
   ]
  },
  {
   "cell_type": "markdown",
   "metadata": {},
   "source": [
    "Firstly, we define the continuity (mass conservation) equation and the momentum equation in 1D, as well as the 1D stress tensor ($\\tau$):\n",
    "TODO:clean these up such that momentum equations directly call tau functions, everything takes proper arguments, using global values for anything except mu seems dangerous"
   ]
  },
  {
   "cell_type": "code",
   "execution_count": 3,
   "metadata": {},
   "outputs": [
    {
     "name": "stdout",
     "output_type": "stream",
     "text": [
      "The history saving thread hit an unexpected error (OperationalError('database is locked',)).History will not be written to the database.\n"
     ]
    }
   ],
   "source": [
    "def get_continuity_equation_x(vx,rhox):\n",
    "    return (1/vx)*Derivative(vx,x) + (1/rhox)*diff(rhox,x)"
   ]
  },
  {
   "cell_type": "code",
   "execution_count": 4,
   "metadata": {},
   "outputs": [],
   "source": [
    "def get_continuity_equation_y(vy,rhoy):\n",
    "    return (1/vy)*Derivative(vy,y) + (1/rhoy)*diff(rhoy,y)"
   ]
  },
  {
   "cell_type": "code",
   "execution_count": 5,
   "metadata": {},
   "outputs": [],
   "source": [
    "def get_continuity_equation_z(vz,rhoz):\n",
    "    return (1/vz)*Derivative(vz,z) + (1/rhoz)*diff(rhoz,z)"
   ]
  },
  {
   "cell_type": "code",
   "execution_count": 6,
   "metadata": {},
   "outputs": [],
   "source": [
    "def get_velocity_divergence(vx,vy,vz):\n",
    "    return Derivative(vx,x) + Derivative(vy,y) + Derivative(vz,z)"
   ]
  },
  {
   "cell_type": "code",
   "execution_count": 7,
   "metadata": {
    "collapsed": true
   },
   "outputs": [],
   "source": [
    "def get_tau_xx():\n",
    "    div = get_velocity_divergence(vx,vy,vz)\n",
    "    return 2*mu*Derivative(vx,x) - mu*div*Rational(2,3)"
   ]
  },
  {
   "cell_type": "code",
   "execution_count": 8,
   "metadata": {},
   "outputs": [],
   "source": [
    "def get_tau_yy():\n",
    "    div = get_velocity_divergence(vx,vy,vz)\n",
    "    return 2*mu*Derivative(vy,y) - mu*div*Rational(2,3)"
   ]
  },
  {
   "cell_type": "code",
   "execution_count": 9,
   "metadata": {},
   "outputs": [],
   "source": [
    "def get_tau_zz():\n",
    "    div = get_velocity_divergence(vx,vy,vz)\n",
    "    return 2*mu*Derivative(vz,z) - mu*div*Rational(2,3)"
   ]
  },
  {
   "cell_type": "code",
   "execution_count": 10,
   "metadata": {},
   "outputs": [],
   "source": [
    "def get_tau_xy():\n",
    "    return mu*(Derivative(vx,y) + Derivative(vy,x))"
   ]
  },
  {
   "cell_type": "code",
   "execution_count": 11,
   "metadata": {},
   "outputs": [],
   "source": [
    "def get_tau_xz():\n",
    "    return mu*(Derivative(vx,z) + Derivative(vz,x))"
   ]
  },
  {
   "cell_type": "code",
   "execution_count": 12,
   "metadata": {},
   "outputs": [],
   "source": [
    "def get_tau_yz():\n",
    "    return mu*(Derivative(vy,z) + Derivative(vz,y))"
   ]
  },
  {
   "cell_type": "code",
   "execution_count": 13,
   "metadata": {
    "collapsed": true
   },
   "outputs": [],
   "source": [
    "def get_momentum_equation_x(p):\n",
    "    return -Derivative(p,x)+rho*gx+(Derivative(tau_xx,x)+Derivative(tau_xy,y)+Derivative(tau_xz,z)).doit()"
   ]
  },
  {
   "cell_type": "code",
   "execution_count": 14,
   "metadata": {},
   "outputs": [],
   "source": [
    "def get_momentum_equation_y(p):\n",
    "    return -Derivative(p,y)+rho*gy+(Derivative(tau_yx,x)+Derivative(tau_yy,y)+Derivative(tau_yz,z)).doit()"
   ]
  },
  {
   "cell_type": "code",
   "execution_count": 15,
   "metadata": {},
   "outputs": [],
   "source": [
    "def get_momentum_equation_z(p):\n",
    "    return -Derivative(p,z)+rho*gz+(Derivative(tau_zx,x)+Derivative(tau_zy,y)+Derivative(tau_zz,z)).doit()"
   ]
  },
  {
   "cell_type": "markdown",
   "metadata": {},
   "source": [
    "Next we prescibe the density profile, and then get the continuity equation, in both x and y directions:"
   ]
  },
  {
   "cell_type": "code",
   "execution_count": 16,
   "metadata": {},
   "outputs": [],
   "source": [
    "rhox=x\n",
    "rhoy=y\n",
    "rhoz=z\n",
    "rho=rhox*rhoy*rhoz"
   ]
  },
  {
   "cell_type": "code",
   "execution_count": 17,
   "metadata": {},
   "outputs": [
    {
     "data": {
      "image/png": "[encoded data removed]",
      "text/latex": [
       "$$\\frac{\\frac{d}{d x} \\operatorname{v_{x}}{\\left (x \\right )}}{\\operatorname{v_{x}}{\\left (x \\right )}} + \\frac{1}{x}$$"
      ],
      "text/plain": [
       "d            \n",
       "──(vₓ(x))    \n",
       "dx          1\n",
       "───────── + ─\n",
       "  vₓ(x)     x"
      ]
     },
     "execution_count": 17,
     "metadata": {},
     "output_type": "execute_result"
    }
   ],
   "source": [
    "continuity_equation_x = get_continuity_equation_x(vx(x),rhox)\n",
    "continuity_equation_x"
   ]
  },
  {
   "cell_type": "code",
   "execution_count": 18,
   "metadata": {},
   "outputs": [
    {
     "data": {
      "image/png": "[encoded data removed]",
      "text/latex": [
       "$$\\frac{\\frac{d}{d y} \\operatorname{v_{y}}{\\left (y \\right )}}{\\operatorname{v_{y}}{\\left (y \\right )}} + \\frac{1}{y}$$"
      ],
      "text/plain": [
       "d             \n",
       "──(v_y(y))    \n",
       "dy           1\n",
       "────────── + ─\n",
       "  v_y(y)     y"
      ]
     },
     "execution_count": 18,
     "metadata": {},
     "output_type": "execute_result"
    }
   ],
   "source": [
    "continuity_equation_y = get_continuity_equation_y(vy(y),rhoy)\n",
    "continuity_equation_y"
   ]
  },
  {
   "cell_type": "code",
   "execution_count": 19,
   "metadata": {},
   "outputs": [
    {
     "data": {
      "image/png": "[encoded data removed]",
      "text/latex": [
       "$$\\frac{\\frac{d}{d z} \\operatorname{v_{z}}{\\left (z \\right )}}{\\operatorname{v_{z}}{\\left (z \\right )}} + \\frac{1}{z}$$"
      ],
      "text/plain": [
       "d             \n",
       "──(v_z(z))    \n",
       "dz           1\n",
       "────────── + ─\n",
       "  v_z(z)     z"
      ]
     },
     "execution_count": 19,
     "metadata": {},
     "output_type": "execute_result"
    }
   ],
   "source": [
    "continuity_equation_z = get_continuity_equation_z(vz(z),rhoz)\n",
    "continuity_equation_z"
   ]
  },
  {
   "cell_type": "markdown",
   "metadata": {},
   "source": [
    "(Note that equations in Sympy are implicitly equal to zero)\n",
    "\n",
    "Then, we solve the continuity equations for the velocity:"
   ]
  },
  {
   "cell_type": "code",
   "execution_count": 20,
   "metadata": {},
   "outputs": [
    {
     "data": {
      "image/png": "[encoded data removed]",
      "text/latex": [
       "$$\\operatorname{v_{x}}{\\left (x \\right )} = \\frac{C_{1}}{x}$$"
      ],
      "text/plain": [
       "        C₁\n",
       "vₓ(x) = ──\n",
       "        x "
      ]
     },
     "execution_count": 20,
     "metadata": {},
     "output_type": "execute_result"
    }
   ],
   "source": [
    "velocity_equation_x = dsolve(continuity_equation_x)\n",
    "velocity_equation_x"
   ]
  },
  {
   "cell_type": "code",
   "execution_count": 21,
   "metadata": {},
   "outputs": [
    {
     "data": {
      "image/png": "[encoded data removed]",
      "text/latex": [
       "$$\\operatorname{v_{y}}{\\left (y \\right )} = \\frac{C_{1}}{y}$$"
      ],
      "text/plain": [
       "         C₁\n",
       "v_y(y) = ──\n",
       "         y "
      ]
     },
     "execution_count": 21,
     "metadata": {},
     "output_type": "execute_result"
    }
   ],
   "source": [
    "velocity_equation_y = dsolve(continuity_equation_y)\n",
    "velocity_equation_y"
   ]
  },
  {
   "cell_type": "code",
   "execution_count": 22,
   "metadata": {},
   "outputs": [
    {
     "data": {
      "image/png": "[encoded data removed]",
      "text/latex": [
       "$$\\operatorname{v_{z}}{\\left (z \\right )} = \\frac{C_{1}}{z}$$"
      ],
      "text/plain": [
       "         C₁\n",
       "v_z(z) = ──\n",
       "         z "
      ]
     },
     "execution_count": 22,
     "metadata": {},
     "output_type": "execute_result"
    }
   ],
   "source": [
    "velocity_equation_z = dsolve(continuity_equation_z)\n",
    "velocity_equation_z"
   ]
  },
  {
   "cell_type": "markdown",
   "metadata": {},
   "source": [
    "Now assign this equation to a new value for $v_x$, and replace the placeholder constant $C1$ with the more informative $C_x$:"
   ]
  },
  {
   "cell_type": "code",
   "execution_count": 23,
   "metadata": {},
   "outputs": [
    {
     "data": {
      "image/png": "[encoded data removed]",
      "text/latex": [
       "$$\\frac{C_{x}}{x}$$"
      ],
      "text/plain": [
       "Cₓ\n",
       "──\n",
       "x "
      ]
     },
     "execution_count": 23,
     "metadata": {},
     "output_type": "execute_result"
    }
   ],
   "source": [
    "vx = velocity_equation_x.rhs\n",
    "vx = vx.subs(C1,Cx)\n",
    "vx"
   ]
  },
  {
   "cell_type": "code",
   "execution_count": 24,
   "metadata": {},
   "outputs": [
    {
     "data": {
      "image/png": "[encoded data removed]",
      "text/latex": [
       "$$\\frac{C_{y}}{y}$$"
      ],
      "text/plain": [
       "C_y\n",
       "───\n",
       " y "
      ]
     },
     "execution_count": 24,
     "metadata": {},
     "output_type": "execute_result"
    }
   ],
   "source": [
    "vy = velocity_equation_y.rhs\n",
    "vy = vy.subs(C1,Cy)\n",
    "vy"
   ]
  },
  {
   "cell_type": "code",
   "execution_count": 25,
   "metadata": {},
   "outputs": [
    {
     "data": {
      "image/png": "[encoded data removed]",
      "text/latex": [
       "$$\\frac{C_{z}}{z}$$"
      ],
      "text/plain": [
       "C_z\n",
       "───\n",
       " z "
      ]
     },
     "execution_count": 25,
     "metadata": {},
     "output_type": "execute_result"
    }
   ],
   "source": [
    "vz = velocity_equation_z.rhs\n",
    "vz = vz.subs(C1,Cz)\n",
    "vz"
   ]
  },
  {
   "cell_type": "markdown",
   "metadata": {},
   "source": [
    "Next, we obtain the stress tensor $\\tau$:"
   ]
  },
  {
   "cell_type": "code",
   "execution_count": 26,
   "metadata": {},
   "outputs": [
    {
     "data": {
      "image/png": "[encoded data removed]",
      "text/latex": [
       "$$- \\frac{2 C_{x}}{x^{2}} \\mu - \\frac{2 \\mu}{3} \\left(- \\frac{C_{x}}{x^{2}} - \\frac{C_{y}}{y^{2}} - \\frac{C_{z}}{z^{2}}\\right)$$"
      ],
      "text/plain": [
       "               ⎛  Cₓ   C_y   C_z⎞\n",
       "           2⋅μ⋅⎜- ── - ─── - ───⎟\n",
       "               ⎜   2     2     2⎟\n",
       "  2⋅Cₓ⋅μ       ⎝  x     y     z ⎠\n",
       "- ────── - ──────────────────────\n",
       "     2               3           \n",
       "    x                            "
      ]
     },
     "execution_count": 26,
     "metadata": {},
     "output_type": "execute_result"
    }
   ],
   "source": [
    "tau_xx = get_tau_xx()\n",
    "tau_xx.doit()"
   ]
  },
  {
   "cell_type": "code",
   "execution_count": 27,
   "metadata": {},
   "outputs": [
    {
     "data": {
      "image/png": "[encoded data removed]",
      "text/latex": [
       "$$- \\frac{2 C_{y}}{y^{2}} \\mu - \\frac{2 \\mu}{3} \\left(- \\frac{C_{x}}{x^{2}} - \\frac{C_{y}}{y^{2}} - \\frac{C_{z}}{z^{2}}\\right)$$"
      ],
      "text/plain": [
       "                ⎛  Cₓ   C_y   C_z⎞\n",
       "            2⋅μ⋅⎜- ── - ─── - ───⎟\n",
       "                ⎜   2     2     2⎟\n",
       "  2⋅C_y⋅μ       ⎝  x     y     z ⎠\n",
       "- ─────── - ──────────────────────\n",
       "      2               3           \n",
       "     y                            "
      ]
     },
     "execution_count": 27,
     "metadata": {},
     "output_type": "execute_result"
    }
   ],
   "source": [
    "tau_yy = get_tau_yy()\n",
    "tau_yy.doit()"
   ]
  },
  {
   "cell_type": "code",
   "execution_count": 28,
   "metadata": {},
   "outputs": [
    {
     "data": {
      "image/png": "[encoded data removed]",
      "text/latex": [
       "$$- \\frac{2 C_{z}}{z^{2}} \\mu - \\frac{2 \\mu}{3} \\left(- \\frac{C_{x}}{x^{2}} - \\frac{C_{y}}{y^{2}} - \\frac{C_{z}}{z^{2}}\\right)$$"
      ],
      "text/plain": [
       "                ⎛  Cₓ   C_y   C_z⎞\n",
       "            2⋅μ⋅⎜- ── - ─── - ───⎟\n",
       "                ⎜   2     2     2⎟\n",
       "  2⋅C_z⋅μ       ⎝  x     y     z ⎠\n",
       "- ─────── - ──────────────────────\n",
       "      2               3           \n",
       "     z                            "
      ]
     },
     "execution_count": 28,
     "metadata": {},
     "output_type": "execute_result"
    }
   ],
   "source": [
    "tau_zz = get_tau_zz()\n",
    "tau_zz.doit()"
   ]
  },
  {
   "cell_type": "code",
   "execution_count": 29,
   "metadata": {},
   "outputs": [
    {
     "data": {
      "image/png": "[encoded data removed]",
      "text/latex": [
       "$$0$$"
      ],
      "text/plain": [
       "0"
      ]
     },
     "execution_count": 29,
     "metadata": {},
     "output_type": "execute_result"
    }
   ],
   "source": [
    "tau_xy = get_tau_xy()\n",
    "tau_yx = get_tau_xy()\n",
    "tau_xy.doit()"
   ]
  },
  {
   "cell_type": "code",
   "execution_count": 30,
   "metadata": {},
   "outputs": [
    {
     "data": {
      "image/png": "[encoded data removed]",
      "text/latex": [
       "$$0$$"
      ],
      "text/plain": [
       "0"
      ]
     },
     "execution_count": 30,
     "metadata": {},
     "output_type": "execute_result"
    }
   ],
   "source": [
    "tau_xz = get_tau_xz()\n",
    "tau_zx = get_tau_xz()\n",
    "tau_xz.doit()"
   ]
  },
  {
   "cell_type": "code",
   "execution_count": 31,
   "metadata": {},
   "outputs": [
    {
     "data": {
      "image/png": "[encoded data removed]",
      "text/latex": [
       "$$0$$"
      ],
      "text/plain": [
       "0"
      ]
     },
     "execution_count": 31,
     "metadata": {},
     "output_type": "execute_result"
    }
   ],
   "source": [
    "tau_yz = get_tau_yz()\n",
    "tau_zy = get_tau_yz()\n",
    "tau_yz.doit()"
   ]
  },
  {
   "cell_type": "markdown",
   "metadata": {},
   "source": [
    "Now, we prescibe the gravitational field:"
   ]
  },
  {
   "cell_type": "code",
   "execution_count": 32,
   "metadata": {},
   "outputs": [],
   "source": [
    "gx = 1/(y*z)\n",
    "gy = 1/(x*z)\n",
    "gz = 1/(y*x)"
   ]
  },
  {
   "cell_type": "markdown",
   "metadata": {},
   "source": [
    "Then, we obtain the momentum equation:"
   ]
  },
  {
   "cell_type": "code",
   "execution_count": 33,
   "metadata": {},
   "outputs": [
    {
     "data": {
      "image/png": "[encoded data removed]",
      "text/latex": [
       "$$\\frac{8 C_{x} \\mu}{3 x^{3}} + x - \\frac{\\partial}{\\partial x} p{\\left (x,y,z \\right )}$$"
      ],
      "text/plain": [
       "8⋅Cₓ⋅μ       ∂             \n",
       "────── + x - ──(p(x, y, z))\n",
       "    3        ∂x            \n",
       " 3⋅x                       "
      ]
     },
     "execution_count": 33,
     "metadata": {},
     "output_type": "execute_result"
    }
   ],
   "source": [
    "momentum_equation_x = get_momentum_equation_x(p(x,y,z))\n",
    "momentum_equation_x"
   ]
  },
  {
   "cell_type": "code",
   "execution_count": 34,
   "metadata": {},
   "outputs": [
    {
     "data": {
      "image/png": "[encoded data removed]",
      "text/latex": [
       "$$\\frac{8 C_{y} \\mu}{3 y^{3}} + y - \\frac{\\partial}{\\partial y} p{\\left (x,y,z \\right )}$$"
      ],
      "text/plain": [
       "8⋅C_y⋅μ       ∂             \n",
       "─────── + y - ──(p(x, y, z))\n",
       "     3        ∂y            \n",
       "  3⋅y                       "
      ]
     },
     "execution_count": 34,
     "metadata": {},
     "output_type": "execute_result"
    }
   ],
   "source": [
    "momentum_equation_y = get_momentum_equation_y(p(x,y,z))\n",
    "momentum_equation_y"
   ]
  },
  {
   "cell_type": "code",
   "execution_count": 35,
   "metadata": {},
   "outputs": [
    {
     "data": {
      "image/png": "[encoded data removed]",
      "text/latex": [
       "$$\\frac{8 C_{z} \\mu}{3 z^{3}} + z - \\frac{\\partial}{\\partial z} p{\\left (x,y,z \\right )}$$"
      ],
      "text/plain": [
       "8⋅C_z⋅μ       ∂             \n",
       "─────── + z - ──(p(x, y, z))\n",
       "     3        ∂z            \n",
       "  3⋅z                       "
      ]
     },
     "execution_count": 35,
     "metadata": {},
     "output_type": "execute_result"
    }
   ],
   "source": [
    "momentum_equation_z = get_momentum_equation_z(p(x,y,z))\n",
    "momentum_equation_z"
   ]
  },
  {
   "cell_type": "markdown",
   "metadata": {},
   "source": [
    "Unfortunately, Sympy cannot solve 3D (or higher dimensional) differential equations. However, from the solutions to the equivalent linear benchmarks in 1D and 2D, we can infer the form of the pressure solution:"
   ]
  },
  {
   "cell_type": "code",
   "execution_count": 36,
   "metadata": {},
   "outputs": [
    {
     "data": {
      "image/png": "[encoded data removed]",
      "text/latex": [
       "$$C_{1} - \\frac{4 \\mu}{3} \\left(\\frac{C_{x}}{x^{2}} + \\frac{C_{y}}{y^{2}} + \\frac{C_{z}}{z^{2}}\\right) + \\frac{x^{2}}{2} + \\frac{y^{2}}{2} + \\frac{z^{2}}{2}$$"
      ],
      "text/plain": [
       "         ⎛Cₓ   C_y   C_z⎞               \n",
       "     4⋅μ⋅⎜── + ─── + ───⎟               \n",
       "         ⎜ 2     2     2⎟    2    2    2\n",
       "         ⎝x     y     z ⎠   x    y    z \n",
       "C₁ - ──────────────────── + ── + ── + ──\n",
       "              3             2    2    2 "
      ]
     },
     "execution_count": 36,
     "metadata": {},
     "output_type": "execute_result"
    }
   ],
   "source": [
    "p = C1 - Rational(4,3)*mu*(Cx/x**2+Cy/y**2+Cz/z**2) + (x**2+y**2+z**2)/2\n",
    "p"
   ]
  },
  {
   "cell_type": "markdown",
   "metadata": {},
   "source": [
    "We then verify the correctness of this infered solution by substitution into the momentum equations, and calculating the residual (which ought to be zero):"
   ]
  },
  {
   "cell_type": "code",
   "execution_count": 37,
   "metadata": {},
   "outputs": [
    {
     "data": {
      "image/png": "[encoded data removed]",
      "text/latex": [
       "$$0$$"
      ],
      "text/plain": [
       "0"
      ]
     },
     "execution_count": 37,
     "metadata": {},
     "output_type": "execute_result"
    }
   ],
   "source": [
    "get_momentum_equation_x(p).doit()"
   ]
  },
  {
   "cell_type": "code",
   "execution_count": 38,
   "metadata": {},
   "outputs": [
    {
     "data": {
      "image/png": "[encoded data removed]",
      "text/latex": [
       "$$0$$"
      ],
      "text/plain": [
       "0"
      ]
     },
     "execution_count": 38,
     "metadata": {},
     "output_type": "execute_result"
    }
   ],
   "source": [
    "get_momentum_equation_y(p).doit()"
   ]
  },
  {
   "cell_type": "code",
   "execution_count": 39,
   "metadata": {},
   "outputs": [
    {
     "data": {
      "image/png": "[encoded data removed]",
      "text/latex": [
       "$$0$$"
      ],
      "text/plain": [
       "0"
      ]
     },
     "execution_count": 39,
     "metadata": {},
     "output_type": "execute_result"
    }
   ],
   "source": [
    "get_momentum_equation_z(p).doit()"
   ]
  },
  {
   "cell_type": "markdown",
   "metadata": {},
   "source": [
    "Finally, we need to calculate the strain rate:"
   ]
  },
  {
   "cell_type": "code",
   "execution_count": 40,
   "metadata": {},
   "outputs": [
    {
     "data": {
      "image/png": "[encoded data removed]",
      "text/latex": [
       "$$- \\frac{C_{x}}{x^{2}}$$"
      ],
      "text/plain": [
       "-Cₓ \n",
       "────\n",
       "  2 \n",
       " x  "
      ]
     },
     "execution_count": 40,
     "metadata": {},
     "output_type": "execute_result"
    }
   ],
   "source": [
    "exx = Derivative(vx,x).doit()\n",
    "exx"
   ]
  },
  {
   "cell_type": "code",
   "execution_count": 41,
   "metadata": {},
   "outputs": [
    {
     "data": {
      "image/png": "[encoded data removed]",
      "text/latex": [
       "$$- \\frac{C_{y}}{y^{2}}$$"
      ],
      "text/plain": [
       "-C_y \n",
       "─────\n",
       "   2 \n",
       "  y  "
      ]
     },
     "execution_count": 41,
     "metadata": {},
     "output_type": "execute_result"
    }
   ],
   "source": [
    "eyy = Derivative(vy,y).doit()\n",
    "eyy"
   ]
  },
  {
   "cell_type": "code",
   "execution_count": 42,
   "metadata": {},
   "outputs": [
    {
     "data": {
      "image/png": "[encoded data removed]",
      "text/latex": [
       "$$- \\frac{C_{z}}{z^{2}}$$"
      ],
      "text/plain": [
       "-C_z \n",
       "─────\n",
       "   2 \n",
       "  z  "
      ]
     },
     "execution_count": 42,
     "metadata": {},
     "output_type": "execute_result"
    }
   ],
   "source": [
    "ezz = Derivative(vz,z).doit()\n",
    "ezz"
   ]
  },
  {
   "cell_type": "code",
   "execution_count": 43,
   "metadata": {},
   "outputs": [
    {
     "data": {
      "image/png": "[encoded data removed]",
      "text/latex": [
       "$$0$$"
      ],
      "text/plain": [
       "0"
      ]
     },
     "execution_count": 43,
     "metadata": {},
     "output_type": "execute_result"
    }
   ],
   "source": [
    "exy = Derivative(vx,y).doit()\n",
    "exy"
   ]
  },
  {
   "cell_type": "code",
   "execution_count": 44,
   "metadata": {},
   "outputs": [
    {
     "data": {
      "image/png": "[encoded data removed]",
      "text/latex": [
       "$$0$$"
      ],
      "text/plain": [
       "0"
      ]
     },
     "execution_count": 44,
     "metadata": {},
     "output_type": "execute_result"
    }
   ],
   "source": [
    "exz = Derivative(vx,z).doit()\n",
    "exz"
   ]
  },
  {
   "cell_type": "code",
   "execution_count": 45,
   "metadata": {},
   "outputs": [
    {
     "data": {
      "image/png": "[encoded data removed]",
      "text/latex": [
       "$$0$$"
      ],
      "text/plain": [
       "0"
      ]
     },
     "execution_count": 45,
     "metadata": {},
     "output_type": "execute_result"
    }
   ],
   "source": [
    "eyz = Derivative(vy,z).doit()\n",
    "eyz"
   ]
  },
  {
   "cell_type": "markdown",
   "metadata": {},
   "source": [
    "This gives us the following final equations for the velocity and pressure:"
   ]
  },
  {
   "cell_type": "code",
   "execution_count": 46,
   "metadata": {},
   "outputs": [
    {
     "data": {
      "image/png": "[encoded data removed]",
      "text/latex": [
       "$$\\operatorname{v_{x}}{\\left (x \\right )} = \\frac{C_{1}}{x}$$"
      ],
      "text/plain": [
       "        C₁\n",
       "vₓ(x) = ──\n",
       "        x "
      ]
     },
     "execution_count": 46,
     "metadata": {},
     "output_type": "execute_result"
    }
   ],
   "source": [
    "velocity_equation_x"
   ]
  },
  {
   "cell_type": "code",
   "execution_count": 47,
   "metadata": {},
   "outputs": [
    {
     "data": {
      "image/png": "[encoded data removed]",
      "text/latex": [
       "$$\\operatorname{v_{y}}{\\left (y \\right )} = \\frac{C_{1}}{y}$$"
      ],
      "text/plain": [
       "         C₁\n",
       "v_y(y) = ──\n",
       "         y "
      ]
     },
     "execution_count": 47,
     "metadata": {},
     "output_type": "execute_result"
    }
   ],
   "source": [
    "velocity_equation_y"
   ]
  },
  {
   "cell_type": "code",
   "execution_count": 48,
   "metadata": {},
   "outputs": [
    {
     "data": {
      "image/png": "[encoded data removed]",
      "text/latex": [
       "$$C_{1} - \\frac{4 \\mu}{3} \\left(\\frac{C_{x}}{x^{2}} + \\frac{C_{y}}{y^{2}} + \\frac{C_{z}}{z^{2}}\\right) + \\frac{x^{2}}{2} + \\frac{y^{2}}{2} + \\frac{z^{2}}{2}$$"
      ],
      "text/plain": [
       "         ⎛Cₓ   C_y   C_z⎞               \n",
       "     4⋅μ⋅⎜── + ─── + ───⎟               \n",
       "         ⎜ 2     2     2⎟    2    2    2\n",
       "         ⎝x     y     z ⎠   x    y    z \n",
       "C₁ - ──────────────────── + ── + ── + ──\n",
       "              3             2    2    2 "
      ]
     },
     "execution_count": 48,
     "metadata": {},
     "output_type": "execute_result"
    }
   ],
   "source": [
    "p"
   ]
  },
  {
   "cell_type": "markdown",
   "metadata": {},
   "source": [
    "# Plotting"
   ]
  },
  {
   "cell_type": "markdown",
   "metadata": {},
   "source": [
    "Firstly, we need to generate functions from the above expressions for density, velocity and pressure:"
   ]
  },
  {
   "cell_type": "markdown",
   "metadata": {},
   "source": [
    "In order to plot a 3D function on a 2D page (or screen), we choose a plane in the function - in this case, z=1"
   ]
  },
  {
   "cell_type": "code",
   "execution_count": 49,
   "metadata": {},
   "outputs": [],
   "source": [
    "density_function = lambdify((x,y),rho.subs(z,1))"
   ]
  },
  {
   "cell_type": "code",
   "execution_count": 50,
   "metadata": {},
   "outputs": [],
   "source": [
    "vx_function = lambdify((x,y),vx.subs(Cx,1))"
   ]
  },
  {
   "cell_type": "code",
   "execution_count": 51,
   "metadata": {},
   "outputs": [],
   "source": [
    "vy_function = lambdify((x,y),vy.subs(Cy,1))"
   ]
  },
  {
   "cell_type": "code",
   "execution_count": 52,
   "metadata": {},
   "outputs": [],
   "source": [
    "vz_function = lambdify(z,vz.subs(Cz,1))"
   ]
  },
  {
   "cell_type": "code",
   "execution_count": 53,
   "metadata": {},
   "outputs": [],
   "source": [
    "def v_magnitude_function(x,y):\n",
    "    return np.sqrt(vy_function(x,y)**2 + vx_function(x,y)**2 + vz_function(1))"
   ]
  },
  {
   "cell_type": "code",
   "execution_count": 54,
   "metadata": {},
   "outputs": [],
   "source": [
    "pressure_function = lambdify((x,y),p.subs(C1,0).subs(Cx,1).subs(gx,1).subs(mu,1).subs(Cy,1).subs(z,1))"
   ]
  },
  {
   "cell_type": "code",
   "execution_count": 55,
   "metadata": {},
   "outputs": [],
   "source": [
    "exx_function = lambdify((x,y),exx.subs(Cx,1))"
   ]
  },
  {
   "cell_type": "code",
   "execution_count": 56,
   "metadata": {},
   "outputs": [],
   "source": [
    "eyy_function = lambdify((x,y),eyy.subs(Cy,1))"
   ]
  },
  {
   "cell_type": "markdown",
   "metadata": {},
   "source": [
    "Now we need an x range to plot over:\n"
   ]
  },
  {
   "cell_type": "code",
   "execution_count": 57,
   "metadata": {},
   "outputs": [],
   "source": [
    "x_plotting = np.arange(1,2,0.01)\n",
    "y_plotting = np.arange(1,2,0.01)\n",
    "X_plotting,Y_plotting = np.meshgrid(x_plotting,y_plotting)"
   ]
  },
  {
   "cell_type": "markdown",
   "metadata": {},
   "source": [
    "Finally, we plot the density, velocity and pressure profiles:"
   ]
  },
  {
   "cell_type": "code",
   "execution_count": 58,
   "metadata": {
    "collapsed": true
   },
   "outputs": [
    {
     "data": {
      "text/plain": [
       "<matplotlib.text.Text at 0x7f8d5fc26588>"
      ]
     },
     "execution_count": 58,
     "metadata": {},
     "output_type": "execute_result"
    },
    {
     "data": {
      "image/png": "[encoded data removed]",
      "text/plain": [
       "<matplotlib.figure.Figure at 0x7f8d5f8f93c8>"
      ]
     },
     "metadata": {},
     "output_type": "display_data"
    }
   ],
   "source": [
    "fig,axes = plt.subplots(3,2,figsize=(12,18))\n",
    "\n",
    "axes[0,0].contourf(X_plotting,Y_plotting,density_function(X_plotting,Y_plotting))\n",
    "axes[0,0].contour(X_plotting,Y_plotting,density_function(X_plotting,Y_plotting))\n",
    "axes[0,0].set_xlabel(\"$x$\")\n",
    "axes[0,0].set_ylabel(\"$y$\")\n",
    "axes[0,0].set_title(r\"Density ($\\rho$)\")\n",
    "\n",
    "axes[0,1].contourf(X_plotting,Y_plotting,v_magnitude_function(X_plotting,Y_plotting))\n",
    "axes[0,1].contour(X_plotting,Y_plotting,v_magnitude_function(X_plotting,Y_plotting))\n",
    "axes[0,1].set_xlabel(\"$x$\")\n",
    "axes[0,1].set_ylabel(\"$y$\")\n",
    "axes[0,1].set_title(r\"Velocity Magnitude ($|v|$)\")\n",
    "\n",
    "axes[1,0].contourf(X_plotting,Y_plotting,vx_function(X_plotting,Y_plotting))\n",
    "axes[1,0].contour(X_plotting,Y_plotting,vx_function(X_plotting,Y_plotting))\n",
    "axes[1,0].set_xlabel(\"$x$\")\n",
    "axes[1,0].set_ylabel(\"$y$\")\n",
    "axes[1,0].set_title(r\"x-Velocity ($v_x$)\")\n",
    "\n",
    "axes[1,1].contourf(X_plotting,Y_plotting,vy_function(X_plotting,Y_plotting))\n",
    "axes[1,1].contour(X_plotting,Y_plotting,vy_function(X_plotting,Y_plotting))\n",
    "axes[1,1].set_xlabel(\"$x$\")\n",
    "axes[1,1].set_ylabel(\"$y$\")\n",
    "axes[1,1].set_title(r\"y-Velocity ($v_y$)\")\n",
    "\n",
    "axes[2,0].contourf(X_plotting,Y_plotting,exx_function(X_plotting,Y_plotting))\n",
    "axes[2,0].contour(X_plotting,Y_plotting,exx_function(X_plotting,Y_plotting))\n",
    "axes[2,0].set_xlabel(\"$x$\")\n",
    "axes[2,0].set_ylabel(\"$y$\")\n",
    "axes[2,0].set_title(r\"xx Strain Rate ($e_{xx}$)\")\n",
    "\n",
    "axes[2,1].contourf(X_plotting,Y_plotting,eyy_function(X_plotting,Y_plotting))\n",
    "axes[2,1].contour(X_plotting,Y_plotting,eyy_function(X_plotting,Y_plotting))\n",
    "axes[2,1].set_xlabel(\"$x$\")\n",
    "axes[2,1].set_ylabel(\"$y$\")\n",
    "axes[2,1].set_title(r\"yy Strain Rate ($e_{yy}$)\")"
   ]
  },
  {
   "cell_type": "code",
   "execution_count": 59,
   "metadata": {},
   "outputs": [],
   "source": [
    "fig.savefig(\"3DCartesianLinear.pdf\")"
   ]
  },
  {
   "cell_type": "code",
   "execution_count": null,
   "metadata": {},
   "outputs": [],
   "source": []
  }
 ],
 "metadata": {
  "kernelspec": {
   "display_name": "Python 3",
   "language": "python",
   "name": "python3"
  },
  "language_info": {
   "codemirror_mode": {
    "name": "ipython",
    "version": 3
   },
   "file_extension": ".py",
   "mimetype": "text/x-python",
   "name": "python",
   "nbconvert_exporter": "python",
   "pygments_lexer": "ipython3",
   "version": "3.6.2"
  }
 },
 "nbformat": 4,
 "nbformat_minor": 2
}
