{
 "cells": [
  {
   "cell_type": "markdown",
   "metadata": {},
   "source": [
    "# Analytical Benchmarks - 1D Spherical "
   ]
  },
  {
   "cell_type": "code",
   "execution_count": 1,
   "metadata": {
    "collapsed": true
   },
   "outputs": [],
   "source": [
    "#import and initialisation\n",
    "from sympy import *\n",
    "import matplotlib.pyplot as plt\n",
    "import numpy as np\n",
    "init_printing()\n",
    "%matplotlib inline"
   ]
  },
  {
   "cell_type": "code",
   "execution_count": 28,
   "metadata": {
    "collapsed": true
   },
   "outputs": [],
   "source": [
    "#define the symbols used in the derivation\n",
    "r,rho,C1,Cr,gr,mu,tau,rho0,r0= symbols( 'r  rho C1 C_r g_r mu tau rho_0 r_0')\n",
    "vr = symbols('v_r',function=True)\n",
    "p = symbols('p',function=True)"
   ]
  },
  {
   "cell_type": "markdown",
   "metadata": {},
   "source": [
    "Firstly, we define the continuity (mass conservation) equation and the momentum equation in 1D, as well as the 1D stress tensor ($\\tau$):"
   ]
  },
  {
   "cell_type": "code",
   "execution_count": 3,
   "metadata": {},
   "outputs": [],
   "source": [
    "def get_continuity_equation(vr,rho):\n",
    "    return r**-2*Derivative(r**2*rho*vr,r)"
   ]
  },
  {
   "cell_type": "code",
   "execution_count": 4,
   "metadata": {
    "collapsed": true
   },
   "outputs": [],
   "source": [
    "def get_tau_rr():\n",
    "    return -mu*(2*Derivative(vr,r) - Rational(2,3)*r**-2*Derivative(r**2*vr,r))"
   ]
  },
  {
   "cell_type": "code",
   "execution_count": 5,
   "metadata": {},
   "outputs": [],
   "source": [
    "def get_tau_thetatheta():\n",
    "    return -mu*(2*vr/r-Rational(2,3)*r**-2*Derivative(r**2*vr,r))"
   ]
  },
  {
   "cell_type": "code",
   "execution_count": 6,
   "metadata": {},
   "outputs": [],
   "source": [
    "def get_tau_phiphi():\n",
    "    return get_tau_thetatheta()"
   ]
  },
  {
   "cell_type": "code",
   "execution_count": 7,
   "metadata": {
    "collapsed": true
   },
   "outputs": [],
   "source": [
    "def get_momentum_equation(p):\n",
    "    return -Derivative(p,r) + rho*gr - ( r**-2*Derivative(r**2*tau_rr,r) - (tau_thetatheta + tau_phiphi)/r)"
   ]
  },
  {
   "cell_type": "markdown",
   "metadata": {},
   "source": [
    "Next we prescibe the density profile, and then get the continuity equation:"
   ]
  },
  {
   "cell_type": "code",
   "execution_count": 29,
   "metadata": {},
   "outputs": [
    {
     "data": {
      "image/png": "[encoded data removed]",
      "text/latex": [
       "$$\\rho_{0} \\left(- \\frac{r}{r_{0}} + 1\\right)$$"
      ],
      "text/plain": [
       "   ⎛  r     ⎞\n",
       "ρ₀⋅⎜- ── + 1⎟\n",
       "   ⎝  r₀    ⎠"
      ]
     },
     "execution_count": 29,
     "metadata": {},
     "output_type": "execute_result"
    }
   ],
   "source": [
    "rho=rho0*(1-r/r0)\n",
    "rho"
   ]
  },
  {
   "cell_type": "code",
   "execution_count": 30,
   "metadata": {},
   "outputs": [
    {
     "data": {
      "image/png": "[encoded data removed]",
      "text/latex": [
       "$$\\frac{1}{r^{2}} \\frac{\\partial}{\\partial r}\\left(r^{2} \\rho_{0} \\left(- \\frac{r}{r_{0}} + 1\\right) \\operatorname{v_{r}}{\\left (r \\right )}\\right)$$"
      ],
      "text/plain": [
       "∂ ⎛ 2    ⎛  r     ⎞      ⎞\n",
       "──⎜r ⋅ρ₀⋅⎜- ── + 1⎟⋅vᵣ(r)⎟\n",
       "∂r⎝      ⎝  r₀    ⎠      ⎠\n",
       "──────────────────────────\n",
       "             2            \n",
       "            r             "
      ]
     },
     "execution_count": 30,
     "metadata": {},
     "output_type": "execute_result"
    }
   ],
   "source": [
    "continuity_equation = get_continuity_equation(vr(r),rho)\n",
    "continuity_equation"
   ]
  },
  {
   "cell_type": "markdown",
   "metadata": {},
   "source": [
    "(Note that equations in Sympy are implicitly equal to zero)\n",
    "\n",
    "Then, we solve the continuity equation for the velocity:"
   ]
  },
  {
   "cell_type": "code",
   "execution_count": 31,
   "metadata": {},
   "outputs": [
    {
     "data": {
      "image/png": "[encoded data removed]",
      "text/latex": [
       "$$\\operatorname{v_{r}}{\\left (r \\right )} = \\frac{e^{\\frac{C_{1} r_{0}}{\\rho_{0}}}}{r^{2} \\left(r - r_{0}\\right)}$$"
      ],
      "text/plain": [
       "            C₁⋅r₀  \n",
       "            ─────  \n",
       "              ρ₀   \n",
       "           ℯ       \n",
       "vᵣ(r) = ───────────\n",
       "         2         \n",
       "        r ⋅(r - r₀)"
      ]
     },
     "execution_count": 31,
     "metadata": {},
     "output_type": "execute_result"
    }
   ],
   "source": [
    "velocity_equation = dsolve(r**2*continuity_equation)\n",
    "velocity_equation"
   ]
  },
  {
   "cell_type": "markdown",
   "metadata": {},
   "source": [
    "Now assign this equation to a new value for $v_x$, and replace the constant $e^{\\frac{C_1r_0}{\\rho_0}$ with the more informative $C_x$:"
   ]
  },
  {
   "cell_type": "code",
   "execution_count": 52,
   "metadata": {},
   "outputs": [
    {
     "data": {
      "image/png": "[encoded data removed]",
      "text/latex": [
       "$$\\frac{C_{r}}{r^{2} \\left(r - r_{0}\\right)}$$"
      ],
      "text/plain": [
       "     Cᵣ    \n",
       "───────────\n",
       " 2         \n",
       "r ⋅(r - r₀)"
      ]
     },
     "execution_count": 52,
     "metadata": {},
     "output_type": "execute_result"
    }
   ],
   "source": [
    "velocity_equation = velocity_equation.subs(exp(C1*r0/rho0),Cr)\n",
    "vr = velocity_equation.rhs\n",
    "vr"
   ]
  },
  {
   "cell_type": "code",
   "execution_count": 34,
   "metadata": {},
   "outputs": [
    {
     "data": {
      "image/png": "[encoded data removed]",
      "text/latex": [
       "$$0$$"
      ],
      "text/plain": [
       "0"
      ]
     },
     "execution_count": 34,
     "metadata": {},
     "output_type": "execute_result"
    }
   ],
   "source": [
    "get_continuity_equation(vr,rho).doit().simplify()"
   ]
  },
  {
   "cell_type": "markdown",
   "metadata": {},
   "source": [
    "Next, we obtain the stress tensor $\\tau$:"
   ]
  },
  {
   "cell_type": "code",
   "execution_count": 35,
   "metadata": {},
   "outputs": [
    {
     "data": {
      "image/png": "[encoded data removed]",
      "text/latex": [
       "$$- \\mu \\left(- \\frac{4 C_{r}}{3 r^{2} \\left(r - r_{0}\\right)^{2}} - \\frac{4 C_{r}}{r^{3} \\left(r - r_{0}\\right)}\\right)$$"
      ],
      "text/plain": [
       "   ⎛       4⋅Cᵣ            4⋅Cᵣ   ⎞\n",
       "-μ⋅⎜- ────────────── - ───────────⎟\n",
       "   ⎜     2         2    3         ⎟\n",
       "   ⎝  3⋅r ⋅(r - r₀)    r ⋅(r - r₀)⎠"
      ]
     },
     "execution_count": 35,
     "metadata": {},
     "output_type": "execute_result"
    }
   ],
   "source": [
    "tau_rr=get_tau_rr()\n",
    "tau_rr.doit()"
   ]
  },
  {
   "cell_type": "code",
   "execution_count": 36,
   "metadata": {},
   "outputs": [
    {
     "data": {
      "image/png": "[encoded data removed]",
      "text/latex": [
       "$$- \\mu \\left(\\frac{2 C_{r}}{3 r^{2} \\left(r - r_{0}\\right)^{2}} + \\frac{2 C_{r}}{r^{3} \\left(r - r_{0}\\right)}\\right)$$"
      ],
      "text/plain": [
       "   ⎛     2⋅Cᵣ            2⋅Cᵣ   ⎞\n",
       "-μ⋅⎜────────────── + ───────────⎟\n",
       "   ⎜   2         2    3         ⎟\n",
       "   ⎝3⋅r ⋅(r - r₀)    r ⋅(r - r₀)⎠"
      ]
     },
     "execution_count": 36,
     "metadata": {},
     "output_type": "execute_result"
    }
   ],
   "source": [
    "tau_thetatheta = get_tau_thetatheta()\n",
    "tau_thetatheta.doit()"
   ]
  },
  {
   "cell_type": "code",
   "execution_count": 37,
   "metadata": {},
   "outputs": [
    {
     "data": {
      "image/png": "[encoded data removed]",
      "text/latex": [
       "$$- \\mu \\left(\\frac{2 C_{r}}{3 r^{2} \\left(r - r_{0}\\right)^{2}} + \\frac{2 C_{r}}{r^{3} \\left(r - r_{0}\\right)}\\right)$$"
      ],
      "text/plain": [
       "   ⎛     2⋅Cᵣ            2⋅Cᵣ   ⎞\n",
       "-μ⋅⎜────────────── + ───────────⎟\n",
       "   ⎜   2         2    3         ⎟\n",
       "   ⎝3⋅r ⋅(r - r₀)    r ⋅(r - r₀)⎠"
      ]
     },
     "execution_count": 37,
     "metadata": {},
     "output_type": "execute_result"
    }
   ],
   "source": [
    "tau_phiphi = get_tau_phiphi()\n",
    "tau_phiphi.doit()"
   ]
  },
  {
   "cell_type": "markdown",
   "metadata": {},
   "source": [
    "Then, we obtain the momentum equation:"
   ]
  },
  {
   "cell_type": "code",
   "execution_count": 38,
   "metadata": {},
   "outputs": [
    {
     "data": {
      "image/png": "[encoded data removed]",
      "text/latex": [
       "$$g_{r} \\rho_{0} \\left(- \\frac{r}{r_{0}} + 1\\right) - \\frac{2 \\mu}{r} \\left(\\frac{2 C_{r}}{3 r^{2} \\left(r - r_{0}\\right)^{2}} + \\frac{2 C_{r}}{r^{3} \\left(r - r_{0}\\right)}\\right) - \\frac{d}{d r} p{\\left (r \\right )} - \\frac{1}{r^{2}} \\left(- \\mu r^{2} \\left(\\frac{8 C_{r}}{3 r^{2} \\left(r - r_{0}\\right)^{3}} + \\frac{20 C_{r}}{3 r^{3} \\left(r - r_{0}\\right)^{2}} + \\frac{12 C_{r}}{r^{4} \\left(r - r_{0}\\right)}\\right) - 2 \\mu r \\left(- \\frac{4 C_{r}}{3 r^{2} \\left(r - r_{0}\\right)^{2}} - \\frac{4 C_{r}}{r^{3} \\left(r - r_{0}\\right)}\\right)\\right)$$"
      ],
      "text/plain": [
       "                       ⎛     2⋅Cᵣ            2⋅Cᵣ   ⎞                   2 ⎛   \n",
       "                   2⋅μ⋅⎜────────────── + ───────────⎟              - μ⋅r ⋅⎜───\n",
       "                       ⎜   2         2    3         ⎟                     ⎜   \n",
       "      ⎛  r     ⎞       ⎝3⋅r ⋅(r - r₀)    r ⋅(r - r₀)⎠   d                 ⎝3⋅r\n",
       "gᵣ⋅ρ₀⋅⎜- ── + 1⎟ - ────────────────────────────────── - ──(p(r)) - ───────────\n",
       "      ⎝  r₀    ⎠                   r                    dr                    \n",
       "                                                                              \n",
       "\n",
       "  8⋅Cᵣ            20⋅Cᵣ           12⋅Cᵣ   ⎞         ⎛       4⋅Cᵣ            4⋅\n",
       "─────────── + ────────────── + ───────────⎟ - 2⋅μ⋅r⋅⎜- ────────────── - ──────\n",
       "2         3      3         2    4         ⎟         ⎜     2         2    3    \n",
       " ⋅(r - r₀)    3⋅r ⋅(r - r₀)    r ⋅(r - r₀)⎠         ⎝  3⋅r ⋅(r - r₀)    r ⋅(r \n",
       "──────────────────────────────────────────────────────────────────────────────\n",
       "                                     2                                        \n",
       "                                    r                                         \n",
       "\n",
       "Cᵣ   ⎞\n",
       "─────⎟\n",
       "     ⎟\n",
       "- r₀)⎠\n",
       "──────\n",
       "      \n",
       "      "
      ]
     },
     "execution_count": 38,
     "metadata": {},
     "output_type": "execute_result"
    }
   ],
   "source": [
    "momentum_equation = get_momentum_equation(p(r)).doit()\n",
    "momentum_equation"
   ]
  },
  {
   "cell_type": "markdown",
   "metadata": {},
   "source": [
    "Next, we solve this differential equation to give us an equation for the pressure:"
   ]
  },
  {
   "cell_type": "code",
   "execution_count": 39,
   "metadata": {},
   "outputs": [
    {
     "data": {
      "image/png": "[encoded data removed]",
      "text/latex": [
       "$$p{\\left (r \\right )} = \\frac{1}{r^{2} - 2 r r_{0} + r_{0}^{2}} \\left(- C_{1} r^{2} + 2 C_{1} r r_{0} - C_{1} r_{0}^{2} - \\frac{4 C_{r} \\mu}{3 r^{2}} - \\frac{g_{r} r^{4} \\rho_{0}}{2 r_{0}} + 2 g_{r} r^{3} \\rho_{0} - \\frac{5 g_{r}}{2} r^{2} r_{0} \\rho_{0} + g_{r} r r_{0}^{2} \\rho_{0}\\right)$$"
      ],
      "text/plain": [
       "                                                   4                         2\n",
       "             2                    2   4⋅Cᵣ⋅μ   gᵣ⋅r ⋅ρ₀         3      5⋅gᵣ⋅r \n",
       "       - C₁⋅r  + 2⋅C₁⋅r⋅r₀ - C₁⋅r₀  - ────── - ──────── + 2⋅gᵣ⋅r ⋅ρ₀ - ───────\n",
       "                                          2      2⋅r₀                        2\n",
       "                                       3⋅r                                    \n",
       "p(r) = ───────────────────────────────────────────────────────────────────────\n",
       "                                             2              2                 \n",
       "                                            r  - 2⋅r⋅r₀ + r₀                  \n",
       "\n",
       "                    \n",
       "⋅r₀⋅ρ₀          2   \n",
       "────── + gᵣ⋅r⋅r₀ ⋅ρ₀\n",
       "                    \n",
       "                    \n",
       "────────────────────\n",
       "                    \n",
       "                    "
      ]
     },
     "execution_count": 39,
     "metadata": {},
     "output_type": "execute_result"
    }
   ],
   "source": [
    "pressure_equation = dsolve(momentum_equation)\n",
    "pressure_equation"
   ]
  },
  {
   "cell_type": "code",
   "execution_count": 40,
   "metadata": {},
   "outputs": [
    {
     "data": {
      "image/png": "[encoded data removed]",
      "text/latex": [
       "$$\\frac{1}{r^{2} - 2 r r_{0} + r_{0}^{2}} \\left(- C_{1} r^{2} + 2 C_{1} r r_{0} - C_{1} r_{0}^{2} - \\frac{4 C_{r} \\mu}{3 r^{2}} - \\frac{g_{r} r^{4} \\rho_{0}}{2 r_{0}} + 2 g_{r} r^{3} \\rho_{0} - \\frac{5 g_{r}}{2} r^{2} r_{0} \\rho_{0} + g_{r} r r_{0}^{2} \\rho_{0}\\right)$$"
      ],
      "text/plain": [
       "                                            4                         2       \n",
       "      2                    2   4⋅Cᵣ⋅μ   gᵣ⋅r ⋅ρ₀         3      5⋅gᵣ⋅r ⋅r₀⋅ρ₀ \n",
       "- C₁⋅r  + 2⋅C₁⋅r⋅r₀ - C₁⋅r₀  - ────── - ──────── + 2⋅gᵣ⋅r ⋅ρ₀ - ───────────── \n",
       "                                   2      2⋅r₀                        2       \n",
       "                                3⋅r                                           \n",
       "──────────────────────────────────────────────────────────────────────────────\n",
       "                                      2              2                        \n",
       "                                     r  - 2⋅r⋅r₀ + r₀                         \n",
       "\n",
       "             \n",
       "         2   \n",
       "+ gᵣ⋅r⋅r₀ ⋅ρ₀\n",
       "             \n",
       "             \n",
       "─────────────\n",
       "             \n",
       "             "
      ]
     },
     "execution_count": 40,
     "metadata": {},
     "output_type": "execute_result"
    }
   ],
   "source": [
    "p = pressure_equation.rhs\n",
    "p"
   ]
  },
  {
   "cell_type": "markdown",
   "metadata": {},
   "source": [
    "We then perform two \"sanity checks\": we substitute the obtained equations into the continuity and momentum equations, which should then return zero:"
   ]
  },
  {
   "cell_type": "code",
   "execution_count": 41,
   "metadata": {
    "collapsed": true
   },
   "outputs": [
    {
     "data": {
      "image/png": "[encoded data removed]",
      "text/latex": [
       "$$0$$"
      ],
      "text/plain": [
       "0"
      ]
     },
     "execution_count": 41,
     "metadata": {},
     "output_type": "execute_result"
    }
   ],
   "source": [
    "get_momentum_equation(p).doit().simplify()"
   ]
  },
  {
   "cell_type": "code",
   "execution_count": null,
   "metadata": {},
   "outputs": [],
   "source": []
  },
  {
   "cell_type": "code",
   "execution_count": 44,
   "metadata": {
    "collapsed": true
   },
   "outputs": [
    {
     "data": {
      "image/png": "[encoded data removed]",
      "text/latex": [
       "$$0$$"
      ],
      "text/plain": [
       "0"
      ]
     },
     "execution_count": 44,
     "metadata": {},
     "output_type": "execute_result"
    }
   ],
   "source": [
    "get_continuity_equation(vr,rho).doit().simplify()"
   ]
  },
  {
   "cell_type": "markdown",
   "metadata": {},
   "source": [
    "This gives us the following final equations for the velocity and pressure:"
   ]
  },
  {
   "cell_type": "code",
   "execution_count": 69,
   "metadata": {},
   "outputs": [
    {
     "data": {
      "image/png": "[encoded data removed]",
      "text/latex": [
       "$$\\operatorname{v_{r}}{\\left (r \\right )} = \\frac{C_{r}}{r^{2} \\left(r - r_{0}\\right)}$$"
      ],
      "text/plain": [
       "             Cᵣ    \n",
       "vᵣ(r) = ───────────\n",
       "         2         \n",
       "        r ⋅(r - r₀)"
      ]
     },
     "execution_count": 69,
     "metadata": {},
     "output_type": "execute_result"
    }
   ],
   "source": [
    "velocity_equation"
   ]
  },
  {
   "cell_type": "code",
   "execution_count": 24,
   "metadata": {},
   "outputs": [
    {
     "data": {
      "image/png": "[encoded data removed]",
      "text/latex": [
       "$$p{\\left (r \\right )} = \\frac{1}{r^{2} - 2 r r_{0} + r_{0}^{2}} \\left(- C_{1} r^{2} + 2 C_{1} r r_{0} - C_{1} r_{0}^{2} - \\frac{4 C_{r} \\mu}{3 r^{2}} - \\frac{g_{r} r^{4} \\rho_{0}}{2 r_{0}} + 2 g_{r} r^{3} \\rho_{0} - \\frac{5 g_{r}}{2} r^{2} r_{0} \\rho_{0} + g_{r} r r_{0}^{2} \\rho_{0}\\right)$$"
      ],
      "text/plain": [
       "                                                   4                         2\n",
       "             2                    2   4⋅Cᵣ⋅μ   gᵣ⋅r ⋅ρ₀         3      5⋅gᵣ⋅r \n",
       "       - C₁⋅r  + 2⋅C₁⋅r⋅r₀ - C₁⋅r₀  - ────── - ──────── + 2⋅gᵣ⋅r ⋅ρ₀ - ───────\n",
       "                                          2      2⋅r₀                        2\n",
       "                                       3⋅r                                    \n",
       "p(r) = ───────────────────────────────────────────────────────────────────────\n",
       "                                             2              2                 \n",
       "                                            r  - 2⋅r⋅r₀ + r₀                  \n",
       "\n",
       "                    \n",
       "⋅r₀⋅ρ₀          2   \n",
       "────── + gᵣ⋅r⋅r₀ ⋅ρ₀\n",
       "                    \n",
       "                    \n",
       "────────────────────\n",
       "                    \n",
       "                    "
      ]
     },
     "execution_count": 24,
     "metadata": {},
     "output_type": "execute_result"
    }
   ],
   "source": [
    "pressure_equation"
   ]
  },
  {
   "cell_type": "markdown",
   "metadata": {},
   "source": [
    "Finally, we calculate the strain rates:"
   ]
  },
  {
   "cell_type": "code",
   "execution_count": 83,
   "metadata": {},
   "outputs": [
    {
     "data": {
      "image/png": "[encoded data removed]",
      "text/latex": [
       "$$- \\frac{C_{r}}{r^{2} \\left(r - r_{0}\\right)^{2}} - \\frac{2 C_{r}}{r^{3} \\left(r - r_{0}\\right)}$$"
      ],
      "text/plain": [
       "       Cᵣ            2⋅Cᵣ   \n",
       "- ──────────── - ───────────\n",
       "   2         2    3         \n",
       "  r ⋅(r - r₀)    r ⋅(r - r₀)"
      ]
     },
     "execution_count": 83,
     "metadata": {},
     "output_type": "execute_result"
    }
   ],
   "source": [
    "e_rr = Derivative(vr,r).doit()\n",
    "e_rr"
   ]
  },
  {
   "cell_type": "code",
   "execution_count": 73,
   "metadata": {},
   "outputs": [
    {
     "data": {
      "image/png": "[encoded data removed]",
      "text/latex": [
       "$$\\frac{C_{r}}{r^{3} \\left(r - r_{0}\\right)}$$"
      ],
      "text/plain": [
       "     Cᵣ    \n",
       "───────────\n",
       " 3         \n",
       "r ⋅(r - r₀)"
      ]
     },
     "execution_count": 73,
     "metadata": {},
     "output_type": "execute_result"
    }
   ],
   "source": [
    "e_thetatheta = vr/r\n",
    "e_thetatheta"
   ]
  },
  {
   "cell_type": "code",
   "execution_count": 80,
   "metadata": {},
   "outputs": [
    {
     "data": {
      "image/png": "[encoded data removed]",
      "text/latex": [
       "$$\\frac{C_{r}}{r^{3} \\left(r - r_{0}\\right)}$$"
      ],
      "text/plain": [
       "     Cᵣ    \n",
       "───────────\n",
       " 3         \n",
       "r ⋅(r - r₀)"
      ]
     },
     "execution_count": 80,
     "metadata": {},
     "output_type": "execute_result"
    }
   ],
   "source": [
    "e_phiphi = vr/r\n",
    "e_phiphi"
   ]
  },
  {
   "cell_type": "markdown",
   "metadata": {},
   "source": [
    "# Plotting"
   ]
  },
  {
   "cell_type": "markdown",
   "metadata": {},
   "source": [
    "Firstly, we need to generate functions from the above expressions for density, velocity and pressure:"
   ]
  },
  {
   "cell_type": "code",
   "execution_count": 62,
   "metadata": {},
   "outputs": [],
   "source": [
    "density_function = lambdify(r,rho.subs(rho0,1).subs(r0,0))"
   ]
  },
  {
   "cell_type": "code",
   "execution_count": 63,
   "metadata": {},
   "outputs": [],
   "source": [
    "velocity_function = lambdify(r,vr.subs(Cr,1).subs(rho0,1).subs(r0,0))"
   ]
  },
  {
   "cell_type": "code",
   "execution_count": 61,
   "metadata": {},
   "outputs": [],
   "source": [
    "pressure_function = lambdify(r,p.subs(C1,0).subs(Cr,1).subs(gr,1).subs(mu,1).subs(rho0,1).subs(r0,0))"
   ]
  },
  {
   "cell_type": "code",
   "execution_count": 84,
   "metadata": {},
   "outputs": [],
   "source": [
    "e_rr_function = lambdify(r,e_rr.subs(Cr,1).subs(r0,0))"
   ]
  },
  {
   "cell_type": "code",
   "execution_count": 81,
   "metadata": {},
   "outputs": [],
   "source": [
    "e_phiphi_function = lambdify(r,e_phiphi.subs(Cr,1).subs(r0,0))"
   ]
  },
  {
   "cell_type": "markdown",
   "metadata": {},
   "source": [
    "Now we need an x range to plot over:\n"
   ]
  },
  {
   "cell_type": "code",
   "execution_count": 65,
   "metadata": {},
   "outputs": [],
   "source": [
    "r_plotting = np.arange(2,3,0.01)"
   ]
  },
  {
   "cell_type": "markdown",
   "metadata": {},
   "source": [
    "Finally, we plot the density, velocity and pressure profiles:"
   ]
  },
  {
   "cell_type": "code",
   "execution_count": 88,
   "metadata": {
    "collapsed": true
   },
   "outputs": [
    {
     "data": {
      "text/plain": [
       "<matplotlib.text.Text at 0x7f11a41af400>"
      ]
     },
     "execution_count": 88,
     "metadata": {},
     "output_type": "execute_result"
    },
    {
     "data": {
      "image/png": "[encoded data removed]",
      "text/plain": [
       "<matplotlib.figure.Figure at 0x7f119ea26c50>"
      ]
     },
     "metadata": {},
     "output_type": "display_data"
    }
   ],
   "source": [
    "fig,axes = plt.subplots(2,2,figsize=(12,12))\n",
    "\n",
    "axes[0,0].plot(r_plotting,density_function(r_plotting))\n",
    "axes[0,0].set_xlabel(\"r\")\n",
    "axes[0,0].set_ylabel(r\"$\\rho$\")\n",
    "axes[0,0].set_title(\"Density\")\n",
    "\n",
    "axes[0,1].plot(r_plotting,velocity_function(r_plotting))\n",
    "axes[0,1].set_xlabel(\"r\")\n",
    "axes[0,1].set_ylabel(\"$v_x$\")\n",
    "axes[0,1].set_title(\"Velocity\")\n",
    "\n",
    "axes[1,0].plot(r_plotting,pressure_function(r_plotting))\n",
    "axes[1,0].set_xlabel(\"r\")\n",
    "axes[1,0].set_ylabel(\"$p$\")\n",
    "axes[1,0].set_title(\"Pressure\")\n",
    "\n",
    "axes[1,1].plot(r_plotting,e_rr_function(r_plotting),label=r\"$e_{rr}$\")\n",
    "axes[1,1].plot(r_plotting,e_phiphi_function(r_plotting),label=r\"$e_{\\phi \\phi}$ & $e_{\\theta \\theta}$\")\n",
    "axes[1,1].set_xlabel(\"r\")\n",
    "axes[1,1].set_ylabel(\"Strain\")\n",
    "axes[1,1].set_title(\"Strain\")\n",
    "axes[1,1].legend()\n",
    "\n",
    "fig.suptitle(\"Density, velocity, pressure and strain plots for 1D Spherical Benchmark\")"
   ]
  },
  {
   "cell_type": "code",
   "execution_count": 89,
   "metadata": {},
   "outputs": [],
   "source": [
    "fig.savefig(\"1DSpherical.png\")"
   ]
  }
 ],
 "metadata": {
  "kernelspec": {
   "display_name": "Python 3",
   "language": "python",
   "name": "python3"
  },
  "language_info": {
   "codemirror_mode": {
    "name": "ipython",
    "version": 3
   },
   "file_extension": ".py",
   "mimetype": "text/x-python",
   "name": "python",
   "nbconvert_exporter": "python",
   "pygments_lexer": "ipython3",
   "version": "3.6.2"
  }
 },
 "nbformat": 4,
 "nbformat_minor": 2
}
