{
 "cells": [
  {
   "cell_type": "markdown",
   "metadata": {},
   "source": [
    "# Analytical Benchmarks - 2D Cartesian Linear"
   ]
  },
  {
   "cell_type": "code",
   "execution_count": 1,
   "metadata": {
    "collapsed": true
   },
   "outputs": [],
   "source": [
    "#import and initialisation\n",
    "from sympy import *\n",
    "import matplotlib.pyplot as plt\n",
    "import numpy as np\n",
    "init_printing()\n",
    "%matplotlib inline"
   ]
  },
  {
   "cell_type": "code",
   "execution_count": 2,
   "metadata": {
    "collapsed": true
   },
   "outputs": [],
   "source": [
    "#define the symbols used in the derivation\n",
    "x,y,rho,C1,Cx,Cy,gx,mu,gy= symbols( 'x y rho C1 C_x C_y g_x mu g_y')\n",
    "exx,exy,eyx,eyy = symbols(\"e_{xx} e_{ex} e_{yx} e_{yy}\")\n",
    "rhox, rhoy, tau_xx, tau_xy, tau_yx, tau_yy = symbols(\"rho_x rho_y tau_{xx} tau_{xy} tau_{yx} tau_{yy}\")\n",
    "vx,vy = symbols('v_x v_y',function=True)\n",
    "p = symbols('p',function=True)"
   ]
  },
  {
   "cell_type": "markdown",
   "metadata": {},
   "source": [
    "Firstly, we define the continuity (mass conservation) equation and the momentum equation in 2D, as well as the 2D stress tensor ($\\tau$):"
   ]
  },
  {
   "cell_type": "code",
   "execution_count": 3,
   "metadata": {},
   "outputs": [],
   "source": [
    "def get_continuity_equation_x(vx,rhox):\n",
    "    return (1/vx)*Derivative(vx,x) + (1/rhox)*diff(rhox,x)"
   ]
  },
  {
   "cell_type": "code",
   "execution_count": 4,
   "metadata": {},
   "outputs": [],
   "source": [
    "def get_continuity_equation_y(vy,rhoy):\n",
    "    return (1/vy)*Derivative(vy,y) + (1/rhoy)*diff(rhoy,y)"
   ]
  },
  {
   "cell_type": "code",
   "execution_count": 5,
   "metadata": {},
   "outputs": [],
   "source": [
    "def get_velocity_divergence(vx,vy):\n",
    "    return Derivative(vx,x) + Derivative(vy,y)"
   ]
  },
  {
   "cell_type": "code",
   "execution_count": 6,
   "metadata": {
    "collapsed": true
   },
   "outputs": [],
   "source": [
    "def get_tau_xx():\n",
    "    div = get_velocity_divergence(vx,vy)\n",
    "    return 2*mu*Derivative(vx,x) - mu*div*Rational(2,3)"
   ]
  },
  {
   "cell_type": "code",
   "execution_count": 7,
   "metadata": {},
   "outputs": [],
   "source": [
    "def get_tau_yy():\n",
    "    div = get_velocity_divergence(vx,vy)\n",
    "    return 2*mu*Derivative(vy,y) - mu*div*Rational(2,3)"
   ]
  },
  {
   "cell_type": "code",
   "execution_count": 8,
   "metadata": {},
   "outputs": [],
   "source": [
    "def get_tau_xy():\n",
    "    return mu*(Derivative(vx,y) + Derivative(vy,x))"
   ]
  },
  {
   "cell_type": "code",
   "execution_count": 9,
   "metadata": {},
   "outputs": [],
   "source": [
    "def get_tau_yx():\n",
    "    return get_tau_xy()"
   ]
  },
  {
   "cell_type": "code",
   "execution_count": 10,
   "metadata": {
    "collapsed": true
   },
   "outputs": [],
   "source": [
    "def get_momentum_equation_x(p):\n",
    "    return -Derivative(p,x) + rho*gx + Derivative(tau_xx,x).doit() + Derivative(tau_xy,y).doit()"
   ]
  },
  {
   "cell_type": "code",
   "execution_count": 11,
   "metadata": {},
   "outputs": [],
   "source": [
    "def get_momentum_equation_y(p):\n",
    "    return -Derivative(p,y) + rho*gy + Derivative(tau_yx,x).doit() + Derivative(tau_yy,y).doit()"
   ]
  },
  {
   "cell_type": "markdown",
   "metadata": {},
   "source": [
    "Next we prescibe the density profile, and then get the continuity equation, in both x and y directions:"
   ]
  },
  {
   "cell_type": "code",
   "execution_count": 12,
   "metadata": {},
   "outputs": [],
   "source": [
    "rhox=x\n",
    "rhoy=y\n",
    "rho=rhox*rhoy"
   ]
  },
  {
   "cell_type": "code",
   "execution_count": 13,
   "metadata": {},
   "outputs": [
    {
     "data": {
      "image/png": "[encoded data removed]",
      "text/latex": [
       "$$\\frac{\\frac{d}{d x} \\operatorname{v_{x}}{\\left (x \\right )}}{\\operatorname{v_{x}}{\\left (x \\right )}} + \\frac{1}{x}$$"
      ],
      "text/plain": [
       "d            \n",
       "──(vₓ(x))    \n",
       "dx          1\n",
       "───────── + ─\n",
       "  vₓ(x)     x"
      ]
     },
     "execution_count": 13,
     "metadata": {},
     "output_type": "execute_result"
    }
   ],
   "source": [
    "continuity_equation_x = get_continuity_equation_x(vx(x),rhox)\n",
    "continuity_equation_x"
   ]
  },
  {
   "cell_type": "code",
   "execution_count": 14,
   "metadata": {},
   "outputs": [
    {
     "data": {
      "image/png": "[encoded data removed]",
      "text/latex": [
       "$$\\frac{\\frac{d}{d y} \\operatorname{v_{y}}{\\left (y \\right )}}{\\operatorname{v_{y}}{\\left (y \\right )}} + \\frac{1}{y}$$"
      ],
      "text/plain": [
       "d             \n",
       "──(v_y(y))    \n",
       "dy           1\n",
       "────────── + ─\n",
       "  v_y(y)     y"
      ]
     },
     "execution_count": 14,
     "metadata": {},
     "output_type": "execute_result"
    }
   ],
   "source": [
    "continuity_equation_y = get_continuity_equation_y(vy(y),rhoy)\n",
    "continuity_equation_y"
   ]
  },
  {
   "cell_type": "markdown",
   "metadata": {},
   "source": [
    "(Note that equations in Sympy are implicitly equal to zero)\n",
    "\n",
    "Then, we solve the continuity equations for the velocity:"
   ]
  },
  {
   "cell_type": "code",
   "execution_count": 15,
   "metadata": {},
   "outputs": [
    {
     "data": {
      "image/png": "[encoded data removed]",
      "text/latex": [
       "$$\\operatorname{v_{x}}{\\left (x \\right )} = \\frac{C_{1}}{x}$$"
      ],
      "text/plain": [
       "        C₁\n",
       "vₓ(x) = ──\n",
       "        x "
      ]
     },
     "execution_count": 15,
     "metadata": {},
     "output_type": "execute_result"
    }
   ],
   "source": [
    "velocity_equation_x = dsolve(continuity_equation_x)\n",
    "velocity_equation_x"
   ]
  },
  {
   "cell_type": "code",
   "execution_count": 16,
   "metadata": {},
   "outputs": [
    {
     "data": {
      "image/png": "[encoded data removed]",
      "text/latex": [
       "$$\\operatorname{v_{y}}{\\left (y \\right )} = \\frac{C_{1}}{y}$$"
      ],
      "text/plain": [
       "         C₁\n",
       "v_y(y) = ──\n",
       "         y "
      ]
     },
     "execution_count": 16,
     "metadata": {},
     "output_type": "execute_result"
    }
   ],
   "source": [
    "velocity_equation_y = dsolve(continuity_equation_y)\n",
    "velocity_equation_y"
   ]
  },
  {
   "cell_type": "markdown",
   "metadata": {},
   "source": [
    "Now assign this equation to a new value for $v_x$, and replace the placeholder constants $C1$ with the more informative $C_x$ and $C_y$:"
   ]
  },
  {
   "cell_type": "code",
   "execution_count": 17,
   "metadata": {},
   "outputs": [
    {
     "data": {
      "image/png": "[encoded data removed]",
      "text/latex": [
       "$$\\frac{C_{x}}{x}$$"
      ],
      "text/plain": [
       "Cₓ\n",
       "──\n",
       "x "
      ]
     },
     "execution_count": 17,
     "metadata": {},
     "output_type": "execute_result"
    }
   ],
   "source": [
    "vx = velocity_equation_x.rhs\n",
    "vx = vx.subs(C1,Cx)\n",
    "vx"
   ]
  },
  {
   "cell_type": "code",
   "execution_count": 18,
   "metadata": {},
   "outputs": [
    {
     "data": {
      "image/png": "[encoded data removed]",
      "text/latex": [
       "$$\\frac{C_{y}}{y}$$"
      ],
      "text/plain": [
       "C_y\n",
       "───\n",
       " y "
      ]
     },
     "execution_count": 18,
     "metadata": {},
     "output_type": "execute_result"
    }
   ],
   "source": [
    "vy = velocity_equation_y.rhs\n",
    "vy = vy.subs(C1,Cy)\n",
    "vy"
   ]
  },
  {
   "cell_type": "markdown",
   "metadata": {},
   "source": [
    "Next, we obtain the stress tensor $\\tau$:"
   ]
  },
  {
   "cell_type": "code",
   "execution_count": 19,
   "metadata": {},
   "outputs": [
    {
     "data": {
      "image/png": "[encoded data removed]",
      "text/latex": [
       "$$- \\frac{2 C_{x}}{x^{2}} \\mu - \\frac{2 \\mu}{3} \\left(- \\frac{C_{x}}{x^{2}} - \\frac{C_{y}}{y^{2}}\\right)$$"
      ],
      "text/plain": [
       "               ⎛  Cₓ   C_y⎞\n",
       "           2⋅μ⋅⎜- ── - ───⎟\n",
       "               ⎜   2     2⎟\n",
       "  2⋅Cₓ⋅μ       ⎝  x     y ⎠\n",
       "- ────── - ────────────────\n",
       "     2            3        \n",
       "    x                      "
      ]
     },
     "execution_count": 19,
     "metadata": {},
     "output_type": "execute_result"
    }
   ],
   "source": [
    "tau_xx = get_tau_xx()\n",
    "tau_xx.doit()"
   ]
  },
  {
   "cell_type": "code",
   "execution_count": 20,
   "metadata": {},
   "outputs": [
    {
     "data": {
      "image/png": "[encoded data removed]",
      "text/latex": [
       "$$0$$"
      ],
      "text/plain": [
       "0"
      ]
     },
     "execution_count": 20,
     "metadata": {},
     "output_type": "execute_result"
    }
   ],
   "source": [
    "tau_xy = get_tau_xy()\n",
    "tau_xy.doit()"
   ]
  },
  {
   "cell_type": "code",
   "execution_count": 21,
   "metadata": {},
   "outputs": [
    {
     "data": {
      "image/png": "[encoded data removed]",
      "text/latex": [
       "$$0$$"
      ],
      "text/plain": [
       "0"
      ]
     },
     "execution_count": 21,
     "metadata": {},
     "output_type": "execute_result"
    }
   ],
   "source": [
    "tau_yx = get_tau_yx()\n",
    "tau_yx.doit()"
   ]
  },
  {
   "cell_type": "code",
   "execution_count": 22,
   "metadata": {},
   "outputs": [
    {
     "data": {
      "image/png": "[encoded data removed]",
      "text/latex": [
       "$$- \\frac{2 C_{y}}{y^{2}} \\mu - \\frac{2 \\mu}{3} \\left(- \\frac{C_{x}}{x^{2}} - \\frac{C_{y}}{y^{2}}\\right)$$"
      ],
      "text/plain": [
       "                ⎛  Cₓ   C_y⎞\n",
       "            2⋅μ⋅⎜- ── - ───⎟\n",
       "                ⎜   2     2⎟\n",
       "  2⋅C_y⋅μ       ⎝  x     y ⎠\n",
       "- ─────── - ────────────────\n",
       "      2            3        \n",
       "     y                      "
      ]
     },
     "execution_count": 22,
     "metadata": {},
     "output_type": "execute_result"
    }
   ],
   "source": [
    "tau_yy = get_tau_yy()\n",
    "tau_yy.doit()"
   ]
  },
  {
   "cell_type": "markdown",
   "metadata": {},
   "source": [
    "Now, we prescibe the gravitational field:"
   ]
  },
  {
   "cell_type": "code",
   "execution_count": 23,
   "metadata": {},
   "outputs": [],
   "source": [
    "gx = 1/y\n",
    "gy = 1/x"
   ]
  },
  {
   "cell_type": "markdown",
   "metadata": {},
   "source": [
    "Then, we obtain the momentum equations:"
   ]
  },
  {
   "cell_type": "code",
   "execution_count": 24,
   "metadata": {},
   "outputs": [
    {
     "data": {
      "image/png": "[encoded data removed]",
      "text/latex": [
       "$$\\frac{8 C_{x} \\mu}{3 x^{3}} + x - \\frac{\\partial}{\\partial x} p{\\left (x,y \\right )}$$"
      ],
      "text/plain": [
       "8⋅Cₓ⋅μ       ∂          \n",
       "────── + x - ──(p(x, y))\n",
       "    3        ∂x         \n",
       " 3⋅x                    "
      ]
     },
     "execution_count": 24,
     "metadata": {},
     "output_type": "execute_result"
    }
   ],
   "source": [
    "momentum_equation_x = get_momentum_equation_x(p(x,y))\n",
    "momentum_equation_x"
   ]
  },
  {
   "cell_type": "code",
   "execution_count": 25,
   "metadata": {},
   "outputs": [
    {
     "data": {
      "image/png": "[encoded data removed]",
      "text/latex": [
       "$$\\frac{8 C_{y} \\mu}{3 y^{3}} + y - \\frac{\\partial}{\\partial y} p{\\left (x,y \\right )}$$"
      ],
      "text/plain": [
       "8⋅C_y⋅μ       ∂          \n",
       "─────── + y - ──(p(x, y))\n",
       "     3        ∂y         \n",
       "  3⋅y                    "
      ]
     },
     "execution_count": 25,
     "metadata": {},
     "output_type": "execute_result"
    }
   ],
   "source": [
    "momentum_equation_y = get_momentum_equation_y(p(x,y))\n",
    "momentum_equation_y"
   ]
  },
  {
   "cell_type": "markdown",
   "metadata": {},
   "source": [
    "Next, we solve this differential equation (by integrating with respect to x) to give us an equation for the pressure:"
   ]
  },
  {
   "cell_type": "code",
   "execution_count": 26,
   "metadata": {},
   "outputs": [
    {
     "data": {
      "image/png": "[encoded data removed]",
      "text/latex": [
       "$$p{\\left (x,y \\right )} = - \\frac{4 C_{x} \\mu}{3 x^{2}} + \\frac{x^{2}}{2} + F{\\left (y \\right )}$$"
      ],
      "text/plain": [
       "                      2       \n",
       "            4⋅Cₓ⋅μ   x        \n",
       "p(x, y) = - ────── + ── + F(y)\n",
       "                2    2        \n",
       "             3⋅x              "
      ]
     },
     "execution_count": 26,
     "metadata": {},
     "output_type": "execute_result"
    }
   ],
   "source": [
    "pressure_equation = pdsolve(momentum_equation_x)\n",
    "pressure_equation"
   ]
  },
  {
   "cell_type": "markdown",
   "metadata": {},
   "source": [
    "This equation features the unknown function F(y).\n",
    "To find this function, we first differentiate both sides with respect to y:"
   ]
  },
  {
   "cell_type": "code",
   "execution_count": 27,
   "metadata": {},
   "outputs": [
    {
     "data": {
      "image/png": "[encoded data removed]",
      "text/latex": [
       "$$\\frac{\\partial}{\\partial y} p{\\left (x,y \\right )} = - \\frac{4 C_{x} \\mu}{3 x^{2}} + \\frac{x^{2}}{2} + F{\\left (y \\right )}$$"
      ],
      "text/plain": [
       "  ⎛                      2       ⎞\n",
       "∂ ⎜            4⋅Cₓ⋅μ   x        ⎟\n",
       "──⎜p(x, y) = - ────── + ── + F(y)⎟\n",
       "∂y⎜                2    2        ⎟\n",
       "  ⎝             3⋅x              ⎠"
      ]
     },
     "execution_count": 27,
     "metadata": {},
     "output_type": "execute_result"
    }
   ],
   "source": [
    "pressure_equation_derivative = Derivative(pressure_equation,y)\n",
    "pressure_equation_derivative"
   ]
  },
  {
   "cell_type": "markdown",
   "metadata": {},
   "source": [
    "We then substitute this equation for dp/dy into the y-dimension momentum equation:"
   ]
  },
  {
   "cell_type": "code",
   "execution_count": 28,
   "metadata": {},
   "outputs": [
    {
     "data": {
      "image/png": "[encoded data removed]",
      "text/latex": [
       "$$\\frac{8 C_{y} \\mu}{3 y^{3}} + y - \\frac{d}{d y} F{\\left (y \\right )}$$"
      ],
      "text/plain": [
       "8⋅C_y⋅μ       d       \n",
       "─────── + y - ──(F(y))\n",
       "     3        dy      \n",
       "  3⋅y                 "
      ]
     },
     "execution_count": 28,
     "metadata": {},
     "output_type": "execute_result"
    }
   ],
   "source": [
    "F_equation = momentum_equation_y.subs(Derivative(pressure_equation.lhs,y),\n",
    "                         Derivative(pressure_equation.rhs,y)).doit()\n",
    "F_equation"
   ]
  },
  {
   "cell_type": "markdown",
   "metadata": {},
   "source": [
    "We then solve this equation for F, by integrating with respect to y:"
   ]
  },
  {
   "cell_type": "code",
   "execution_count": 29,
   "metadata": {},
   "outputs": [
    {
     "data": {
      "image/png": "[encoded data removed]",
      "text/latex": [
       "$$F{\\left (y \\right )} = C_{1} - \\frac{4 C_{y} \\mu}{3 y^{2}} + \\frac{y^{2}}{2}$$"
      ],
      "text/plain": [
       "                       2\n",
       "            4⋅C_y⋅μ   y \n",
       "F(y) = C₁ - ─────── + ──\n",
       "                 2    2 \n",
       "              3⋅y       "
      ]
     },
     "execution_count": 29,
     "metadata": {},
     "output_type": "execute_result"
    }
   ],
   "source": [
    "F_solved = dsolve(F_equation)\n",
    "F_solved"
   ]
  },
  {
   "cell_type": "markdown",
   "metadata": {},
   "source": [
    "We then substitute this equation for y into the previous pressure equation, thus giving us a final equation for the pressure:"
   ]
  },
  {
   "cell_type": "code",
   "execution_count": 30,
   "metadata": {},
   "outputs": [
    {
     "data": {
      "image/png": "[encoded data removed]",
      "text/latex": [
       "$$p{\\left (x,y \\right )} = C_{1} - \\frac{4 C_{x} \\mu}{3 x^{2}} - \\frac{4 C_{y} \\mu}{3 y^{2}} + \\frac{x^{2}}{2} + \\frac{y^{2}}{2}$$"
      ],
      "text/plain": [
       "                                   2    2\n",
       "               4⋅Cₓ⋅μ   4⋅C_y⋅μ   x    y \n",
       "p(x, y) = C₁ - ────── - ─────── + ── + ──\n",
       "                   2         2    2    2 \n",
       "                3⋅x       3⋅y            "
      ]
     },
     "execution_count": 30,
     "metadata": {},
     "output_type": "execute_result"
    }
   ],
   "source": [
    "pressure_equation_final = pressure_equation.subs(F_solved.lhs,F_solved.rhs)\n",
    "pressure_equation_final"
   ]
  },
  {
   "cell_type": "code",
   "execution_count": 31,
   "metadata": {},
   "outputs": [
    {
     "data": {
      "image/png": "[encoded data removed]",
      "text/latex": [
       "$$C_{1} - \\frac{4 C_{x} \\mu}{3 x^{2}} - \\frac{4 C_{y} \\mu}{3 y^{2}} + \\frac{x^{2}}{2} + \\frac{y^{2}}{2}$$"
      ],
      "text/plain": [
       "                         2    2\n",
       "     4⋅Cₓ⋅μ   4⋅C_y⋅μ   x    y \n",
       "C₁ - ────── - ─────── + ── + ──\n",
       "         2         2    2    2 \n",
       "      3⋅x       3⋅y            "
      ]
     },
     "execution_count": 31,
     "metadata": {},
     "output_type": "execute_result"
    }
   ],
   "source": [
    "p = pressure_equation_final.rhs\n",
    "p"
   ]
  },
  {
   "cell_type": "markdown",
   "metadata": {},
   "source": [
    "We then perform two \"sanity checks\": we substitute the obtained equations into the continuity and momentum equations, which should then return zero:"
   ]
  },
  {
   "cell_type": "code",
   "execution_count": 32,
   "metadata": {
    "collapsed": true
   },
   "outputs": [
    {
     "data": {
      "image/png": "[encoded data removed]",
      "text/latex": [
       "$$0$$"
      ],
      "text/plain": [
       "0"
      ]
     },
     "execution_count": 32,
     "metadata": {},
     "output_type": "execute_result"
    }
   ],
   "source": [
    "get_momentum_equation_x(p).doit()"
   ]
  },
  {
   "cell_type": "code",
   "execution_count": 33,
   "metadata": {},
   "outputs": [
    {
     "data": {
      "image/png": "[encoded data removed]",
      "text/latex": [
       "$$0$$"
      ],
      "text/plain": [
       "0"
      ]
     },
     "execution_count": 33,
     "metadata": {},
     "output_type": "execute_result"
    }
   ],
   "source": [
    "get_momentum_equation_y(p).doit()"
   ]
  },
  {
   "cell_type": "code",
   "execution_count": 34,
   "metadata": {
    "collapsed": true
   },
   "outputs": [
    {
     "data": {
      "image/png": "[encoded data removed]",
      "text/latex": [
       "$$0$$"
      ],
      "text/plain": [
       "0"
      ]
     },
     "execution_count": 34,
     "metadata": {},
     "output_type": "execute_result"
    }
   ],
   "source": [
    "get_continuity_equation_x(vx,rho).doit()"
   ]
  },
  {
   "cell_type": "markdown",
   "metadata": {},
   "source": [
    "Finally, we need to calculate the strain rate:"
   ]
  },
  {
   "cell_type": "code",
   "execution_count": 35,
   "metadata": {},
   "outputs": [
    {
     "data": {
      "image/png": "[encoded data removed]",
      "text/latex": [
       "$$- \\frac{C_{x}}{x^{2}}$$"
      ],
      "text/plain": [
       "-Cₓ \n",
       "────\n",
       "  2 \n",
       " x  "
      ]
     },
     "execution_count": 35,
     "metadata": {},
     "output_type": "execute_result"
    }
   ],
   "source": [
    "exx = Derivative(vx,x).doit()\n",
    "exx"
   ]
  },
  {
   "cell_type": "code",
   "execution_count": 36,
   "metadata": {},
   "outputs": [
    {
     "data": {
      "image/png": "[encoded data removed]",
      "text/latex": [
       "$$0$$"
      ],
      "text/plain": [
       "0"
      ]
     },
     "execution_count": 36,
     "metadata": {},
     "output_type": "execute_result"
    }
   ],
   "source": [
    "exy = Derivative(vx,y).doit()\n",
    "exy"
   ]
  },
  {
   "cell_type": "code",
   "execution_count": 37,
   "metadata": {},
   "outputs": [
    {
     "data": {
      "image/png": "[encoded data removed]",
      "text/latex": [
       "$$0$$"
      ],
      "text/plain": [
       "0"
      ]
     },
     "execution_count": 37,
     "metadata": {},
     "output_type": "execute_result"
    }
   ],
   "source": [
    "eyx = Derivative(vy,x).doit()\n",
    "eyx"
   ]
  },
  {
   "cell_type": "code",
   "execution_count": 38,
   "metadata": {},
   "outputs": [
    {
     "data": {
      "image/png": "[encoded data removed]",
      "text/latex": [
       "$$- \\frac{C_{y}}{y^{2}}$$"
      ],
      "text/plain": [
       "-C_y \n",
       "─────\n",
       "   2 \n",
       "  y  "
      ]
     },
     "execution_count": 38,
     "metadata": {},
     "output_type": "execute_result"
    }
   ],
   "source": [
    "eyy = Derivative(vy,y).doit()\n",
    "eyy"
   ]
  },
  {
   "cell_type": "markdown",
   "metadata": {},
   "source": [
    "This gives us the following final equations for the velocity and pressure:"
   ]
  },
  {
   "cell_type": "code",
   "execution_count": 39,
   "metadata": {},
   "outputs": [
    {
     "data": {
      "image/png": "[encoded data removed]",
      "text/latex": [
       "$$\\operatorname{v_{x}}{\\left (x \\right )} = \\frac{C_{1}}{x}$$"
      ],
      "text/plain": [
       "        C₁\n",
       "vₓ(x) = ──\n",
       "        x "
      ]
     },
     "execution_count": 39,
     "metadata": {},
     "output_type": "execute_result"
    }
   ],
   "source": [
    "velocity_equation_x"
   ]
  },
  {
   "cell_type": "code",
   "execution_count": 40,
   "metadata": {},
   "outputs": [
    {
     "data": {
      "image/png": "[encoded data removed]",
      "text/latex": [
       "$$\\operatorname{v_{y}}{\\left (y \\right )} = \\frac{C_{1}}{y}$$"
      ],
      "text/plain": [
       "         C₁\n",
       "v_y(y) = ──\n",
       "         y "
      ]
     },
     "execution_count": 40,
     "metadata": {},
     "output_type": "execute_result"
    }
   ],
   "source": [
    "velocity_equation_y"
   ]
  },
  {
   "cell_type": "code",
   "execution_count": 41,
   "metadata": {},
   "outputs": [
    {
     "data": {
      "image/png": "[encoded data removed]",
      "text/latex": [
       "$$p{\\left (x,y \\right )} = C_{1} - \\frac{4 C_{x} \\mu}{3 x^{2}} - \\frac{4 C_{y} \\mu}{3 y^{2}} + \\frac{x^{2}}{2} + \\frac{y^{2}}{2}$$"
      ],
      "text/plain": [
       "                                   2    2\n",
       "               4⋅Cₓ⋅μ   4⋅C_y⋅μ   x    y \n",
       "p(x, y) = C₁ - ────── - ─────── + ── + ──\n",
       "                   2         2    2    2 \n",
       "                3⋅x       3⋅y            "
      ]
     },
     "execution_count": 41,
     "metadata": {},
     "output_type": "execute_result"
    }
   ],
   "source": [
    "pressure_equation_final"
   ]
  },
  {
   "cell_type": "markdown",
   "metadata": {},
   "source": [
    "Now we calculate the equation for $\\phi$ in this case so I can check if my code is in any way functional"
   ]
  },
  {
   "cell_type": "code",
   "execution_count": 42,
   "metadata": {},
   "outputs": [
    {
     "data": {
      "image/png": "[encoded data removed]",
      "text/latex": [
       "$$- \\frac{1}{y^{2}} \\left(- \\frac{4}{3 y^{2}} + \\frac{2}{3 x^{2}}\\right) - \\frac{1}{x^{2}} \\left(\\frac{2}{3 y^{2}} - \\frac{4}{3 x^{2}}\\right)$$"
      ],
      "text/plain": [
       "     4      2      2      4  \n",
       "  - ──── + ────   ──── - ────\n",
       "       2      2      2      2\n",
       "    3⋅y    3⋅x    3⋅y    3⋅x \n",
       "- ───────────── - ───────────\n",
       "         2              2    \n",
       "        y              x     "
      ]
     },
     "execution_count": 42,
     "metadata": {},
     "output_type": "execute_result"
    }
   ],
   "source": [
    "phi = exx*tau_xx + eyy*tau_yy\n",
    "phi.doit().subs(Cx,1).subs(Cy,1).subs(mu,1)"
   ]
  },
  {
   "cell_type": "code",
   "execution_count": 43,
   "metadata": {},
   "outputs": [
    {
     "data": {
      "image/png": "[encoded data removed]",
      "text/latex": [
       "$$1.70776190766022$$"
      ],
      "text/plain": [
       "1.70776190766022"
      ]
     },
     "execution_count": 43,
     "metadata": {},
     "output_type": "execute_result"
    }
   ],
   "source": [
    "phi.doit().subs(Cx,1).subs(Cy,1).subs(mu,1).subs(x,0.94).subs(y,0.94)"
   ]
  },
  {
   "cell_type": "code",
   "execution_count": 44,
   "metadata": {},
   "outputs": [
    {
     "data": {
      "text/plain": [
       "<function numpy.<lambda>>"
      ]
     },
     "execution_count": 44,
     "metadata": {},
     "output_type": "execute_result"
    }
   ],
   "source": [
    "lambdify((x,y),phi.doit().subs(Cx,1).subs(Cy,1).subs(mu,1))"
   ]
  },
  {
   "cell_type": "code",
   "execution_count": 45,
   "metadata": {},
   "outputs": [],
   "source": [
    "from mpmath import mp"
   ]
  },
  {
   "cell_type": "code",
   "execution_count": 64,
   "metadata": {},
   "outputs": [
    {
     "data": {
      "text/plain": [
       "mpf('0.39291706132300058')"
      ]
     },
     "execution_count": 64,
     "metadata": {},
     "output_type": "execute_result"
    }
   ],
   "source": [
    "mp.quad(lambdify((x,y),phi.doit().subs(Cx,1).subs(Cy,1).subs(mu,1)),(1.02,1.98),(1.02,1.98))"
   ]
  },
  {
   "cell_type": "code",
   "execution_count": 60,
   "metadata": {},
   "outputs": [
    {
     "data": {
      "image/png": "[encoded data removed]",
      "text/latex": [
       "$$\\frac{4}{3 y^{4}} - \\frac{4}{3 x^{2} y^{2}} + \\frac{4}{3 x^{4}}$$"
      ],
      "text/plain": [
       " 4        4       4  \n",
       "──── - ─────── + ────\n",
       "   4      2  2      4\n",
       "3⋅y    3⋅x ⋅y    3⋅x "
      ]
     },
     "execution_count": 60,
     "metadata": {},
     "output_type": "execute_result"
    }
   ],
   "source": [
    "phi.doit().expand().subs(Cx,1).subs(Cy,1).subs(mu,1)"
   ]
  },
  {
   "cell_type": "code",
   "execution_count": 65,
   "metadata": {},
   "outputs": [
    {
     "data": {
      "image/png": "[encoded data removed]",
      "text/latex": [
       "$$\\frac{10}{243}$$"
      ],
      "text/plain": [
       " 10\n",
       "───\n",
       "243"
      ]
     },
     "execution_count": 65,
     "metadata": {},
     "output_type": "execute_result"
    }
   ],
   "source": [
    "integrate(integrate(phi.doit().expand().subs(Cx,1).subs(Cy,1).subs(mu,1),(x,2,3)),(y,2,3))"
   ]
  },
  {
   "cell_type": "markdown",
   "metadata": {},
   "source": [
    "# Plotting"
   ]
  },
  {
   "cell_type": "markdown",
   "metadata": {},
   "source": [
    "Firstly, we need to generate functions from the above expressions for density, velocity and pressure:"
   ]
  },
  {
   "cell_type": "code",
   "execution_count": 47,
   "metadata": {},
   "outputs": [],
   "source": [
    "density_function = lambdify((x,y),rho)"
   ]
  },
  {
   "cell_type": "code",
   "execution_count": 48,
   "metadata": {},
   "outputs": [],
   "source": [
    "vx_function = lambdify((x,y),vx.subs(Cx,1))"
   ]
  },
  {
   "cell_type": "code",
   "execution_count": 49,
   "metadata": {},
   "outputs": [],
   "source": [
    "vy_function = lambdify((x,y),vy.subs(Cy,1))"
   ]
  },
  {
   "cell_type": "code",
   "execution_count": 50,
   "metadata": {},
   "outputs": [],
   "source": [
    "def v_magnitude_function(x,y):\n",
    "    return np.sqrt(vy_function(x,y)**2 + vx_function(x,y)**2)"
   ]
  },
  {
   "cell_type": "code",
   "execution_count": 51,
   "metadata": {},
   "outputs": [],
   "source": [
    "pressure_function = lambdify((x,y),p.subs(C1,0).subs(Cx,1).subs(mu,1).subs(Cy,1))"
   ]
  },
  {
   "cell_type": "code",
   "execution_count": 52,
   "metadata": {},
   "outputs": [],
   "source": [
    "exx_function = lambdify((x,y),exx.subs(Cx,1))"
   ]
  },
  {
   "cell_type": "code",
   "execution_count": 53,
   "metadata": {},
   "outputs": [],
   "source": [
    "eyy_function = lambdify((x,y),eyy.subs(Cy,1))"
   ]
  },
  {
   "cell_type": "markdown",
   "metadata": {},
   "source": [
    "Now we need an x range to plot over:\n"
   ]
  },
  {
   "cell_type": "code",
   "execution_count": 54,
   "metadata": {},
   "outputs": [],
   "source": [
    "x_plotting = np.arange(1,2,0.01)\n",
    "y_plotting = np.arange(1,2,0.01)\n",
    "X_plotting,Y_plotting = np.meshgrid(x_plotting,y_plotting)"
   ]
  },
  {
   "cell_type": "markdown",
   "metadata": {},
   "source": [
    "Finally, we plot the density, velocity and pressure profiles:"
   ]
  },
  {
   "cell_type": "code",
   "execution_count": 55,
   "metadata": {
    "collapsed": true
   },
   "outputs": [
    {
     "data": {
      "text/plain": [
       "<matplotlib.text.Text at 0x7faedd1e3be0>"
      ]
     },
     "execution_count": 55,
     "metadata": {},
     "output_type": "execute_result"
    },
    {
     "data": {
      "image/png": "[encoded data removed]",
      "text/plain": [
       "<matplotlib.figure.Figure at 0x7faee47e86d8>"
      ]
     },
     "metadata": {},
     "output_type": "display_data"
    }
   ],
   "source": [
    "fig,axes = plt.subplots(3,2,figsize=(12,18))\n",
    "\n",
    "axes[0,0].contourf(X_plotting,Y_plotting,density_function(X_plotting,Y_plotting))\n",
    "axes[0,0].contour(X_plotting,Y_plotting,density_function(X_plotting,Y_plotting))\n",
    "axes[0,0].set_xlabel(\"$x$\")\n",
    "axes[0,0].set_ylabel(\"$y$\")\n",
    "axes[0,0].set_title(r\"Density ($\\rho$)\")\n",
    "\n",
    "axes[0,1].contourf(X_plotting,Y_plotting,pressure_function(X_plotting,Y_plotting))\n",
    "axes[0,1].contour(X_plotting,Y_plotting,pressure_function(X_plotting,Y_plotting))\n",
    "axes[0,1].set_xlabel(\"$x$\")\n",
    "axes[0,1].set_ylabel(\"$y$\")\n",
    "axes[0,1].set_title(r\"Pressure ($p$)\")\n",
    "\n",
    "axes[1,0].contourf(X_plotting,Y_plotting,vx_function(X_plotting,Y_plotting))\n",
    "axes[1,0].contour(X_plotting,Y_plotting,vx_function(X_plotting,Y_plotting))\n",
    "axes[1,0].set_xlabel(\"$x$\")\n",
    "axes[1,0].set_ylabel(\"$y$\")\n",
    "axes[1,0].set_title(r\"x-Velocity ($v_x$)\")\n",
    "\n",
    "axes[1,1].contourf(X_plotting,Y_plotting,vy_function(X_plotting,Y_plotting))\n",
    "axes[1,1].contour(X_plotting,Y_plotting,vy_function(X_plotting,Y_plotting))\n",
    "axes[1,1].set_xlabel(\"$x$\")\n",
    "axes[1,1].set_ylabel(\"$y$\")\n",
    "axes[1,1].set_title(r\"y-Velocity ($v_y$)\")\n",
    "\n",
    "axes[2,0].contourf(X_plotting,Y_plotting,exx_function(X_plotting,Y_plotting))\n",
    "axes[2,0].contour(X_plotting,Y_plotting,exx_function(X_plotting,Y_plotting))\n",
    "axes[2,0].set_xlabel(\"$x$\")\n",
    "axes[2,0].set_ylabel(\"$y$\")\n",
    "axes[2,0].set_title(r\"xx Strain Rate ($e_{xx}$)\")\n",
    "\n",
    "axes[2,1].contourf(X_plotting,Y_plotting,eyy_function(X_plotting,Y_plotting))\n",
    "axes[2,1].contour(X_plotting,Y_plotting,eyy_function(X_plotting,Y_plotting))\n",
    "axes[2,1].set_xlabel(\"$x$\")\n",
    "axes[2,1].set_ylabel(\"$y$\")\n",
    "axes[2,1].set_title(r\"yy Strain Rate ($e_{yy}$)\")"
   ]
  },
  {
   "cell_type": "code",
   "execution_count": 56,
   "metadata": {},
   "outputs": [],
   "source": [
    "#fig.savefig(\"2DCartesianLinear.pdf\")"
   ]
  },
  {
   "cell_type": "code",
   "execution_count": null,
   "metadata": {},
   "outputs": [],
   "source": []
  }
 ],
 "metadata": {
  "kernelspec": {
   "display_name": "Python 3",
   "language": "python",
   "name": "python3"
  },
  "language_info": {
   "codemirror_mode": {
    "name": "ipython",
    "version": 3
   },
   "file_extension": ".py",
   "mimetype": "text/x-python",
   "name": "python",
   "nbconvert_exporter": "python",
   "pygments_lexer": "ipython3",
   "version": "3.6.2"
  }
 },
 "nbformat": 4,
 "nbformat_minor": 2
}
