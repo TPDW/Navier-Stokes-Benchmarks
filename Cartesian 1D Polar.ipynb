{
 "cells": [
  {
   "cell_type": "markdown",
   "metadata": {},
   "source": [
    "# Analytical Benchmarks - 1D Polar "
   ]
  },
  {
   "cell_type": "code",
   "execution_count": 2,
   "metadata": {
    "collapsed": true
   },
   "outputs": [],
   "source": [
    "#import and initialisation\n",
    "from sympy import *\n",
    "import matplotlib.pyplot as plt\n",
    "import numpy as np\n",
    "init_printing()\n",
    "%matplotlib inline"
   ]
  },
  {
   "cell_type": "code",
   "execution_count": 3,
   "metadata": {
    "collapsed": true
   },
   "outputs": [],
   "source": [
    "#define the symbols used in the derivation\n",
    "r,rho,C1,Cr,gr,mu,tau,err,ethetatheta= symbols( 'r  rho C1 C_r g_r mu tau e_rr e_{thetatheta}')\n",
    "vr = symbols('v_r',function=True)\n",
    "p = symbols('p',function=True)"
   ]
  },
  {
   "cell_type": "markdown",
   "metadata": {},
   "source": [
    "Firstly, we define the continuity (mass conservation) equation and the momentum equation in 1D, as well as the 1D stress tensor ($\\tau$):"
   ]
  },
  {
   "cell_type": "code",
   "execution_count": 4,
   "metadata": {},
   "outputs": [],
   "source": [
    "def get_continuity_equation(vr,rho):\n",
    "    return 1/r*Derivative(rho*r*vr,r)"
   ]
  },
  {
   "cell_type": "code",
   "execution_count": 5,
   "metadata": {
    "collapsed": true
   },
   "outputs": [],
   "source": [
    "def get_tau_rr():\n",
    "    return -2*mu*Derivative(vr,r) + mu*Derivative(r*vr,r)*Rational(2,3)/r"
   ]
  },
  {
   "cell_type": "code",
   "execution_count": 6,
   "metadata": {},
   "outputs": [],
   "source": [
    "def get_tau_thetatheta():\n",
    "    return -2*mu*vr/r + mu*Derivative(r*vr,r)*Rational(2,3)/r"
   ]
  },
  {
   "cell_type": "code",
   "execution_count": 7,
   "metadata": {
    "collapsed": true
   },
   "outputs": [],
   "source": [
    "def get_momentum_equation(p):\n",
    "    return -Derivative(p,r) + rho*gr - (1/r*Derivative(r*tau_rr,r).doit() - tau_thetatheta/r )"
   ]
  },
  {
   "cell_type": "markdown",
   "metadata": {},
   "source": [
    "Next we prescibe the density profile, and then get the continuity equation:"
   ]
  },
  {
   "cell_type": "code",
   "execution_count": 8,
   "metadata": {},
   "outputs": [
    {
     "data": {
      "image/png": "[encoded data removed]",
      "text/latex": [
       "$$\\frac{1}{r} \\frac{d}{d r}\\left(r^{2} \\operatorname{v_{r}}{\\left (r \\right )}\\right)$$"
      ],
      "text/plain": [
       "d ⎛ 2      ⎞\n",
       "──⎝r ⋅vᵣ(r)⎠\n",
       "dr          \n",
       "────────────\n",
       "     r      "
      ]
     },
     "execution_count": 8,
     "metadata": {},
     "output_type": "execute_result"
    }
   ],
   "source": [
    "rho=r\n",
    "continuity_equation = get_continuity_equation(vr(r),rho)\n",
    "continuity_equation"
   ]
  },
  {
   "cell_type": "markdown",
   "metadata": {},
   "source": [
    "(Note that equations in Sympy are implicitly equal to zero)\n",
    "\n",
    "Then, we solve the continuity equation for the velocity:"
   ]
  },
  {
   "cell_type": "code",
   "execution_count": 9,
   "metadata": {},
   "outputs": [
    {
     "data": {
      "image/png": "[encoded data removed]",
      "text/latex": [
       "$$\\operatorname{v_{r}}{\\left (r \\right )} = \\frac{C_{1}}{r^{2}}$$"
      ],
      "text/plain": [
       "        C₁\n",
       "vᵣ(r) = ──\n",
       "         2\n",
       "        r "
      ]
     },
     "execution_count": 9,
     "metadata": {},
     "output_type": "execute_result"
    }
   ],
   "source": [
    "velocity_equation = dsolve(continuity_equation)\n",
    "velocity_equation"
   ]
  },
  {
   "cell_type": "markdown",
   "metadata": {},
   "source": [
    "Now assign this equation to a new value for $v_x$, and replace the placeholder constant $C1$ with the more informative $C_x$:"
   ]
  },
  {
   "cell_type": "code",
   "execution_count": 10,
   "metadata": {},
   "outputs": [
    {
     "data": {
      "image/png": "[encoded data removed]",
      "text/latex": [
       "$$\\frac{C_{r}}{r^{2}}$$"
      ],
      "text/plain": [
       "Cᵣ\n",
       "──\n",
       " 2\n",
       "r "
      ]
     },
     "execution_count": 10,
     "metadata": {},
     "output_type": "execute_result"
    }
   ],
   "source": [
    "vr = velocity_equation.rhs\n",
    "vr = vr.subs(C1,Cr)\n",
    "vr"
   ]
  },
  {
   "cell_type": "markdown",
   "metadata": {},
   "source": [
    "Next, we obtain the stress tensor $\\tau$:"
   ]
  },
  {
   "cell_type": "code",
   "execution_count": 11,
   "metadata": {},
   "outputs": [
    {
     "data": {
      "image/png": "[encoded data removed]",
      "text/latex": [
       "$$\\frac{10 C_{r} \\mu}{3 r^{3}}$$"
      ],
      "text/plain": [
       "10⋅Cᵣ⋅μ\n",
       "───────\n",
       "     3 \n",
       "  3⋅r  "
      ]
     },
     "execution_count": 11,
     "metadata": {},
     "output_type": "execute_result"
    }
   ],
   "source": [
    "tau_rr=get_tau_rr()\n",
    "tau_rr.doit()"
   ]
  },
  {
   "cell_type": "code",
   "execution_count": 12,
   "metadata": {},
   "outputs": [
    {
     "data": {
      "image/png": "[encoded data removed]",
      "text/latex": [
       "$$- \\frac{8 C_{r} \\mu}{3 r^{3}}$$"
      ],
      "text/plain": [
       "-8⋅Cᵣ⋅μ \n",
       "────────\n",
       "     3  \n",
       "  3⋅r   "
      ]
     },
     "execution_count": 12,
     "metadata": {},
     "output_type": "execute_result"
    }
   ],
   "source": [
    "tau_thetatheta = get_tau_thetatheta()\n",
    "tau_thetatheta.doit()"
   ]
  },
  {
   "cell_type": "markdown",
   "metadata": {},
   "source": [
    "Then, we obtain the momentum equation:"
   ]
  },
  {
   "cell_type": "code",
   "execution_count": 13,
   "metadata": {},
   "outputs": [
    {
     "data": {
      "image/png": "[encoded data removed]",
      "text/latex": [
       "$$\\frac{4 C_{r}}{r^{4}} \\mu + g_{r} r - \\frac{d}{d r} p{\\left (r \\right )}$$"
      ],
      "text/plain": [
       "4⋅Cᵣ⋅μ          d       \n",
       "────── + gᵣ⋅r - ──(p(r))\n",
       "   4            dr      \n",
       "  r                     "
      ]
     },
     "execution_count": 13,
     "metadata": {},
     "output_type": "execute_result"
    }
   ],
   "source": [
    "momentum_equation = get_momentum_equation(p(r)).doit()\n",
    "momentum_equation"
   ]
  },
  {
   "cell_type": "markdown",
   "metadata": {},
   "source": [
    "Next, we solve this differential equation to give us an equation for the pressure:"
   ]
  },
  {
   "cell_type": "code",
   "execution_count": 14,
   "metadata": {},
   "outputs": [
    {
     "data": {
      "image/png": "[encoded data removed]",
      "text/latex": [
       "$$p{\\left (r \\right )} = C_{1} - \\frac{4 C_{r} \\mu}{3 r^{3}} + \\frac{g_{r} r^{2}}{2}$$"
      ],
      "text/plain": [
       "                         2\n",
       "            4⋅Cᵣ⋅μ   gᵣ⋅r \n",
       "p(r) = C₁ - ────── + ─────\n",
       "                3      2  \n",
       "             3⋅r          "
      ]
     },
     "execution_count": 14,
     "metadata": {},
     "output_type": "execute_result"
    }
   ],
   "source": [
    "pressure_equation = dsolve(momentum_equation)\n",
    "pressure_equation"
   ]
  },
  {
   "cell_type": "code",
   "execution_count": 15,
   "metadata": {},
   "outputs": [
    {
     "data": {
      "image/png": "[encoded data removed]",
      "text/latex": [
       "$$C_{1} - \\frac{4 C_{r} \\mu}{3 r^{3}} + \\frac{g_{r} r^{2}}{2}$$"
      ],
      "text/plain": [
       "                  2\n",
       "     4⋅Cᵣ⋅μ   gᵣ⋅r \n",
       "C₁ - ────── + ─────\n",
       "         3      2  \n",
       "      3⋅r          "
      ]
     },
     "execution_count": 15,
     "metadata": {},
     "output_type": "execute_result"
    }
   ],
   "source": [
    "p = pressure_equation.rhs\n",
    "p"
   ]
  },
  {
   "cell_type": "markdown",
   "metadata": {},
   "source": [
    "We then perform two \"sanity checks\": we substitute the obtained equations into the continuity and momentum equations, which should then return zero:"
   ]
  },
  {
   "cell_type": "code",
   "execution_count": 16,
   "metadata": {
    "collapsed": true
   },
   "outputs": [
    {
     "data": {
      "image/png": "[encoded data removed]",
      "text/latex": [
       "$$0$$"
      ],
      "text/plain": [
       "0"
      ]
     },
     "execution_count": 16,
     "metadata": {},
     "output_type": "execute_result"
    }
   ],
   "source": [
    "get_momentum_equation(p).doit()"
   ]
  },
  {
   "cell_type": "code",
   "execution_count": 17,
   "metadata": {
    "collapsed": true
   },
   "outputs": [
    {
     "data": {
      "image/png": "[encoded data removed]",
      "text/latex": [
       "$$0$$"
      ],
      "text/plain": [
       "0"
      ]
     },
     "execution_count": 17,
     "metadata": {},
     "output_type": "execute_result"
    }
   ],
   "source": [
    "get_continuity_equation(vr,rho).doit()"
   ]
  },
  {
   "cell_type": "markdown",
   "metadata": {},
   "source": [
    "Finally, we need to calculate the strain rate:"
   ]
  },
  {
   "cell_type": "code",
   "execution_count": 18,
   "metadata": {},
   "outputs": [
    {
     "data": {
      "image/png": "[encoded data removed]",
      "text/latex": [
       "$$- \\frac{2 C_{r}}{r^{3}}$$"
      ],
      "text/plain": [
       "-2⋅Cᵣ \n",
       "──────\n",
       "   3  \n",
       "  r   "
      ]
     },
     "execution_count": 18,
     "metadata": {},
     "output_type": "execute_result"
    }
   ],
   "source": [
    "err = Derivative(vr,r).doit()\n",
    "err"
   ]
  },
  {
   "cell_type": "code",
   "execution_count": 19,
   "metadata": {},
   "outputs": [
    {
     "data": {
      "image/png": "[encoded data removed]",
      "text/latex": [
       "$$\\frac{C_{r}}{r^{3}}$$"
      ],
      "text/plain": [
       "Cᵣ\n",
       "──\n",
       " 3\n",
       "r "
      ]
     },
     "execution_count": 19,
     "metadata": {},
     "output_type": "execute_result"
    }
   ],
   "source": [
    "ethetatheta =vr/r\n",
    "ethetatheta"
   ]
  },
  {
   "cell_type": "markdown",
   "metadata": {},
   "source": [
    "This gives us the following final equations for the velocity and pressure:"
   ]
  },
  {
   "cell_type": "code",
   "execution_count": 20,
   "metadata": {},
   "outputs": [
    {
     "data": {
      "image/png": "[encoded data removed]",
      "text/latex": [
       "$$\\operatorname{v_{r}}{\\left (r \\right )} = \\frac{C_{1}}{r^{2}}$$"
      ],
      "text/plain": [
       "        C₁\n",
       "vᵣ(r) = ──\n",
       "         2\n",
       "        r "
      ]
     },
     "execution_count": 20,
     "metadata": {},
     "output_type": "execute_result"
    }
   ],
   "source": [
    "velocity_equation"
   ]
  },
  {
   "cell_type": "code",
   "execution_count": 21,
   "metadata": {},
   "outputs": [
    {
     "data": {
      "image/png": "[encoded data removed]",
      "text/latex": [
       "$$p{\\left (r \\right )} = C_{1} - \\frac{4 C_{r} \\mu}{3 r^{3}} + \\frac{g_{r} r^{2}}{2}$$"
      ],
      "text/plain": [
       "                         2\n",
       "            4⋅Cᵣ⋅μ   gᵣ⋅r \n",
       "p(r) = C₁ - ────── + ─────\n",
       "                3      2  \n",
       "             3⋅r          "
      ]
     },
     "execution_count": 21,
     "metadata": {},
     "output_type": "execute_result"
    }
   ],
   "source": [
    "pressure_equation"
   ]
  },
  {
   "cell_type": "markdown",
   "metadata": {},
   "source": [
    "# Plotting"
   ]
  },
  {
   "cell_type": "markdown",
   "metadata": {},
   "source": [
    "Firstly, we need to generate functions from the above expressions for density, velocity and pressure:"
   ]
  },
  {
   "cell_type": "code",
   "execution_count": 22,
   "metadata": {},
   "outputs": [],
   "source": [
    "density_function = lambdify(r,rho)"
   ]
  },
  {
   "cell_type": "code",
   "execution_count": 23,
   "metadata": {},
   "outputs": [],
   "source": [
    "velocity_function = lambdify(r,vr.subs(Cr,1))"
   ]
  },
  {
   "cell_type": "code",
   "execution_count": 24,
   "metadata": {},
   "outputs": [],
   "source": [
    "pressure_function = lambdify(r,p.subs(C1,0).subs(Cr,1).subs(gr,1).subs(mu,1))"
   ]
  },
  {
   "cell_type": "code",
   "execution_count": 25,
   "metadata": {},
   "outputs": [],
   "source": [
    "err_function = lambdify(r,err.subs(Cr,1))"
   ]
  },
  {
   "cell_type": "code",
   "execution_count": 26,
   "metadata": {},
   "outputs": [],
   "source": [
    "ett_function = lambdify(r,ethetatheta.subs(Cr,1))"
   ]
  },
  {
   "cell_type": "markdown",
   "metadata": {},
   "source": [
    "Now we need an x range to plot over:\n"
   ]
  },
  {
   "cell_type": "code",
   "execution_count": 27,
   "metadata": {},
   "outputs": [],
   "source": [
    "r_plotting = np.arange(1,4,0.01)"
   ]
  },
  {
   "cell_type": "markdown",
   "metadata": {},
   "source": [
    "Finally, we plot the density, velocity and pressure profiles:"
   ]
  },
  {
   "cell_type": "code",
   "execution_count": 28,
   "metadata": {
    "collapsed": true
   },
   "outputs": [
    {
     "data": {
      "text/plain": [
       "<matplotlib.text.Text at 0x7fa883bd9e80>"
      ]
     },
     "execution_count": 28,
     "metadata": {},
     "output_type": "execute_result"
    },
    {
     "data": {
      "image/png": "[encoded data removed]",
      "text/plain": [
       "<matplotlib.figure.Figure at 0x7fa88b1370f0>"
      ]
     },
     "metadata": {},
     "output_type": "display_data"
    }
   ],
   "source": [
    "fig,axes = plt.subplots(1,4,figsize=(15,4))\n",
    "\n",
    "axes[0].plot(r_plotting,density_function(r_plotting))\n",
    "axes[0].set_xlabel(\"x\")\n",
    "axes[0].set_ylabel(r\"$\\rho$\")\n",
    "axes[0].set_title(\"Density\")\n",
    "\n",
    "axes[1].plot(r_plotting,velocity_function(r_plotting))\n",
    "axes[1].set_xlabel(\"x\")\n",
    "axes[1].set_ylabel(\"$v_x$\")\n",
    "axes[1].set_title(\"Velocity\")\n",
    "\n",
    "axes[2].plot(r_plotting,pressure_function(r_plotting))\n",
    "axes[2].set_xlabel(\"x\")\n",
    "axes[2].set_ylabel(\"$p$\")\n",
    "axes[2].set_title(\"Pressure\")\n",
    "\n",
    "axes[3].plot(r_plotting,err_function(r_plotting),label=r\"$e_{rr}$\")\n",
    "axes[3].plot(r_plotting,ett_function(r_plotting),label=r\"$e_{\\theta\\theta}$\")\n",
    "axes[3].legend()\n",
    "axes[3].set_xlabel(\"x\")\n",
    "axes[3].set_ylabel(\"$e_{rr}$\")\n",
    "axes[3].set_title(\"Strain\")\n",
    "\n",
    "\n",
    "fig.suptitle(\"Density, velocity and pressure plots for 1D Cylindrical Linear Benchmark\")"
   ]
  },
  {
   "cell_type": "code",
   "execution_count": 29,
   "metadata": {},
   "outputs": [],
   "source": [
    "fig.savefig(\"1DCylindrical.pdf\")"
   ]
  },
  {
   "cell_type": "code",
   "execution_count": null,
   "metadata": {},
   "outputs": [],
   "source": []
  }
 ],
 "metadata": {
  "kernelspec": {
   "display_name": "Python 3",
   "language": "python",
   "name": "python3"
  },
  "language_info": {
   "codemirror_mode": {
    "name": "ipython",
    "version": 3
   },
   "file_extension": ".py",
   "mimetype": "text/x-python",
   "name": "python",
   "nbconvert_exporter": "python",
   "pygments_lexer": "ipython3",
   "version": "3.6.2"
  }
 },
 "nbformat": 4,
 "nbformat_minor": 2
}
