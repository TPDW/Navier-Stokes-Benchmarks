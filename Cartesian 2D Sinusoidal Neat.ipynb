{
 "cells": [
  {
   "cell_type": "markdown",
   "metadata": {},
   "source": [
    "# Analytical Benchmarks - 2D Cartesian Sinusoidal"
   ]
  },
  {
   "cell_type": "code",
   "execution_count": 1,
   "metadata": {
    "collapsed": true
   },
   "outputs": [],
   "source": [
    "#import and initialisation\n",
    "from sympy import *\n",
    "import matplotlib.pyplot as plt\n",
    "import numpy as np\n",
    "init_printing()\n",
    "%matplotlib inline"
   ]
  },
  {
   "cell_type": "code",
   "execution_count": 2,
   "metadata": {
    "collapsed": true
   },
   "outputs": [],
   "source": [
    "#define the symbols used in the derivation\n",
    "x,y,rho,C1,Cx,Cy,gx,mu,gy= symbols( 'x y rho C1 C_x C_y g_x mu g_y')\n",
    "rhox, rhoy, tau_xx, tau_xy, tau_yx, tau_yy = symbols(\"rho_x rho_y tau_{xx} tau_{xy} tau_{yx} tau_{yy}\")\n",
    "vx,vy = symbols('v_x v_y',function=True)\n",
    "p = symbols('p',function=True)"
   ]
  },
  {
   "cell_type": "markdown",
   "metadata": {},
   "source": [
    "Firstly, we define the continuity (mass conservation) equation and the momentum equation in 1D, as well as the 1D stress tensor ($\\tau$):"
   ]
  },
  {
   "cell_type": "code",
   "execution_count": 3,
   "metadata": {},
   "outputs": [],
   "source": [
    "def get_continuity_equation_x(vx,rhox):\n",
    "    return (1/vx)*Derivative(vx,x) + (1/rhox)*diff(rhox,x)"
   ]
  },
  {
   "cell_type": "code",
   "execution_count": 4,
   "metadata": {},
   "outputs": [],
   "source": [
    "def get_continuity_equation_y(vy,rhoy):\n",
    "    return (1/vy)*Derivative(vy,y) + (1/rhoy)*diff(rhoy,y)"
   ]
  },
  {
   "cell_type": "code",
   "execution_count": 5,
   "metadata": {},
   "outputs": [],
   "source": [
    "def get_velocity_divergence(vx,vy):\n",
    "    return Derivative(vx,x) + Derivative(vy,y)"
   ]
  },
  {
   "cell_type": "code",
   "execution_count": 6,
   "metadata": {
    "collapsed": true
   },
   "outputs": [],
   "source": [
    "def get_tau_xx():\n",
    "    div = get_velocity_divergence(vx,vy)\n",
    "    return 2*mu*Derivative(vx,x) - mu*div*Rational(2,3)"
   ]
  },
  {
   "cell_type": "code",
   "execution_count": 7,
   "metadata": {},
   "outputs": [],
   "source": [
    "def get_tau_yy():\n",
    "    div = get_velocity_divergence(vx,vy)\n",
    "    return 2*mu*Derivative(vy,y) - mu*div*Rational(2,3)"
   ]
  },
  {
   "cell_type": "code",
   "execution_count": 8,
   "metadata": {},
   "outputs": [],
   "source": [
    "def get_tau_xy():\n",
    "    return mu*(Derivative(vx,y) + Derivative(vy,x))"
   ]
  },
  {
   "cell_type": "code",
   "execution_count": 9,
   "metadata": {},
   "outputs": [],
   "source": [
    "def get_tau_yx():\n",
    "    return get_tau_xy()"
   ]
  },
  {
   "cell_type": "code",
   "execution_count": 10,
   "metadata": {
    "collapsed": true
   },
   "outputs": [],
   "source": [
    "def get_momentum_equation_x(p):\n",
    "    return -Derivative(p,x) + rho*gx + Derivative(tau_xx,x).doit() + Derivative(tau_xy,y).doit()"
   ]
  },
  {
   "cell_type": "code",
   "execution_count": 11,
   "metadata": {},
   "outputs": [],
   "source": [
    "def get_momentum_equation_y(p):\n",
    "    return -Derivative(p,y) + rho*gy + Derivative(tau_yx,x).doit() + Derivative(tau_yy,y).doit()"
   ]
  },
  {
   "cell_type": "markdown",
   "metadata": {},
   "source": [
    "Next we prescibe the density profile, and then get the continuity equation, in both x and y directions:"
   ]
  },
  {
   "cell_type": "code",
   "execution_count": 12,
   "metadata": {},
   "outputs": [],
   "source": [
    "rhox=cos(x)\n",
    "rhoy=cos(y)\n",
    "rho=rhox*rhoy"
   ]
  },
  {
   "cell_type": "code",
   "execution_count": 13,
   "metadata": {},
   "outputs": [
    {
     "data": {
      "image/png": "[encoded data removed]",
      "text/latex": [
       "$$- \\frac{\\sin{\\left (x \\right )}}{\\cos{\\left (x \\right )}} + \\frac{\\frac{d}{d x} \\operatorname{v_{x}}{\\left (x \\right )}}{\\operatorname{v_{x}}{\\left (x \\right )}}$$"
      ],
      "text/plain": [
       "           d        \n",
       "           ──(vₓ(x))\n",
       "  sin(x)   dx       \n",
       "- ────── + ─────────\n",
       "  cos(x)     vₓ(x)  "
      ]
     },
     "execution_count": 13,
     "metadata": {},
     "output_type": "execute_result"
    }
   ],
   "source": [
    "continuity_equation_x = get_continuity_equation_x(vx(x),rhox)\n",
    "continuity_equation_x"
   ]
  },
  {
   "cell_type": "code",
   "execution_count": 14,
   "metadata": {},
   "outputs": [
    {
     "data": {
      "image/png": "[encoded data removed]",
      "text/latex": [
       "$$- \\frac{\\sin{\\left (y \\right )}}{\\cos{\\left (y \\right )}} + \\frac{\\frac{d}{d y} \\operatorname{v_{y}}{\\left (y \\right )}}{\\operatorname{v_{y}}{\\left (y \\right )}}$$"
      ],
      "text/plain": [
       "           d         \n",
       "           ──(v_y(y))\n",
       "  sin(y)   dy        \n",
       "- ────── + ──────────\n",
       "  cos(y)     v_y(y)  "
      ]
     },
     "execution_count": 14,
     "metadata": {},
     "output_type": "execute_result"
    }
   ],
   "source": [
    "continuity_equation_y = get_continuity_equation_y(vy(y),rhoy)\n",
    "continuity_equation_y"
   ]
  },
  {
   "cell_type": "markdown",
   "metadata": {},
   "source": [
    "(Note that equations in Sympy are implicitly equal to zero)\n",
    "\n",
    "Then, we solve the continuity equations for the velocity:"
   ]
  },
  {
   "cell_type": "code",
   "execution_count": 15,
   "metadata": {},
   "outputs": [
    {
     "data": {
      "image/png": "[encoded data removed]",
      "text/latex": [
       "$$\\operatorname{v_{x}}{\\left (x \\right )} = \\frac{C_{1}}{\\sqrt{- \\cos^{2}{\\left (x \\right )}}}$$"
      ],
      "text/plain": [
       "              C₁     \n",
       "vₓ(x) = ─────────────\n",
       "           __________\n",
       "          ╱     2    \n",
       "        ╲╱  -cos (x) "
      ]
     },
     "execution_count": 15,
     "metadata": {},
     "output_type": "execute_result"
    }
   ],
   "source": [
    "velocity_equation_x = dsolve(continuity_equation_x)\n",
    "velocity_equation_x"
   ]
  },
  {
   "cell_type": "code",
   "execution_count": 16,
   "metadata": {},
   "outputs": [
    {
     "data": {
      "image/png": "[encoded data removed]",
      "text/latex": [
       "$$\\operatorname{v_{y}}{\\left (y \\right )} = \\frac{C_{1}}{\\sqrt{- \\cos^{2}{\\left (y \\right )}}}$$"
      ],
      "text/plain": [
       "               C₁     \n",
       "v_y(y) = ─────────────\n",
       "            __________\n",
       "           ╱     2    \n",
       "         ╲╱  -cos (y) "
      ]
     },
     "execution_count": 16,
     "metadata": {},
     "output_type": "execute_result"
    }
   ],
   "source": [
    "velocity_equation_y = dsolve(continuity_equation_y)\n",
    "velocity_equation_y"
   ]
  },
  {
   "cell_type": "markdown",
   "metadata": {},
   "source": [
    "Due to limitations with sympy, it finds an imaginary solution, whereas we need the real part. We therefore prescribe a real solution, then verify it:"
   ]
  },
  {
   "cell_type": "code",
   "execution_count": 17,
   "metadata": {},
   "outputs": [],
   "source": [
    "vy = Cy/cos(y)\n",
    "vx = Cx/cos(x)"
   ]
  },
  {
   "cell_type": "code",
   "execution_count": 18,
   "metadata": {},
   "outputs": [
    {
     "data": {
      "image/png": "[encoded data removed]",
      "text/latex": [
       "$$0$$"
      ],
      "text/plain": [
       "0"
      ]
     },
     "execution_count": 18,
     "metadata": {},
     "output_type": "execute_result"
    }
   ],
   "source": [
    "get_continuity_equation_x(vx,rhox).doit()"
   ]
  },
  {
   "cell_type": "code",
   "execution_count": 19,
   "metadata": {},
   "outputs": [
    {
     "data": {
      "image/png": "[encoded data removed]",
      "text/latex": [
       "$$0$$"
      ],
      "text/plain": [
       "0"
      ]
     },
     "execution_count": 19,
     "metadata": {},
     "output_type": "execute_result"
    }
   ],
   "source": [
    "get_continuity_equation_y(vy,rhoy).doit()"
   ]
  },
  {
   "cell_type": "markdown",
   "metadata": {},
   "source": [
    "Next, we obtain the stress tensor $\\tau$:"
   ]
  },
  {
   "cell_type": "code",
   "execution_count": 20,
   "metadata": {},
   "outputs": [
    {
     "data": {
      "image/png": "[encoded data removed]",
      "text/latex": [
       "$$\\frac{2 C_{x} \\mu \\sin{\\left (x \\right )}}{\\cos^{2}{\\left (x \\right )}} - \\frac{2 \\mu}{3} \\left(\\frac{C_{x} \\sin{\\left (x \\right )}}{\\cos^{2}{\\left (x \\right )}} + \\frac{C_{y} \\sin{\\left (y \\right )}}{\\cos^{2}{\\left (y \\right )}}\\right)$$"
      ],
      "text/plain": [
       "                    ⎛Cₓ⋅sin(x)   C_y⋅sin(y)⎞\n",
       "                2⋅μ⋅⎜───────── + ──────────⎟\n",
       "                    ⎜    2           2     ⎟\n",
       "2⋅Cₓ⋅μ⋅sin(x)       ⎝ cos (x)     cos (y)  ⎠\n",
       "───────────── - ────────────────────────────\n",
       "      2                      3              \n",
       "   cos (x)                                  "
      ]
     },
     "execution_count": 20,
     "metadata": {},
     "output_type": "execute_result"
    }
   ],
   "source": [
    "tau_xx = get_tau_xx()\n",
    "tau_xx.doit()"
   ]
  },
  {
   "cell_type": "code",
   "execution_count": 21,
   "metadata": {},
   "outputs": [
    {
     "data": {
      "image/png": "[encoded data removed]",
      "text/latex": [
       "$$0$$"
      ],
      "text/plain": [
       "0"
      ]
     },
     "execution_count": 21,
     "metadata": {},
     "output_type": "execute_result"
    }
   ],
   "source": [
    "tau_xy = get_tau_xy()\n",
    "tau_xy.doit()"
   ]
  },
  {
   "cell_type": "code",
   "execution_count": 22,
   "metadata": {},
   "outputs": [
    {
     "data": {
      "image/png": "[encoded data removed]",
      "text/latex": [
       "$$0$$"
      ],
      "text/plain": [
       "0"
      ]
     },
     "execution_count": 22,
     "metadata": {},
     "output_type": "execute_result"
    }
   ],
   "source": [
    "tau_yx = get_tau_yx()\n",
    "tau_yx.doit()"
   ]
  },
  {
   "cell_type": "code",
   "execution_count": 23,
   "metadata": {},
   "outputs": [
    {
     "data": {
      "image/png": "[encoded data removed]",
      "text/latex": [
       "$$\\frac{2 C_{y} \\mu \\sin{\\left (y \\right )}}{\\cos^{2}{\\left (y \\right )}} - \\frac{2 \\mu}{3} \\left(\\frac{C_{x} \\sin{\\left (x \\right )}}{\\cos^{2}{\\left (x \\right )}} + \\frac{C_{y} \\sin{\\left (y \\right )}}{\\cos^{2}{\\left (y \\right )}}\\right)$$"
      ],
      "text/plain": [
       "                     ⎛Cₓ⋅sin(x)   C_y⋅sin(y)⎞\n",
       "                 2⋅μ⋅⎜───────── + ──────────⎟\n",
       "                     ⎜    2           2     ⎟\n",
       "2⋅C_y⋅μ⋅sin(y)       ⎝ cos (x)     cos (y)  ⎠\n",
       "────────────── - ────────────────────────────\n",
       "      2                       3              \n",
       "   cos (y)                                   "
      ]
     },
     "execution_count": 23,
     "metadata": {},
     "output_type": "execute_result"
    }
   ],
   "source": [
    "tau_yy = get_tau_yy()\n",
    "tau_yy.doit()"
   ]
  },
  {
   "cell_type": "markdown",
   "metadata": {},
   "source": [
    "Now, we prescibe the gravitational field:"
   ]
  },
  {
   "cell_type": "code",
   "execution_count": 24,
   "metadata": {},
   "outputs": [],
   "source": [
    "gx = 1/cos(y)\n",
    "gy = 1/cos(x)"
   ]
  },
  {
   "cell_type": "markdown",
   "metadata": {},
   "source": [
    "Then, we obtain the momentum equation:"
   ]
  },
  {
   "cell_type": "code",
   "execution_count": 25,
   "metadata": {},
   "outputs": [
    {
     "data": {
      "image/png": "[encoded data removed]",
      "text/latex": [
       "$$\\frac{4 C_{x} \\mu \\sin^{2}{\\left (x \\right )}}{\\cos^{3}{\\left (x \\right )}} + \\frac{2 C_{x} \\mu}{\\cos{\\left (x \\right )}} - \\frac{2 \\mu}{3} \\left(\\frac{2 C_{x} \\sin^{2}{\\left (x \\right )}}{\\cos^{3}{\\left (x \\right )}} + \\frac{C_{x}}{\\cos{\\left (x \\right )}}\\right) + \\cos{\\left (x \\right )} - \\frac{\\partial}{\\partial x} p{\\left (x,y \\right )}$$"
      ],
      "text/plain": [
       "                              ⎛        2            ⎞                       \n",
       "                              ⎜2⋅Cₓ⋅sin (x)     Cₓ  ⎟                       \n",
       "                          2⋅μ⋅⎜──────────── + ──────⎟                       \n",
       "          2                   ⎜     3         cos(x)⎟                       \n",
       "4⋅Cₓ⋅μ⋅sin (x)   2⋅Cₓ⋅μ       ⎝  cos (x)            ⎠            ∂          \n",
       "────────────── + ────── - ─────────────────────────── + cos(x) - ──(p(x, y))\n",
       "      3          cos(x)                3                         ∂x         \n",
       "   cos (x)                                                                  "
      ]
     },
     "execution_count": 25,
     "metadata": {},
     "output_type": "execute_result"
    }
   ],
   "source": [
    "momentum_equation_x = get_momentum_equation_x(p(x,y))\n",
    "momentum_equation_x"
   ]
  },
  {
   "cell_type": "code",
   "execution_count": 26,
   "metadata": {},
   "outputs": [
    {
     "data": {
      "image/png": "[encoded data removed]",
      "text/latex": [
       "$$\\frac{4 C_{y} \\mu \\sin^{2}{\\left (y \\right )}}{\\cos^{3}{\\left (y \\right )}} + \\frac{2 C_{y} \\mu}{\\cos{\\left (y \\right )}} - \\frac{2 \\mu}{3} \\left(\\frac{2 C_{y} \\sin^{2}{\\left (y \\right )}}{\\cos^{3}{\\left (y \\right )}} + \\frac{C_{y}}{\\cos{\\left (y \\right )}}\\right) + \\cos{\\left (y \\right )} - \\frac{\\partial}{\\partial y} p{\\left (x,y \\right )}$$"
      ],
      "text/plain": [
       "                                ⎛         2            ⎞                      \n",
       "                                ⎜2⋅C_y⋅sin (y)    C_y  ⎟                      \n",
       "                            2⋅μ⋅⎜───────────── + ──────⎟                      \n",
       "           2                    ⎜      3         cos(y)⎟                      \n",
       "4⋅C_y⋅μ⋅sin (y)   2⋅C_y⋅μ       ⎝   cos (y)            ⎠            ∂         \n",
       "─────────────── + ─────── - ──────────────────────────── + cos(y) - ──(p(x, y)\n",
       "       3           cos(y)                3                          ∂y        \n",
       "    cos (y)                                                                   \n",
       "\n",
       " \n",
       " \n",
       " \n",
       " \n",
       " \n",
       ")\n",
       " \n",
       " "
      ]
     },
     "execution_count": 26,
     "metadata": {},
     "output_type": "execute_result"
    }
   ],
   "source": [
    "momentum_equation_y = get_momentum_equation_y(p(x,y))\n",
    "momentum_equation_y"
   ]
  },
  {
   "cell_type": "markdown",
   "metadata": {},
   "source": [
    "Next, we solve this differential equation (by integrating with respect to x) to give us an equation for the pressure:"
   ]
  },
  {
   "cell_type": "code",
   "execution_count": 27,
   "metadata": {},
   "outputs": [
    {
     "data": {
      "image/png": "[encoded data removed]",
      "text/latex": [
       "$$p{\\left (x,y \\right )} = \\frac{1}{\\cos^{2}{\\left (x \\right )}} \\left(\\frac{4 C_{x}}{3} \\mu \\sin{\\left (x \\right )} + F{\\left (y \\right )} \\cos^{2}{\\left (x \\right )} - \\sin^{3}{\\left (x \\right )} + \\sin{\\left (x \\right )}\\right)$$"
      ],
      "text/plain": [
       "          4⋅Cₓ⋅μ⋅sin(x)           2         3            \n",
       "          ───────────── + F(y)⋅cos (x) - sin (x) + sin(x)\n",
       "                3                                        \n",
       "p(x, y) = ───────────────────────────────────────────────\n",
       "                                 2                       \n",
       "                              cos (x)                    "
      ]
     },
     "execution_count": 27,
     "metadata": {},
     "output_type": "execute_result"
    }
   ],
   "source": [
    "pressure_equation = pdsolve(momentum_equation_x)\n",
    "pressure_equation"
   ]
  },
  {
   "cell_type": "markdown",
   "metadata": {},
   "source": [
    "This equation features the unknown function F(y).\n",
    "To find this function, we first differentiate both sides with respect to y:"
   ]
  },
  {
   "cell_type": "code",
   "execution_count": 28,
   "metadata": {},
   "outputs": [
    {
     "data": {
      "image/png": "[encoded data removed]",
      "text/latex": [
       "$$\\frac{\\partial}{\\partial y} p{\\left (x,y \\right )} = \\frac{1}{\\cos^{2}{\\left (x \\right )}} \\left(\\frac{4 C_{x}}{3} \\mu \\sin{\\left (x \\right )} + F{\\left (y \\right )} \\cos^{2}{\\left (x \\right )} - \\sin^{3}{\\left (x \\right )} + \\sin{\\left (x \\right )}\\right)$$"
      ],
      "text/plain": [
       "  ⎛          4⋅Cₓ⋅μ⋅sin(x)           2         3            ⎞\n",
       "  ⎜          ───────────── + F(y)⋅cos (x) - sin (x) + sin(x)⎟\n",
       "∂ ⎜                3                                        ⎟\n",
       "──⎜p(x, y) = ───────────────────────────────────────────────⎟\n",
       "∂y⎜                                 2                       ⎟\n",
       "  ⎝                              cos (x)                    ⎠"
      ]
     },
     "execution_count": 28,
     "metadata": {},
     "output_type": "execute_result"
    }
   ],
   "source": [
    "pressure_equation_derivative = Derivative(pressure_equation,y)\n",
    "pressure_equation_derivative"
   ]
  },
  {
   "cell_type": "markdown",
   "metadata": {},
   "source": [
    "We then substitute this equation for dp/dy into the y-dimension momentum equation:"
   ]
  },
  {
   "cell_type": "code",
   "execution_count": 29,
   "metadata": {},
   "outputs": [
    {
     "data": {
      "image/png": "[encoded data removed]",
      "text/latex": [
       "$$\\frac{\\partial}{\\partial y}\\left(\\frac{1}{\\cos^{2}{\\left (x \\right )}} \\left(\\frac{4 C_{x}}{3} \\mu \\sin{\\left (x \\right )} + F{\\left (y \\right )} \\cos^{2}{\\left (x \\right )} - \\sin^{3}{\\left (x \\right )} + \\sin{\\left (x \\right )}\\right)\\right)$$"
      ],
      "text/plain": [
       "  ⎛4⋅Cₓ⋅μ⋅sin(x)           2         3            ⎞\n",
       "  ⎜───────────── + F(y)⋅cos (x) - sin (x) + sin(x)⎟\n",
       "∂ ⎜      3                                        ⎟\n",
       "──⎜───────────────────────────────────────────────⎟\n",
       "∂y⎜                       2                       ⎟\n",
       "  ⎝                    cos (x)                    ⎠"
      ]
     },
     "execution_count": 29,
     "metadata": {},
     "output_type": "execute_result"
    }
   ],
   "source": [
    "Derivative(pressure_equation.rhs,y)"
   ]
  },
  {
   "cell_type": "code",
   "execution_count": 30,
   "metadata": {},
   "outputs": [
    {
     "data": {
      "image/png": "[encoded data removed]",
      "text/latex": [
       "$$\\frac{4 C_{y} \\mu \\sin^{2}{\\left (y \\right )}}{\\cos^{3}{\\left (y \\right )}} + \\frac{2 C_{y} \\mu}{\\cos{\\left (y \\right )}} - \\frac{2 \\mu}{3} \\left(\\frac{2 C_{y} \\sin^{2}{\\left (y \\right )}}{\\cos^{3}{\\left (y \\right )}} + \\frac{C_{y}}{\\cos{\\left (y \\right )}}\\right) + \\cos{\\left (y \\right )} - \\frac{d}{d y} F{\\left (y \\right )}$$"
      ],
      "text/plain": [
       "                                ⎛         2            ⎞                    \n",
       "                                ⎜2⋅C_y⋅sin (y)    C_y  ⎟                    \n",
       "                            2⋅μ⋅⎜───────────── + ──────⎟                    \n",
       "           2                    ⎜      3         cos(y)⎟                    \n",
       "4⋅C_y⋅μ⋅sin (y)   2⋅C_y⋅μ       ⎝   cos (y)            ⎠            d       \n",
       "─────────────── + ─────── - ──────────────────────────── + cos(y) - ──(F(y))\n",
       "       3           cos(y)                3                          dy      \n",
       "    cos (y)                                                                 "
      ]
     },
     "execution_count": 30,
     "metadata": {},
     "output_type": "execute_result"
    }
   ],
   "source": [
    "F_equation = momentum_equation_y.subs(Derivative(pressure_equation.lhs,y),\n",
    "                         Derivative(pressure_equation.rhs,y)).doit()\n",
    "F_equation"
   ]
  },
  {
   "cell_type": "markdown",
   "metadata": {},
   "source": [
    "We then solve this equation for F, by integrating with respect to y:"
   ]
  },
  {
   "cell_type": "code",
   "execution_count": 31,
   "metadata": {},
   "outputs": [
    {
     "data": {
      "image/png": "[encoded data removed]",
      "text/latex": [
       "$$F{\\left (y \\right )} = C_{1} + \\frac{4 C_{y} \\mu \\sin{\\left (y \\right )}}{3 \\cos^{2}{\\left (y \\right )}} + \\sin{\\left (y \\right )}$$"
      ],
      "text/plain": [
       "            4⋅C_y⋅μ⋅sin(y)         \n",
       "F(y) = C₁ + ────────────── + sin(y)\n",
       "                   2               \n",
       "              3⋅cos (y)            "
      ]
     },
     "execution_count": 31,
     "metadata": {},
     "output_type": "execute_result"
    }
   ],
   "source": [
    "F_solved = dsolve(F_equation)\n",
    "F_solved"
   ]
  },
  {
   "cell_type": "markdown",
   "metadata": {},
   "source": [
    "We then substitute this equation for y into the previous pressure equation, thus giving us a final equation for the pressure:"
   ]
  },
  {
   "cell_type": "code",
   "execution_count": 32,
   "metadata": {},
   "outputs": [
    {
     "data": {
      "image/png": "[encoded data removed]",
      "text/latex": [
       "$$p{\\left (x,y \\right )} = \\frac{1}{\\cos^{2}{\\left (x \\right )}} \\left(\\frac{4 C_{x}}{3} \\mu \\sin{\\left (x \\right )} + \\left(C_{1} + \\frac{4 C_{y} \\mu \\sin{\\left (y \\right )}}{3 \\cos^{2}{\\left (y \\right )}} + \\sin{\\left (y \\right )}\\right) \\cos^{2}{\\left (x \\right )} - \\sin^{3}{\\left (x \\right )} + \\sin{\\left (x \\right )}\\right)$$"
      ],
      "text/plain": [
       "          4⋅Cₓ⋅μ⋅sin(x)   ⎛     4⋅C_y⋅μ⋅sin(y)         ⎞    2         3       \n",
       "          ───────────── + ⎜C₁ + ────────────── + sin(y)⎟⋅cos (x) - sin (x) + s\n",
       "                3         ⎜            2               ⎟                      \n",
       "                          ⎝       3⋅cos (y)            ⎠                      \n",
       "p(x, y) = ────────────────────────────────────────────────────────────────────\n",
       "                                              2                               \n",
       "                                           cos (x)                            \n",
       "\n",
       "     \n",
       "in(x)\n",
       "     \n",
       "     \n",
       "─────\n",
       "     \n",
       "     "
      ]
     },
     "execution_count": 32,
     "metadata": {},
     "output_type": "execute_result"
    }
   ],
   "source": [
    "pressure_equation_final = pressure_equation.subs(F_solved.lhs,F_solved.rhs)\n",
    "pressure_equation_final"
   ]
  },
  {
   "cell_type": "markdown",
   "metadata": {},
   "source": [
    "We now have to perform a trigonometric substitution to neaten the solution, which Sympy cannot find itself"
   ]
  },
  {
   "cell_type": "code",
   "execution_count": 33,
   "metadata": {},
   "outputs": [
    {
     "data": {
      "image/png": "[encoded data removed]",
      "text/latex": [
       "$$p{\\left (x,y \\right )} = C_{1} + \\frac{4 C_{x} \\mu \\sin{\\left (x \\right )}}{3 \\cos^{2}{\\left (x \\right )}} + \\frac{4 C_{y} \\mu \\sin{\\left (y \\right )}}{3 \\cos^{2}{\\left (y \\right )}} + \\sin{\\left (x \\right )} + \\sin{\\left (y \\right )}$$"
      ],
      "text/plain": [
       "               4⋅Cₓ⋅μ⋅sin(x)   4⋅C_y⋅μ⋅sin(y)                  \n",
       "p(x, y) = C₁ + ───────────── + ────────────── + sin(x) + sin(y)\n",
       "                      2               2                        \n",
       "                 3⋅cos (x)       3⋅cos (y)                     "
      ]
     },
     "execution_count": 33,
     "metadata": {},
     "output_type": "execute_result"
    }
   ],
   "source": [
    "pressure_equation_final = pressure_equation_final.subs(-sin(x)**3+sin(x),sin(x)*cos(x)**2).expand()\n",
    "pressure_equation_final"
   ]
  },
  {
   "cell_type": "code",
   "execution_count": 34,
   "metadata": {},
   "outputs": [
    {
     "data": {
      "image/png": "[encoded data removed]",
      "text/latex": [
       "$$C_{1} + \\frac{4 C_{x} \\mu \\sin{\\left (x \\right )}}{3 \\cos^{2}{\\left (x \\right )}} + \\frac{4 C_{y} \\mu \\sin{\\left (y \\right )}}{3 \\cos^{2}{\\left (y \\right )}} + \\sin{\\left (x \\right )} + \\sin{\\left (y \\right )}$$"
      ],
      "text/plain": [
       "     4⋅Cₓ⋅μ⋅sin(x)   4⋅C_y⋅μ⋅sin(y)                  \n",
       "C₁ + ───────────── + ────────────── + sin(x) + sin(y)\n",
       "            2               2                        \n",
       "       3⋅cos (x)       3⋅cos (y)                     "
      ]
     },
     "execution_count": 34,
     "metadata": {},
     "output_type": "execute_result"
    }
   ],
   "source": [
    "p = pressure_equation_final.rhs\n",
    "p"
   ]
  },
  {
   "cell_type": "markdown",
   "metadata": {},
   "source": [
    "We then perform two \"sanity checks\": we substitute the obtained equations into the continuity and momentum equations, which should then return zero:"
   ]
  },
  {
   "cell_type": "code",
   "execution_count": 35,
   "metadata": {
    "collapsed": true
   },
   "outputs": [
    {
     "data": {
      "image/png": "[encoded data removed]",
      "text/latex": [
       "$$0$$"
      ],
      "text/plain": [
       "0"
      ]
     },
     "execution_count": 35,
     "metadata": {},
     "output_type": "execute_result"
    }
   ],
   "source": [
    "get_momentum_equation_x(p).doit().expand()"
   ]
  },
  {
   "cell_type": "code",
   "execution_count": 36,
   "metadata": {},
   "outputs": [
    {
     "data": {
      "image/png": "[encoded data removed]",
      "text/latex": [
       "$$0$$"
      ],
      "text/plain": [
       "0"
      ]
     },
     "execution_count": 36,
     "metadata": {},
     "output_type": "execute_result"
    }
   ],
   "source": [
    "get_momentum_equation_y(p).doit().expand()"
   ]
  },
  {
   "cell_type": "code",
   "execution_count": 37,
   "metadata": {
    "collapsed": true
   },
   "outputs": [
    {
     "data": {
      "image/png": "[encoded data removed]",
      "text/latex": [
       "$$0$$"
      ],
      "text/plain": [
       "0"
      ]
     },
     "execution_count": 37,
     "metadata": {},
     "output_type": "execute_result"
    }
   ],
   "source": [
    "get_continuity_equation_x(vx,rho).doit()"
   ]
  },
  {
   "cell_type": "code",
   "execution_count": 38,
   "metadata": {},
   "outputs": [
    {
     "data": {
      "image/png": "[encoded data removed]",
      "text/latex": [
       "$$0$$"
      ],
      "text/plain": [
       "0"
      ]
     },
     "execution_count": 38,
     "metadata": {},
     "output_type": "execute_result"
    }
   ],
   "source": [
    "get_continuity_equation_y(vy,rho).doit()"
   ]
  },
  {
   "cell_type": "markdown",
   "metadata": {},
   "source": [
    "Finally, we need to calculate the strain rate:"
   ]
  },
  {
   "cell_type": "code",
   "execution_count": 39,
   "metadata": {},
   "outputs": [
    {
     "data": {
      "image/png": "[encoded data removed]",
      "text/latex": [
       "$$\\frac{C_{x} \\sin{\\left (x \\right )}}{\\cos^{2}{\\left (x \\right )}}$$"
      ],
      "text/plain": [
       "Cₓ⋅sin(x)\n",
       "─────────\n",
       "    2    \n",
       " cos (x) "
      ]
     },
     "execution_count": 39,
     "metadata": {},
     "output_type": "execute_result"
    }
   ],
   "source": [
    "exx = Derivative(vx,x).doit()\n",
    "exx"
   ]
  },
  {
   "cell_type": "code",
   "execution_count": 40,
   "metadata": {},
   "outputs": [
    {
     "data": {
      "image/png": "[encoded data removed]",
      "text/latex": [
       "$$0$$"
      ],
      "text/plain": [
       "0"
      ]
     },
     "execution_count": 40,
     "metadata": {},
     "output_type": "execute_result"
    }
   ],
   "source": [
    "exy = Derivative(vx,y).doit()\n",
    "exy"
   ]
  },
  {
   "cell_type": "code",
   "execution_count": 41,
   "metadata": {},
   "outputs": [
    {
     "data": {
      "image/png": "[encoded data removed]",
      "text/latex": [
       "$$0$$"
      ],
      "text/plain": [
       "0"
      ]
     },
     "execution_count": 41,
     "metadata": {},
     "output_type": "execute_result"
    }
   ],
   "source": [
    "eyx = Derivative(vy,x).doit()\n",
    "eyx"
   ]
  },
  {
   "cell_type": "code",
   "execution_count": 42,
   "metadata": {},
   "outputs": [
    {
     "data": {
      "image/png": "[encoded data removed]",
      "text/latex": [
       "$$\\frac{C_{y} \\sin{\\left (y \\right )}}{\\cos^{2}{\\left (y \\right )}}$$"
      ],
      "text/plain": [
       "C_y⋅sin(y)\n",
       "──────────\n",
       "    2     \n",
       " cos (y)  "
      ]
     },
     "execution_count": 42,
     "metadata": {},
     "output_type": "execute_result"
    }
   ],
   "source": [
    "eyy = Derivative(vy,y).doit()\n",
    "eyy"
   ]
  },
  {
   "cell_type": "markdown",
   "metadata": {},
   "source": [
    "# Plotting"
   ]
  },
  {
   "cell_type": "markdown",
   "metadata": {},
   "source": [
    "Firstly, we need to generate functions from the above expressions for density, velocity and pressure:"
   ]
  },
  {
   "cell_type": "code",
   "execution_count": 43,
   "metadata": {},
   "outputs": [],
   "source": [
    "density_function = lambdify((x,y),rho)"
   ]
  },
  {
   "cell_type": "code",
   "execution_count": 44,
   "metadata": {},
   "outputs": [],
   "source": [
    "vx_function = lambdify((x,y),vx.subs(Cx,1))"
   ]
  },
  {
   "cell_type": "code",
   "execution_count": 45,
   "metadata": {},
   "outputs": [],
   "source": [
    "vy_function = lambdify((x,y),vy.subs(Cy,1))"
   ]
  },
  {
   "cell_type": "code",
   "execution_count": 46,
   "metadata": {},
   "outputs": [],
   "source": [
    "def v_magnitude_function(x,y):\n",
    "    return np.sqrt(vy_function(x,y)**2 + vx_function(x,y)**2)"
   ]
  },
  {
   "cell_type": "code",
   "execution_count": 47,
   "metadata": {},
   "outputs": [],
   "source": [
    "pressure_function = lambdify((x,y),p.subs(C1,0).subs(Cx,1).subs(mu,1).subs(Cy,1))"
   ]
  },
  {
   "cell_type": "code",
   "execution_count": 48,
   "metadata": {},
   "outputs": [],
   "source": [
    "exx_function = lambdify((x,y),exx.subs(Cx,1))"
   ]
  },
  {
   "cell_type": "code",
   "execution_count": 49,
   "metadata": {},
   "outputs": [],
   "source": [
    "eyy_function = lambdify((x,y),eyy.subs(Cy,1))"
   ]
  },
  {
   "cell_type": "markdown",
   "metadata": {},
   "source": [
    "Now we need an x range to plot over:\n"
   ]
  },
  {
   "cell_type": "code",
   "execution_count": 50,
   "metadata": {},
   "outputs": [],
   "source": [
    "x_plotting = np.arange(-1.3,1.3,0.01)\n",
    "y_plotting = np.arange(-1.3,1.3,0.01)\n",
    "X_plotting,Y_plotting = np.meshgrid(x_plotting,y_plotting)"
   ]
  },
  {
   "cell_type": "markdown",
   "metadata": {},
   "source": [
    "Finally, we plot the density, velocity and pressure profiles:"
   ]
  },
  {
   "cell_type": "code",
   "execution_count": 51,
   "metadata": {
    "collapsed": true
   },
   "outputs": [
    {
     "data": {
      "text/plain": [
       "<matplotlib.text.Text at 0x7feaed6ee438>"
      ]
     },
     "execution_count": 51,
     "metadata": {},
     "output_type": "execute_result"
    },
    {
     "data": {
      "image/png": "[encoded data removed]",
      "text/plain": [
       "<matplotlib.figure.Figure at 0x7feaf50bbcf8>"
      ]
     },
     "metadata": {},
     "output_type": "display_data"
    }
   ],
   "source": [
    "fig,axes = plt.subplots(3,2,figsize=(12,18))\n",
    "\n",
    "axes[0,0].contourf(X_plotting,Y_plotting,density_function(X_plotting,Y_plotting))\n",
    "axes[0,0].contour(X_plotting,Y_plotting,density_function(X_plotting,Y_plotting))\n",
    "axes[0,0].set_xlabel(\"$x$\")\n",
    "axes[0,0].set_ylabel(\"$y$\")\n",
    "axes[0,0].set_title(r\"Density ($\\rho$)\")\n",
    "\n",
    "axes[0,1].contourf(X_plotting,Y_plotting,pressure_function(X_plotting,Y_plotting))\n",
    "axes[0,1].contour(X_plotting,Y_plotting,pressure_function(X_plotting,Y_plotting))\n",
    "axes[0,1].set_xlabel(\"$x$\")\n",
    "axes[0,1].set_ylabel(\"$y$\")\n",
    "axes[0,1].set_title(r\"Pressure ($p$)\")\n",
    "\n",
    "axes[1,0].contourf(X_plotting,Y_plotting,vx_function(X_plotting,Y_plotting))\n",
    "axes[1,0].contour(X_plotting,Y_plotting,vx_function(X_plotting,Y_plotting))\n",
    "axes[1,0].set_xlabel(\"$x$\")\n",
    "axes[1,0].set_ylabel(\"$y$\")\n",
    "axes[1,0].set_title(r\"x-Velocity ($v_x$)\")\n",
    "\n",
    "axes[1,1].contourf(X_plotting,Y_plotting,vy_function(X_plotting,Y_plotting))\n",
    "axes[1,1].contour(X_plotting,Y_plotting,vy_function(X_plotting,Y_plotting))\n",
    "axes[1,1].set_xlabel(\"$x$\")\n",
    "axes[1,1].set_ylabel(\"$y$\")\n",
    "axes[1,1].set_title(r\"y-Velocity ($v_y$)\")\n",
    "\n",
    "axes[2,0].contourf(X_plotting,Y_plotting,exx_function(X_plotting,Y_plotting))\n",
    "axes[2,0].contour(X_plotting,Y_plotting,exx_function(X_plotting,Y_plotting))\n",
    "axes[2,0].set_xlabel(\"$x$\")\n",
    "axes[2,0].set_ylabel(\"$y$\")\n",
    "axes[2,0].set_title(r\"xx Strain Rate ($e_{xx}$)\")\n",
    "\n",
    "axes[2,1].contourf(X_plotting,Y_plotting,eyy_function(X_plotting,Y_plotting))\n",
    "axes[2,1].contour(X_plotting,Y_plotting,eyy_function(X_plotting,Y_plotting))\n",
    "axes[2,1].set_xlabel(\"$x$\")\n",
    "axes[2,1].set_ylabel(\"$y$\")\n",
    "axes[2,1].set_title(r\"yy Strain Rate ($e_{yy}$)\")"
   ]
  },
  {
   "cell_type": "code",
   "execution_count": 52,
   "metadata": {},
   "outputs": [],
   "source": [
    "fig.savefig(\"2DCartesianSinusoidal.pdf\")"
   ]
  },
  {
   "cell_type": "code",
   "execution_count": null,
   "metadata": {},
   "outputs": [],
   "source": []
  }
 ],
 "metadata": {
  "kernelspec": {
   "display_name": "Python 3",
   "language": "python",
   "name": "python3"
  },
  "language_info": {
   "codemirror_mode": {
    "name": "ipython",
    "version": 3
   },
   "file_extension": ".py",
   "mimetype": "text/x-python",
   "name": "python",
   "nbconvert_exporter": "python",
   "pygments_lexer": "ipython3",
   "version": "3.6.2"
  }
 },
 "nbformat": 4,
 "nbformat_minor": 2
}
