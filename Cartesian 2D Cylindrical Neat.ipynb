{
 "cells": [
  {
   "cell_type": "markdown",
   "metadata": {},
   "source": [
    "# Analytical Benchmarks - 2D Cylindrical"
   ]
  },
  {
   "cell_type": "code",
   "execution_count": 1,
   "metadata": {
    "collapsed": true
   },
   "outputs": [],
   "source": [
    "#import and initialisation\n",
    "from sympy import *\n",
    "import matplotlib.pyplot as plt\n",
    "import numpy as np\n",
    "init_printing()\n",
    "%matplotlib inline"
   ]
  },
  {
   "cell_type": "code",
   "execution_count": 2,
   "metadata": {
    "collapsed": true
   },
   "outputs": [],
   "source": [
    "#define the symbols used in the derivation\n",
    "r,theta,rho,C1,Cr,Ctheta,gr,mu,rhor,rhotheta= symbols(r'r theta rho C1 C_r C_theta g_r mu rho_r rho_theta')\n",
    "#rhor, rhotheta, tau_xx, tau_xy, tau_yx, tau_yy = symbols(\"rho_x rho_y tau_{xx} tau_{xy} tau_{yx} tau_{yy}\")\n",
    "tau_rr, tau_rtheta, tau_thetar, tau_thetatheta = symbols(r'tau_rr, tau_{rtheta}, tau_thetar, tau_thetatheta')\n",
    "vr,vtheta= symbols('v_r v_theta',function=True)\n",
    "p = symbols('p',function=True)"
   ]
  },
  {
   "cell_type": "markdown",
   "metadata": {},
   "source": [
    "Firstly, we define the continuity (mass conservation) equation and the momentum equation in 1D, as well as the 1D stress tensor ($\\tau$):\n",
    "TODO:clean these up such that momentum equations directly call tau functions, everything takes proper arguments, using global values for anything except mu seems dangerous"
   ]
  },
  {
   "cell_type": "code",
   "execution_count": 3,
   "metadata": {},
   "outputs": [],
   "source": [
    "def get_continuity_equation_r(vr,rhor):\n",
    "    return 1/(r*rhor)*Derivative(r*rhor*vr,r)"
   ]
  },
  {
   "cell_type": "code",
   "execution_count": 4,
   "metadata": {},
   "outputs": [],
   "source": [
    "def get_continuity_equation_theta(vtheta,rhotheta):\n",
    "    return 1/(r*rhotheta)*Derivative(rhotheta*vtheta,theta)"
   ]
  },
  {
   "cell_type": "code",
   "execution_count": 5,
   "metadata": {},
   "outputs": [],
   "source": [
    "def get_velocity_divergence(vr,vtheta):\n",
    "    return 1/r*Derivative(r*vr,r) + 1/r*Derivative(vtheta,theta)"
   ]
  },
  {
   "cell_type": "code",
   "execution_count": 6,
   "metadata": {
    "collapsed": true
   },
   "outputs": [],
   "source": [
    "def get_tau_rr():\n",
    "    div = get_velocity_divergence(vr,vtheta)\n",
    "    return -2*mu*Derivative(vr,r) + mu*div*Rational(2,3)"
   ]
  },
  {
   "cell_type": "code",
   "execution_count": 25,
   "metadata": {},
   "outputs": [],
   "source": [
    "def get_tau_thetatheta():\n",
    "    div = get_velocity_divergence(vr,vtheta)\n",
    "    return -2*mu*(1/r*Derivative(r*vr,r) + vr/r) + mu*div*Rational(2,3)"
   ]
  },
  {
   "cell_type": "code",
   "execution_count": 8,
   "metadata": {},
   "outputs": [],
   "source": [
    "def get_tau_rtheta():\n",
    "    return -mu*(r*Derivative(vtheta/r,r) + 1/r*Derivative(vr,theta))"
   ]
  },
  {
   "cell_type": "code",
   "execution_count": 9,
   "metadata": {},
   "outputs": [],
   "source": [
    "def get_tau_thetar():\n",
    "    return get_tau_rtheta()"
   ]
  },
  {
   "cell_type": "code",
   "execution_count": 10,
   "metadata": {
    "collapsed": true
   },
   "outputs": [],
   "source": [
    "def get_momentum_equation_r(p):\n",
    "    return -Derivative(p,r) + rho*gr - (1/r*Derivative(r*tau_rr,r) + 1/r*Derivative(tau_rtheta,theta) - tau_thetatheta/r)"
   ]
  },
  {
   "cell_type": "code",
   "execution_count": 31,
   "metadata": {},
   "outputs": [],
   "source": [
    "def get_momentum_equation_theta(p):\n",
    "    return -1/r*Derivative(p,theta) - (1/r*Derivative(r**2*tau_thetar,r) + 1/r*Derivative(tau_thetatheta,theta))"
   ]
  },
  {
   "cell_type": "markdown",
   "metadata": {},
   "source": [
    "Next we prescibe the density profile, and then get the continuity equation, in both x and y directions:"
   ]
  },
  {
   "cell_type": "code",
   "execution_count": 12,
   "metadata": {},
   "outputs": [],
   "source": [
    "rhor=r\n",
    "rhotheta=cos(theta)\n",
    "rho=rhor*rhotheta"
   ]
  },
  {
   "cell_type": "code",
   "execution_count": 13,
   "metadata": {},
   "outputs": [
    {
     "data": {
      "image/png": "[encoded data removed]",
      "text/latex": [
       "$$\\frac{1}{r^{2}} \\frac{d}{d r}\\left(r^{2} \\operatorname{v_{r}}{\\left (r \\right )}\\right)$$"
      ],
      "text/plain": [
       "d ⎛ 2      ⎞\n",
       "──⎝r ⋅vᵣ(r)⎠\n",
       "dr          \n",
       "────────────\n",
       "      2     \n",
       "     r      "
      ]
     },
     "execution_count": 13,
     "metadata": {},
     "output_type": "execute_result"
    }
   ],
   "source": [
    "continuity_equation_r = get_continuity_equation_r(vr(r),rhor)\n",
    "continuity_equation_r"
   ]
  },
  {
   "cell_type": "code",
   "execution_count": 14,
   "metadata": {},
   "outputs": [
    {
     "data": {
      "image/png": "[encoded data removed]",
      "text/latex": [
       "$$\\frac{\\frac{d}{d \\theta}\\left(\\operatorname{v_{\\theta}}{\\left (\\theta \\right )} \\cos{\\left (\\theta \\right )}\\right)}{r \\cos{\\left (\\theta \\right )}}$$"
      ],
      "text/plain": [
       "d                   \n",
       "──(vₜₕₑₜₐ(θ)⋅cos(θ))\n",
       "dθ                  \n",
       "────────────────────\n",
       "      r⋅cos(θ)      "
      ]
     },
     "execution_count": 14,
     "metadata": {},
     "output_type": "execute_result"
    }
   ],
   "source": [
    "continuity_equation_theta = get_continuity_equation_theta(vtheta(theta),rhotheta)\n",
    "continuity_equation_theta"
   ]
  },
  {
   "cell_type": "markdown",
   "metadata": {},
   "source": [
    "(Note that equations in Sympy are implicitly equal to zero)\n",
    "\n",
    "Then, we solve the continuity equations for the velocity:"
   ]
  },
  {
   "cell_type": "code",
   "execution_count": 15,
   "metadata": {},
   "outputs": [
    {
     "data": {
      "image/png": "[encoded data removed]",
      "text/latex": [
       "$$\\operatorname{v_{r}}{\\left (r \\right )} = \\frac{C_{1}}{r^{2}}$$"
      ],
      "text/plain": [
       "        C₁\n",
       "vᵣ(r) = ──\n",
       "         2\n",
       "        r "
      ]
     },
     "execution_count": 15,
     "metadata": {},
     "output_type": "execute_result"
    }
   ],
   "source": [
    "velocity_equation_r = dsolve(continuity_equation_r)\n",
    "velocity_equation_r"
   ]
  },
  {
   "cell_type": "code",
   "execution_count": 16,
   "metadata": {},
   "outputs": [
    {
     "data": {
      "image/png": "[encoded data removed]",
      "text/latex": [
       "$$\\cos{\\left (\\theta \\right )}$$"
      ],
      "text/plain": [
       "cos(θ)"
      ]
     },
     "execution_count": 16,
     "metadata": {},
     "output_type": "execute_result"
    }
   ],
   "source": [
    "rhotheta"
   ]
  },
  {
   "cell_type": "code",
   "execution_count": 17,
   "metadata": {},
   "outputs": [
    {
     "data": {
      "image/png": "[encoded data removed]",
      "text/latex": [
       "$$\\operatorname{v_{\\theta}}{\\left (\\theta \\right )} = \\frac{e^{C_{1} r}}{\\sqrt{- \\cos^{2}{\\left (\\theta \\right )}}}$$"
      ],
      "text/plain": [
       "                 C₁⋅r    \n",
       "                ℯ        \n",
       "vₜₕₑₜₐ(θ) = ─────────────\n",
       "               __________\n",
       "              ╱     2    \n",
       "            ╲╱  -cos (θ) "
      ]
     },
     "execution_count": 17,
     "metadata": {},
     "output_type": "execute_result"
    }
   ],
   "source": [
    "velocity_equation_theta = dsolve(continuity_equation_theta)\n",
    "velocity_equation_theta"
   ]
  },
  {
   "cell_type": "markdown",
   "metadata": {},
   "source": [
    "Due to limitations with sympy, it finds an imaginary solution, whereas we need the real part. We therefore prescribe a real solution, then verify it:"
   ]
  },
  {
   "cell_type": "code",
   "execution_count": 18,
   "metadata": {},
   "outputs": [],
   "source": [
    "vtheta = Ctheta/cos(theta)"
   ]
  },
  {
   "cell_type": "code",
   "execution_count": 19,
   "metadata": {},
   "outputs": [
    {
     "data": {
      "image/png": "[encoded data removed]",
      "text/latex": [
       "$$0$$"
      ],
      "text/plain": [
       "0"
      ]
     },
     "execution_count": 19,
     "metadata": {},
     "output_type": "execute_result"
    }
   ],
   "source": [
    "get_continuity_equation_theta(vtheta,rhotheta).doit()"
   ]
  },
  {
   "cell_type": "code",
   "execution_count": 20,
   "metadata": {},
   "outputs": [
    {
     "data": {
      "image/png": "[encoded data removed]",
      "text/latex": [
       "$$\\frac{C_{r}}{r^{2}}$$"
      ],
      "text/plain": [
       "Cᵣ\n",
       "──\n",
       " 2\n",
       "r "
      ]
     },
     "execution_count": 20,
     "metadata": {},
     "output_type": "execute_result"
    }
   ],
   "source": [
    "vr = velocity_equation_r.rhs.subs(C1,Cr)\n",
    "vr"
   ]
  },
  {
   "cell_type": "markdown",
   "metadata": {},
   "source": [
    "Next, we obtain the stress tensor $\\tau$:"
   ]
  },
  {
   "cell_type": "code",
   "execution_count": 21,
   "metadata": {},
   "outputs": [
    {
     "data": {
      "image/png": "[encoded data removed]",
      "text/latex": [
       "$$\\frac{4 C_{r}}{r^{3}} \\mu + \\frac{2 \\mu}{3} \\left(- \\frac{C_{r}}{r^{3}} + \\frac{C_{\\theta} \\sin{\\left (\\theta \\right )}}{r \\cos^{2}{\\left (\\theta \\right )}}\\right)$$"
      ],
      "text/plain": [
       "             ⎛  Cᵣ   Cₜₕₑₜₐ⋅sin(θ)⎞\n",
       "         2⋅μ⋅⎜- ── + ─────────────⎟\n",
       "             ⎜   3          2     ⎟\n",
       "4⋅Cᵣ⋅μ       ⎝  r      r⋅cos (θ)  ⎠\n",
       "────── + ──────────────────────────\n",
       "   3                 3             \n",
       "  r                                "
      ]
     },
     "execution_count": 21,
     "metadata": {},
     "output_type": "execute_result"
    }
   ],
   "source": [
    "tau_rr = get_tau_rr()\n",
    "tau_rr.doit()"
   ]
  },
  {
   "cell_type": "code",
   "execution_count": 22,
   "metadata": {},
   "outputs": [
    {
     "data": {
      "image/png": "[encoded data removed]",
      "text/latex": [
       "$$\\frac{C_{\\theta} \\mu}{r \\cos{\\left (\\theta \\right )}}$$"
      ],
      "text/plain": [
       "Cₜₕₑₜₐ⋅μ\n",
       "────────\n",
       "r⋅cos(θ)"
      ]
     },
     "execution_count": 22,
     "metadata": {},
     "output_type": "execute_result"
    }
   ],
   "source": [
    "tau_rtheta = get_tau_rtheta()\n",
    "tau_rtheta.doit()"
   ]
  },
  {
   "cell_type": "code",
   "execution_count": 23,
   "metadata": {},
   "outputs": [
    {
     "data": {
      "image/png": "[encoded data removed]",
      "text/latex": [
       "$$\\frac{C_{\\theta} \\mu}{r \\cos{\\left (\\theta \\right )}}$$"
      ],
      "text/plain": [
       "Cₜₕₑₜₐ⋅μ\n",
       "────────\n",
       "r⋅cos(θ)"
      ]
     },
     "execution_count": 23,
     "metadata": {},
     "output_type": "execute_result"
    }
   ],
   "source": [
    "tau_thetar = get_tau_thetar()\n",
    "tau_thetar.doit()"
   ]
  },
  {
   "cell_type": "code",
   "execution_count": 26,
   "metadata": {},
   "outputs": [
    {
     "data": {
      "image/png": "[encoded data removed]",
      "text/latex": [
       "$$\\frac{2 \\mu}{3} \\left(- \\frac{C_{r}}{r^{3}} + \\frac{C_{\\theta} \\sin{\\left (\\theta \\right )}}{r \\cos^{2}{\\left (\\theta \\right )}}\\right)$$"
      ],
      "text/plain": [
       "    ⎛  Cᵣ   Cₜₕₑₜₐ⋅sin(θ)⎞\n",
       "2⋅μ⋅⎜- ── + ─────────────⎟\n",
       "    ⎜   3          2     ⎟\n",
       "    ⎝  r      r⋅cos (θ)  ⎠\n",
       "──────────────────────────\n",
       "            3             "
      ]
     },
     "execution_count": 26,
     "metadata": {},
     "output_type": "execute_result"
    }
   ],
   "source": [
    "tau_thetatheta = get_tau_thetatheta()\n",
    "tau_thetatheta.doit()"
   ]
  },
  {
   "cell_type": "markdown",
   "metadata": {},
   "source": [
    "Now, we prescibe the gravitational field:"
   ]
  },
  {
   "cell_type": "code",
   "execution_count": null,
   "metadata": {},
   "outputs": [],
   "source": []
  },
  {
   "cell_type": "markdown",
   "metadata": {},
   "source": [
    "Then, we obtain the momentum equation:"
   ]
  },
  {
   "cell_type": "code",
   "execution_count": 27,
   "metadata": {},
   "outputs": [
    {
     "data": {
      "image/png": "[encoded data removed]",
      "text/latex": [
       "$$g_{r} r \\cos{\\left (\\theta \\right )} - \\frac{\\partial}{\\partial r} p{\\left (r,\\theta \\right )} + \\frac{1}{r} \\left(- 2 \\mu \\left(\\frac{C_{r}}{r^{3}} + \\frac{\\frac{\\partial}{\\partial r}\\left(\\frac{C_{r}}{r}\\right)}{r}\\right) + \\frac{2 \\mu}{3} \\left(\\frac{\\frac{\\partial}{\\partial r}\\left(\\frac{C_{r}}{r}\\right)}{r} + \\frac{1}{r} \\frac{\\partial}{\\partial \\theta}\\left(\\frac{C_{\\theta}}{\\cos{\\left (\\theta \\right )}}\\right)\\right)\\right) - \\frac{1}{r} \\frac{\\partial}{\\partial \\theta}\\left(- \\mu \\left(r \\frac{\\partial}{\\partial r}\\left(\\frac{C_{\\theta}}{r \\cos{\\left (\\theta \\right )}}\\right) + \\frac{\\frac{\\partial}{\\partial \\theta}\\left(\\frac{C_{r}}{r^{2}}\\right)}{r}\\right)\\right) - \\frac{1}{r} \\frac{\\partial}{\\partial r}\\left(r \\left(\\frac{2 \\mu}{3} \\left(\\frac{\\frac{\\partial}{\\partial r}\\left(\\frac{C_{r}}{r}\\right)}{r} + \\frac{1}{r} \\frac{\\partial}{\\partial \\theta}\\left(\\frac{C_{\\theta}}{\\cos{\\left (\\theta \\right )}}\\right)\\right) - 2 \\mu \\frac{\\partial}{\\partial r}\\left(\\frac{C_{r}}{r^{2}}\\right)\\right)\\right)$$"
      ],
      "text/plain": [
       "                                                      ⎛∂ ⎛Cᵣ⎞   ∂ ⎛Cₜₕₑₜₐ⎞⎞   \n",
       "                                                      ⎜──⎜──⎟   ──⎜──────⎟⎟   \n",
       "                                  ⎛     ∂ ⎛Cᵣ⎞⎞       ⎜∂r⎝r ⎠   ∂θ⎝cos(θ)⎠⎟   \n",
       "                                  ⎜     ──⎜──⎟⎟   2⋅μ⋅⎜────── + ──────────⎟   \n",
       "                                  ⎜Cᵣ   ∂r⎝r ⎠⎟       ⎝  r          r     ⎠   \n",
       "                            - 2⋅μ⋅⎜── + ──────⎟ + ─────────────────────────   \n",
       "                                  ⎜ 3     r   ⎟               3               \n",
       "              ∂                   ⎝r          ⎠                               \n",
       "gᵣ⋅r⋅cos(θ) - ──(p(r, θ)) + ─────────────────────────────────────────────── - \n",
       "              ∂r                                   r                          \n",
       "\n",
       "                                     ⎛  ⎛    ⎛∂ ⎛Cᵣ⎞   ∂ ⎛Cₜₕₑₜₐ⎞⎞            \n",
       "                                     ⎜  ⎜    ⎜──⎜──⎟   ──⎜──────⎟⎟            \n",
       "  ⎛   ⎛                 ∂ ⎛Cᵣ⎞⎞⎞     ⎜  ⎜    ⎜∂r⎝r ⎠   ∂θ⎝cos(θ)⎠⎟            \n",
       "  ⎜   ⎜                 ──⎜──⎟⎟⎟     ⎜  ⎜2⋅μ⋅⎜────── + ──────────⎟            \n",
       "  ⎜   ⎜                 ∂θ⎜ 2⎟⎟⎟   ∂ ⎜  ⎜    ⎝  r          r     ⎠       ∂ ⎛Cᵣ\n",
       "∂ ⎜   ⎜  ∂ ⎛ Cₜₕₑₜₐ ⎞     ⎝r ⎠⎟⎟   ──⎜r⋅⎜───────────────────────── - 2⋅μ⋅──⎜──\n",
       "──⎜-μ⋅⎜r⋅──⎜────────⎟ + ──────⎟⎟   ∂r⎜  ⎜            3                   ∂r⎜ 2\n",
       "∂θ⎝   ⎝  ∂r⎝r⋅cos(θ)⎠     r   ⎠⎠     ⎝  ⎝                                  ⎝r \n",
       "──────────────────────────────── - ───────────────────────────────────────────\n",
       "               r                                         r                    \n",
       "\n",
       " ⎞⎞\n",
       " ⎟⎟\n",
       " ⎟⎟\n",
       " ⎟⎟\n",
       "⎞⎟⎟\n",
       "⎟⎟⎟\n",
       "⎟⎟⎟\n",
       "⎠⎠⎠\n",
       "───\n",
       "   "
      ]
     },
     "execution_count": 27,
     "metadata": {},
     "output_type": "execute_result"
    }
   ],
   "source": [
    "momentum_equation_r = get_momentum_equation_r(p(r,theta))\n",
    "momentum_equation_r"
   ]
  },
  {
   "cell_type": "code",
   "execution_count": 32,
   "metadata": {},
   "outputs": [
    {
     "data": {
      "image/png": "[encoded data removed]",
      "text/latex": [
       "$$- \\frac{1}{r} \\frac{\\partial}{\\partial r}\\left(- \\mu r^{2} \\left(r \\frac{\\partial}{\\partial r}\\left(\\frac{C_{\\theta}}{r \\cos{\\left (\\theta \\right )}}\\right) + \\frac{\\frac{\\partial}{\\partial \\theta}\\left(\\frac{C_{r}}{r^{2}}\\right)}{r}\\right)\\right) - \\frac{1}{r} \\frac{\\partial}{\\partial \\theta}\\left(- 2 \\mu \\left(\\frac{C_{r}}{r^{3}} + \\frac{\\frac{\\partial}{\\partial r}\\left(\\frac{C_{r}}{r}\\right)}{r}\\right) + \\frac{2 \\mu}{3} \\left(\\frac{\\frac{\\partial}{\\partial r}\\left(\\frac{C_{r}}{r}\\right)}{r} + \\frac{1}{r} \\frac{\\partial}{\\partial \\theta}\\left(\\frac{C_{\\theta}}{\\cos{\\left (\\theta \\right )}}\\right)\\right)\\right) - \\frac{1}{r} \\frac{\\partial}{\\partial \\theta} p{\\left (r,\\theta \\right )}$$"
      ],
      "text/plain": [
       "                                          ⎛                          ⎛∂ ⎛Cᵣ⎞  \n",
       "                                          ⎜                          ⎜──⎜──⎟  \n",
       "    ⎛      ⎛                 ∂ ⎛Cᵣ⎞⎞⎞     ⎜      ⎛     ∂ ⎛Cᵣ⎞⎞       ⎜∂r⎝r ⎠  \n",
       "    ⎜      ⎜                 ──⎜──⎟⎟⎟     ⎜      ⎜     ──⎜──⎟⎟   2⋅μ⋅⎜────── +\n",
       "    ⎜      ⎜                 ∂θ⎜ 2⎟⎟⎟   ∂ ⎜      ⎜Cᵣ   ∂r⎝r ⎠⎟       ⎝  r     \n",
       "  ∂ ⎜    2 ⎜  ∂ ⎛ Cₜₕₑₜₐ ⎞     ⎝r ⎠⎟⎟   ──⎜- 2⋅μ⋅⎜── + ──────⎟ + ─────────────\n",
       "  ──⎜-μ⋅r ⋅⎜r⋅──⎜────────⎟ + ──────⎟⎟   ∂θ⎜      ⎜ 3     r   ⎟               3\n",
       "  ∂r⎝      ⎝  ∂r⎝r⋅cos(θ)⎠     r   ⎠⎠     ⎝      ⎝r          ⎠                \n",
       "- ─────────────────────────────────── - ──────────────────────────────────────\n",
       "                   r                                             r            \n",
       "\n",
       " ∂ ⎛Cₜₕₑₜₐ⎞⎞⎞              \n",
       " ──⎜──────⎟⎟⎟              \n",
       " ∂θ⎝cos(θ)⎠⎟⎟              \n",
       " ──────────⎟⎟              \n",
       "     r     ⎠⎟              \n",
       "────────────⎟   ∂          \n",
       "            ⎟   ──(p(r, θ))\n",
       "            ⎠   ∂θ         \n",
       "───────────── - ───────────\n",
       "                     r     "
      ]
     },
     "execution_count": 32,
     "metadata": {},
     "output_type": "execute_result"
    }
   ],
   "source": [
    "momentum_equation_theta = get_momentum_equation_theta(p(r,theta))\n",
    "momentum_equation_theta"
   ]
  },
  {
   "cell_type": "markdown",
   "metadata": {},
   "source": [
    "Next, we solve this differential equation (by integrating with respect to x) to give us an equation for the pressure:"
   ]
  },
  {
   "cell_type": "code",
   "execution_count": 33,
   "metadata": {},
   "outputs": [
    {
     "data": {
      "image/png": "[encoded data removed]",
      "text/latex": [
       "$$p{\\left (r,\\theta \\right )} = - \\frac{2 C_{r}}{r^{3}} \\mu + \\frac{C_{\\theta} \\mu \\sin{\\left (\\theta \\right )}}{3 r \\cos^{2}{\\left (\\theta \\right )}} + \\frac{g_{r} r^{2}}{2} \\cos{\\left (\\theta \\right )} + F{\\left (\\theta \\right )}$$"
      ],
      "text/plain": [
       "                                           2              \n",
       "            2⋅Cᵣ⋅μ   Cₜₕₑₜₐ⋅μ⋅sin(θ)   gᵣ⋅r ⋅cos(θ)       \n",
       "p(r, θ) = - ────── + ─────────────── + ──────────── + F(θ)\n",
       "               3              2             2             \n",
       "              r        3⋅r⋅cos (θ)                        "
      ]
     },
     "execution_count": 33,
     "metadata": {},
     "output_type": "execute_result"
    }
   ],
   "source": [
    "pressure_equation = pdsolve(momentum_equation_r)\n",
    "pressure_equation"
   ]
  },
  {
   "cell_type": "markdown",
   "metadata": {},
   "source": [
    "This equation features the unknown function F(y).\n",
    "To find this function, we first differentiate both sides with respect to y:"
   ]
  },
  {
   "cell_type": "code",
   "execution_count": 34,
   "metadata": {},
   "outputs": [
    {
     "data": {
      "image/png": "[encoded data removed]",
      "text/latex": [
       "$$\\frac{\\partial}{\\partial \\theta} p{\\left (r,\\theta \\right )} = - \\frac{2 C_{r}}{r^{3}} \\mu + \\frac{C_{\\theta} \\mu \\sin{\\left (\\theta \\right )}}{3 r \\cos^{2}{\\left (\\theta \\right )}} + \\frac{g_{r} r^{2}}{2} \\cos{\\left (\\theta \\right )} + F{\\left (\\theta \\right )}$$"
      ],
      "text/plain": [
       "  ⎛                                           2              ⎞\n",
       "∂ ⎜            2⋅Cᵣ⋅μ   Cₜₕₑₜₐ⋅μ⋅sin(θ)   gᵣ⋅r ⋅cos(θ)       ⎟\n",
       "──⎜p(r, θ) = - ────── + ─────────────── + ──────────── + F(θ)⎟\n",
       "∂θ⎜               3              2             2             ⎟\n",
       "  ⎝              r        3⋅r⋅cos (θ)                        ⎠"
      ]
     },
     "execution_count": 34,
     "metadata": {},
     "output_type": "execute_result"
    }
   ],
   "source": [
    "pressure_equation_derivative = Derivative(pressure_equation,theta)\n",
    "pressure_equation_derivative"
   ]
  },
  {
   "cell_type": "markdown",
   "metadata": {},
   "source": [
    "We then substitute this equation for dp/dy into the y-dimension momentum equation:"
   ]
  },
  {
   "cell_type": "code",
   "execution_count": 35,
   "metadata": {},
   "outputs": [
    {
     "data": {
      "image/png": "[encoded data removed]",
      "text/latex": [
       "$$\\frac{\\partial}{\\partial \\theta}\\left(- \\frac{2 C_{r}}{r^{3}} \\mu + \\frac{C_{\\theta} \\mu \\sin{\\left (\\theta \\right )}}{3 r \\cos^{2}{\\left (\\theta \\right )}} + \\frac{g_{r} r^{2}}{2} \\cos{\\left (\\theta \\right )} + F{\\left (\\theta \\right )}\\right)$$"
      ],
      "text/plain": [
       "  ⎛                                 2              ⎞\n",
       "∂ ⎜  2⋅Cᵣ⋅μ   Cₜₕₑₜₐ⋅μ⋅sin(θ)   gᵣ⋅r ⋅cos(θ)       ⎟\n",
       "──⎜- ────── + ─────────────── + ──────────── + F(θ)⎟\n",
       "∂θ⎜     3              2             2             ⎟\n",
       "  ⎝    r        3⋅r⋅cos (θ)                        ⎠"
      ]
     },
     "execution_count": 35,
     "metadata": {},
     "output_type": "execute_result"
    }
   ],
   "source": [
    "Derivative(pressure_equation.rhs,theta)"
   ]
  },
  {
   "cell_type": "code",
   "execution_count": 36,
   "metadata": {},
   "outputs": [
    {
     "data": {
      "image/png": "[encoded data removed]",
      "text/latex": [
       "$$- \\frac{C_{\\theta} \\mu}{r \\cos{\\left (\\theta \\right )}} - \\frac{2 \\mu}{3 r} \\left(\\frac{2 C_{\\theta} \\sin^{2}{\\left (\\theta \\right )}}{r \\cos^{3}{\\left (\\theta \\right )}} + \\frac{C_{\\theta}}{r \\cos{\\left (\\theta \\right )}}\\right) - \\frac{1}{r} \\left(\\frac{2 C_{\\theta} \\mu \\sin^{2}{\\left (\\theta \\right )}}{3 r \\cos^{3}{\\left (\\theta \\right )}} + \\frac{C_{\\theta} \\mu}{3 r \\cos{\\left (\\theta \\right )}} - \\frac{g_{r} r^{2}}{2} \\sin{\\left (\\theta \\right )} + \\frac{d}{d \\theta} F{\\left (\\theta \\right )}\\right)$$"
      ],
      "text/plain": [
       "                 ⎛            2              ⎞                 2              \n",
       "                 ⎜2⋅Cₜₕₑₜₐ⋅sin (θ)    Cₜₕₑₜₐ ⎟   2⋅Cₜₕₑₜₐ⋅μ⋅sin (θ)    Cₜₕₑₜₐ⋅\n",
       "             2⋅μ⋅⎜──────────────── + ────────⎟   ────────────────── + ────────\n",
       "                 ⎜        3          r⋅cos(θ)⎟             3          3⋅r⋅cos(\n",
       "  Cₜₕₑₜₐ⋅μ       ⎝   r⋅cos (θ)               ⎠      3⋅r⋅cos (θ)               \n",
       "- ──────── - ───────────────────────────────── - ─────────────────────────────\n",
       "  r⋅cos(θ)                  3⋅r                                              r\n",
       "\n",
       "         2                  \n",
       "μ    gᵣ⋅r ⋅sin(θ)   d       \n",
       "── - ──────────── + ──(F(θ))\n",
       "θ)        2         dθ      \n",
       "                            \n",
       "────────────────────────────\n",
       "                            "
      ]
     },
     "execution_count": 36,
     "metadata": {},
     "output_type": "execute_result"
    }
   ],
   "source": [
    "F_equation = momentum_equation_theta.subs(Derivative(pressure_equation.lhs,theta),\n",
    "                         Derivative(pressure_equation.rhs,theta)).doit()\n",
    "F_equation"
   ]
  },
  {
   "cell_type": "markdown",
   "metadata": {},
   "source": [
    "We then solve this equation for F, by integrating with respect to y:"
   ]
  },
  {
   "cell_type": "code",
   "execution_count": 37,
   "metadata": {},
   "outputs": [
    {
     "ename": "KeyboardInterrupt",
     "evalue": "",
     "output_type": "error",
     "traceback": [
      "\u001b[0;31m---------------------------------------------------------------------------\u001b[0m",
      "\u001b[0;31mKeyboardInterrupt\u001b[0m                         Traceback (most recent call last)",
      "\u001b[0;32m<ipython-input-37-b9c355d2a983>\u001b[0m in \u001b[0;36m<module>\u001b[0;34m()\u001b[0m\n\u001b[0;32m----> 1\u001b[0;31m \u001b[0mF_solved\u001b[0m \u001b[0;34m=\u001b[0m \u001b[0mdsolve\u001b[0m\u001b[0;34m(\u001b[0m\u001b[0mF_equation\u001b[0m\u001b[0;34m)\u001b[0m\u001b[0;34m\u001b[0m\u001b[0m\n\u001b[0m\u001b[1;32m      2\u001b[0m \u001b[0mF_solved\u001b[0m\u001b[0;34m\u001b[0m\u001b[0m\n",
      "\u001b[0;32m~/anaconda3/lib/python3.6/site-packages/sympy/solvers/ode.py\u001b[0m in \u001b[0;36mdsolve\u001b[0;34m(eq, func, hint, simplify, ics, xi, eta, x0, n, **kwargs)\u001b[0m\n\u001b[1;32m    657\u001b[0m             \u001b[0;31m# The key 'hint' stores the hint needed to be solved for.\u001b[0m\u001b[0;34m\u001b[0m\u001b[0;34m\u001b[0m\u001b[0m\n\u001b[1;32m    658\u001b[0m             \u001b[0mhint\u001b[0m \u001b[0;34m=\u001b[0m \u001b[0mhints\u001b[0m\u001b[0;34m[\u001b[0m\u001b[0;34m'hint'\u001b[0m\u001b[0;34m]\u001b[0m\u001b[0;34m\u001b[0m\u001b[0m\n\u001b[0;32m--> 659\u001b[0;31m             \u001b[0;32mreturn\u001b[0m \u001b[0m_helper_simplify\u001b[0m\u001b[0;34m(\u001b[0m\u001b[0meq\u001b[0m\u001b[0;34m,\u001b[0m \u001b[0mhint\u001b[0m\u001b[0;34m,\u001b[0m \u001b[0mhints\u001b[0m\u001b[0;34m,\u001b[0m \u001b[0msimplify\u001b[0m\u001b[0;34m)\u001b[0m\u001b[0;34m\u001b[0m\u001b[0m\n\u001b[0m\u001b[1;32m    660\u001b[0m \u001b[0;34m\u001b[0m\u001b[0m\n\u001b[1;32m    661\u001b[0m \u001b[0;32mdef\u001b[0m \u001b[0m_helper_simplify\u001b[0m\u001b[0;34m(\u001b[0m\u001b[0meq\u001b[0m\u001b[0;34m,\u001b[0m \u001b[0mhint\u001b[0m\u001b[0;34m,\u001b[0m \u001b[0mmatch\u001b[0m\u001b[0;34m,\u001b[0m \u001b[0msimplify\u001b[0m\u001b[0;34m=\u001b[0m\u001b[0;32mTrue\u001b[0m\u001b[0;34m,\u001b[0m \u001b[0;34m**\u001b[0m\u001b[0mkwargs\u001b[0m\u001b[0;34m)\u001b[0m\u001b[0;34m:\u001b[0m\u001b[0;34m\u001b[0m\u001b[0m\n",
      "\u001b[0;32m~/anaconda3/lib/python3.6/site-packages/sympy/solvers/ode.py\u001b[0m in \u001b[0;36m_helper_simplify\u001b[0;34m(eq, hint, match, simplify, **kwargs)\u001b[0m\n\u001b[1;32m    683\u001b[0m         \u001b[0mcons\u001b[0m \u001b[0;34m=\u001b[0m \u001b[0;32mlambda\u001b[0m \u001b[0ms\u001b[0m\u001b[0;34m:\u001b[0m \u001b[0ms\u001b[0m\u001b[0;34m.\u001b[0m\u001b[0mfree_symbols\u001b[0m\u001b[0;34m.\u001b[0m\u001b[0mdifference\u001b[0m\u001b[0;34m(\u001b[0m\u001b[0mfree\u001b[0m\u001b[0;34m)\u001b[0m\u001b[0;34m\u001b[0m\u001b[0m\n\u001b[1;32m    684\u001b[0m         \u001b[0;32mif\u001b[0m \u001b[0misinstance\u001b[0m\u001b[0;34m(\u001b[0m\u001b[0msols\u001b[0m\u001b[0;34m,\u001b[0m \u001b[0mExpr\u001b[0m\u001b[0;34m)\u001b[0m\u001b[0;34m:\u001b[0m\u001b[0;34m\u001b[0m\u001b[0m\n\u001b[0;32m--> 685\u001b[0;31m             \u001b[0;32mreturn\u001b[0m \u001b[0modesimp\u001b[0m\u001b[0;34m(\u001b[0m\u001b[0msols\u001b[0m\u001b[0;34m,\u001b[0m \u001b[0mfunc\u001b[0m\u001b[0;34m,\u001b[0m \u001b[0morder\u001b[0m\u001b[0;34m,\u001b[0m \u001b[0mcons\u001b[0m\u001b[0;34m(\u001b[0m\u001b[0msols\u001b[0m\u001b[0;34m)\u001b[0m\u001b[0;34m,\u001b[0m \u001b[0mhint\u001b[0m\u001b[0;34m)\u001b[0m\u001b[0;34m\u001b[0m\u001b[0m\n\u001b[0m\u001b[1;32m    686\u001b[0m         \u001b[0;32mreturn\u001b[0m \u001b[0;34m[\u001b[0m\u001b[0modesimp\u001b[0m\u001b[0;34m(\u001b[0m\u001b[0ms\u001b[0m\u001b[0;34m,\u001b[0m \u001b[0mfunc\u001b[0m\u001b[0;34m,\u001b[0m \u001b[0morder\u001b[0m\u001b[0;34m,\u001b[0m \u001b[0mcons\u001b[0m\u001b[0;34m(\u001b[0m\u001b[0ms\u001b[0m\u001b[0;34m)\u001b[0m\u001b[0;34m,\u001b[0m \u001b[0mhint\u001b[0m\u001b[0;34m)\u001b[0m \u001b[0;32mfor\u001b[0m \u001b[0ms\u001b[0m \u001b[0;32min\u001b[0m \u001b[0msols\u001b[0m\u001b[0;34m]\u001b[0m\u001b[0;34m\u001b[0m\u001b[0m\n\u001b[1;32m    687\u001b[0m     \u001b[0;32melse\u001b[0m\u001b[0;34m:\u001b[0m\u001b[0;34m\u001b[0m\u001b[0m\n",
      "\u001b[0;32m~/anaconda3/lib/python3.6/site-packages/sympy/core/multidimensional.py\u001b[0m in \u001b[0;36mwrapper\u001b[0;34m(*args, **kwargs)\u001b[0m\n\u001b[1;32m    136\u001b[0m                     \u001b[0mresult\u001b[0m \u001b[0;34m=\u001b[0m \u001b[0mapply_on_element\u001b[0m\u001b[0;34m(\u001b[0m\u001b[0mwrapper\u001b[0m\u001b[0;34m,\u001b[0m \u001b[0margs\u001b[0m\u001b[0;34m,\u001b[0m \u001b[0mkwargs\u001b[0m\u001b[0;34m,\u001b[0m \u001b[0mn\u001b[0m\u001b[0;34m)\u001b[0m\u001b[0;34m\u001b[0m\u001b[0m\n\u001b[1;32m    137\u001b[0m                     \u001b[0;32mreturn\u001b[0m \u001b[0mresult\u001b[0m\u001b[0;34m\u001b[0m\u001b[0m\n\u001b[0;32m--> 138\u001b[0;31m             \u001b[0;32mreturn\u001b[0m \u001b[0mf\u001b[0m\u001b[0;34m(\u001b[0m\u001b[0;34m*\u001b[0m\u001b[0margs\u001b[0m\u001b[0;34m,\u001b[0m \u001b[0;34m**\u001b[0m\u001b[0mkwargs\u001b[0m\u001b[0;34m)\u001b[0m\u001b[0;34m\u001b[0m\u001b[0m\n\u001b[0m\u001b[1;32m    139\u001b[0m         \u001b[0;32mreturn\u001b[0m \u001b[0mwrapper\u001b[0m\u001b[0;34m\u001b[0m\u001b[0m\n",
      "\u001b[0;32m~/anaconda3/lib/python3.6/site-packages/sympy/solvers/ode.py\u001b[0m in \u001b[0;36modesimp\u001b[0;34m(eq, func, order, constants, hint)\u001b[0m\n\u001b[1;32m   2049\u001b[0m \u001b[0;34m\u001b[0m\u001b[0m\n\u001b[1;32m   2050\u001b[0m     \u001b[0;31m# First, integrate if the hint allows it.\u001b[0m\u001b[0;34m\u001b[0m\u001b[0;34m\u001b[0m\u001b[0m\n\u001b[0;32m-> 2051\u001b[0;31m     \u001b[0meq\u001b[0m \u001b[0;34m=\u001b[0m \u001b[0m_handle_Integral\u001b[0m\u001b[0;34m(\u001b[0m\u001b[0meq\u001b[0m\u001b[0;34m,\u001b[0m \u001b[0mfunc\u001b[0m\u001b[0;34m,\u001b[0m \u001b[0morder\u001b[0m\u001b[0;34m,\u001b[0m \u001b[0mhint\u001b[0m\u001b[0;34m)\u001b[0m\u001b[0;34m\u001b[0m\u001b[0m\n\u001b[0m\u001b[1;32m   2052\u001b[0m     \u001b[0;32mif\u001b[0m \u001b[0mhint\u001b[0m\u001b[0;34m.\u001b[0m\u001b[0mstartswith\u001b[0m\u001b[0;34m(\u001b[0m\u001b[0;34m\"nth_linear_euler_eq_nonhomogeneous\"\u001b[0m\u001b[0;34m)\u001b[0m\u001b[0;34m:\u001b[0m\u001b[0;34m\u001b[0m\u001b[0m\n\u001b[1;32m   2053\u001b[0m         \u001b[0meq\u001b[0m \u001b[0;34m=\u001b[0m \u001b[0msimplify\u001b[0m\u001b[0;34m(\u001b[0m\u001b[0meq\u001b[0m\u001b[0;34m)\u001b[0m\u001b[0;34m\u001b[0m\u001b[0m\n",
      "\u001b[0;32m~/anaconda3/lib/python3.6/site-packages/sympy/solvers/ode.py\u001b[0m in \u001b[0;36m_handle_Integral\u001b[0;34m(expr, func, order, hint)\u001b[0m\n\u001b[1;32m   2816\u001b[0m         \u001b[0msol\u001b[0m \u001b[0;34m=\u001b[0m \u001b[0mexpr\u001b[0m\u001b[0;34m\u001b[0m\u001b[0m\n\u001b[1;32m   2817\u001b[0m     \u001b[0;32melif\u001b[0m \u001b[0;32mnot\u001b[0m \u001b[0mhint\u001b[0m\u001b[0;34m.\u001b[0m\u001b[0mendswith\u001b[0m\u001b[0;34m(\u001b[0m\u001b[0;34m\"_Integral\"\u001b[0m\u001b[0;34m)\u001b[0m\u001b[0;34m:\u001b[0m\u001b[0;34m\u001b[0m\u001b[0m\n\u001b[0;32m-> 2818\u001b[0;31m         \u001b[0msol\u001b[0m \u001b[0;34m=\u001b[0m \u001b[0mexpr\u001b[0m\u001b[0;34m.\u001b[0m\u001b[0mdoit\u001b[0m\u001b[0;34m(\u001b[0m\u001b[0;34m)\u001b[0m\u001b[0;34m\u001b[0m\u001b[0m\n\u001b[0m\u001b[1;32m   2819\u001b[0m     \u001b[0;32melse\u001b[0m\u001b[0;34m:\u001b[0m\u001b[0;34m\u001b[0m\u001b[0m\n\u001b[1;32m   2820\u001b[0m         \u001b[0msol\u001b[0m \u001b[0;34m=\u001b[0m \u001b[0mexpr\u001b[0m\u001b[0;34m\u001b[0m\u001b[0m\n",
      "\u001b[0;32m~/anaconda3/lib/python3.6/site-packages/sympy/core/basic.py\u001b[0m in \u001b[0;36mdoit\u001b[0;34m(self, **hints)\u001b[0m\n\u001b[1;32m   1553\u001b[0m         \u001b[0;32mif\u001b[0m \u001b[0mhints\u001b[0m\u001b[0;34m.\u001b[0m\u001b[0mget\u001b[0m\u001b[0;34m(\u001b[0m\u001b[0;34m'deep'\u001b[0m\u001b[0;34m,\u001b[0m \u001b[0;32mTrue\u001b[0m\u001b[0;34m)\u001b[0m\u001b[0;34m:\u001b[0m\u001b[0;34m\u001b[0m\u001b[0m\n\u001b[1;32m   1554\u001b[0m             terms = [term.doit(**hints) if isinstance(term, Basic) else term\n\u001b[0;32m-> 1555\u001b[0;31m                                          for term in self.args]\n\u001b[0m\u001b[1;32m   1556\u001b[0m             \u001b[0;32mreturn\u001b[0m \u001b[0mself\u001b[0m\u001b[0;34m.\u001b[0m\u001b[0mfunc\u001b[0m\u001b[0;34m(\u001b[0m\u001b[0;34m*\u001b[0m\u001b[0mterms\u001b[0m\u001b[0;34m)\u001b[0m\u001b[0;34m\u001b[0m\u001b[0m\n\u001b[1;32m   1557\u001b[0m         \u001b[0;32melse\u001b[0m\u001b[0;34m:\u001b[0m\u001b[0;34m\u001b[0m\u001b[0m\n",
      "\u001b[0;32m~/anaconda3/lib/python3.6/site-packages/sympy/core/basic.py\u001b[0m in \u001b[0;36m<listcomp>\u001b[0;34m(.0)\u001b[0m\n\u001b[1;32m   1553\u001b[0m         \u001b[0;32mif\u001b[0m \u001b[0mhints\u001b[0m\u001b[0;34m.\u001b[0m\u001b[0mget\u001b[0m\u001b[0;34m(\u001b[0m\u001b[0;34m'deep'\u001b[0m\u001b[0;34m,\u001b[0m \u001b[0;32mTrue\u001b[0m\u001b[0;34m)\u001b[0m\u001b[0;34m:\u001b[0m\u001b[0;34m\u001b[0m\u001b[0m\n\u001b[1;32m   1554\u001b[0m             terms = [term.doit(**hints) if isinstance(term, Basic) else term\n\u001b[0;32m-> 1555\u001b[0;31m                                          for term in self.args]\n\u001b[0m\u001b[1;32m   1556\u001b[0m             \u001b[0;32mreturn\u001b[0m \u001b[0mself\u001b[0m\u001b[0;34m.\u001b[0m\u001b[0mfunc\u001b[0m\u001b[0;34m(\u001b[0m\u001b[0;34m*\u001b[0m\u001b[0mterms\u001b[0m\u001b[0;34m)\u001b[0m\u001b[0;34m\u001b[0m\u001b[0m\n\u001b[1;32m   1557\u001b[0m         \u001b[0;32melse\u001b[0m\u001b[0;34m:\u001b[0m\u001b[0;34m\u001b[0m\u001b[0m\n",
      "\u001b[0;32m~/anaconda3/lib/python3.6/site-packages/sympy/core/basic.py\u001b[0m in \u001b[0;36mdoit\u001b[0;34m(self, **hints)\u001b[0m\n\u001b[1;32m   1553\u001b[0m         \u001b[0;32mif\u001b[0m \u001b[0mhints\u001b[0m\u001b[0;34m.\u001b[0m\u001b[0mget\u001b[0m\u001b[0;34m(\u001b[0m\u001b[0;34m'deep'\u001b[0m\u001b[0;34m,\u001b[0m \u001b[0;32mTrue\u001b[0m\u001b[0;34m)\u001b[0m\u001b[0;34m:\u001b[0m\u001b[0;34m\u001b[0m\u001b[0m\n\u001b[1;32m   1554\u001b[0m             terms = [term.doit(**hints) if isinstance(term, Basic) else term\n\u001b[0;32m-> 1555\u001b[0;31m                                          for term in self.args]\n\u001b[0m\u001b[1;32m   1556\u001b[0m             \u001b[0;32mreturn\u001b[0m \u001b[0mself\u001b[0m\u001b[0;34m.\u001b[0m\u001b[0mfunc\u001b[0m\u001b[0;34m(\u001b[0m\u001b[0;34m*\u001b[0m\u001b[0mterms\u001b[0m\u001b[0;34m)\u001b[0m\u001b[0;34m\u001b[0m\u001b[0m\n\u001b[1;32m   1557\u001b[0m         \u001b[0;32melse\u001b[0m\u001b[0;34m:\u001b[0m\u001b[0;34m\u001b[0m\u001b[0m\n",
      "\u001b[0;32m~/anaconda3/lib/python3.6/site-packages/sympy/core/basic.py\u001b[0m in \u001b[0;36m<listcomp>\u001b[0;34m(.0)\u001b[0m\n\u001b[1;32m   1553\u001b[0m         \u001b[0;32mif\u001b[0m \u001b[0mhints\u001b[0m\u001b[0;34m.\u001b[0m\u001b[0mget\u001b[0m\u001b[0;34m(\u001b[0m\u001b[0;34m'deep'\u001b[0m\u001b[0;34m,\u001b[0m \u001b[0;32mTrue\u001b[0m\u001b[0;34m)\u001b[0m\u001b[0;34m:\u001b[0m\u001b[0;34m\u001b[0m\u001b[0m\n\u001b[1;32m   1554\u001b[0m             terms = [term.doit(**hints) if isinstance(term, Basic) else term\n\u001b[0;32m-> 1555\u001b[0;31m                                          for term in self.args]\n\u001b[0m\u001b[1;32m   1556\u001b[0m             \u001b[0;32mreturn\u001b[0m \u001b[0mself\u001b[0m\u001b[0;34m.\u001b[0m\u001b[0mfunc\u001b[0m\u001b[0;34m(\u001b[0m\u001b[0;34m*\u001b[0m\u001b[0mterms\u001b[0m\u001b[0;34m)\u001b[0m\u001b[0;34m\u001b[0m\u001b[0m\n\u001b[1;32m   1557\u001b[0m         \u001b[0;32melse\u001b[0m\u001b[0;34m:\u001b[0m\u001b[0;34m\u001b[0m\u001b[0m\n",
      "\u001b[0;32m~/anaconda3/lib/python3.6/site-packages/sympy/integrals/integrals.py\u001b[0m in \u001b[0;36mdoit\u001b[0;34m(self, **hints)\u001b[0m\n\u001b[1;32m    484\u001b[0m                     \u001b[0mfunction\u001b[0m\u001b[0;34m,\u001b[0m \u001b[0mxab\u001b[0m\u001b[0;34m[\u001b[0m\u001b[0;36m0\u001b[0m\u001b[0;34m]\u001b[0m\u001b[0;34m,\u001b[0m\u001b[0;34m\u001b[0m\u001b[0m\n\u001b[1;32m    485\u001b[0m                     \u001b[0mmeijerg\u001b[0m\u001b[0;34m=\u001b[0m\u001b[0mmeijerg1\u001b[0m\u001b[0;34m,\u001b[0m \u001b[0mrisch\u001b[0m\u001b[0;34m=\u001b[0m\u001b[0mrisch\u001b[0m\u001b[0;34m,\u001b[0m \u001b[0mmanual\u001b[0m\u001b[0;34m=\u001b[0m\u001b[0mmanual\u001b[0m\u001b[0;34m,\u001b[0m\u001b[0;34m\u001b[0m\u001b[0m\n\u001b[0;32m--> 486\u001b[0;31m                     conds=conds)\n\u001b[0m\u001b[1;32m    487\u001b[0m                 \u001b[0;32mif\u001b[0m \u001b[0mantideriv\u001b[0m \u001b[0;32mis\u001b[0m \u001b[0;32mNone\u001b[0m \u001b[0;32mand\u001b[0m \u001b[0mmeijerg1\u001b[0m \u001b[0;32mis\u001b[0m \u001b[0;32mTrue\u001b[0m\u001b[0;34m:\u001b[0m\u001b[0;34m\u001b[0m\u001b[0m\n\u001b[1;32m    488\u001b[0m                     \u001b[0mret\u001b[0m \u001b[0;34m=\u001b[0m \u001b[0mtry_meijerg\u001b[0m\u001b[0;34m(\u001b[0m\u001b[0mfunction\u001b[0m\u001b[0;34m,\u001b[0m \u001b[0mxab\u001b[0m\u001b[0;34m)\u001b[0m\u001b[0;34m\u001b[0m\u001b[0m\n",
      "\u001b[0;32m~/anaconda3/lib/python3.6/site-packages/sympy/integrals/integrals.py\u001b[0m in \u001b[0;36m_eval_integral\u001b[0;34m(self, f, x, meijerg, risch, manual, conds)\u001b[0m\n\u001b[1;32m    892\u001b[0m                 \u001b[0;32mtry\u001b[0m\u001b[0;34m:\u001b[0m\u001b[0;34m\u001b[0m\u001b[0m\n\u001b[1;32m    893\u001b[0m                     \u001b[0;32mif\u001b[0m \u001b[0mconds\u001b[0m \u001b[0;34m==\u001b[0m \u001b[0;34m'piecewise'\u001b[0m\u001b[0;34m:\u001b[0m\u001b[0;34m\u001b[0m\u001b[0m\n\u001b[0;32m--> 894\u001b[0;31m                         \u001b[0mh\u001b[0m \u001b[0;34m=\u001b[0m \u001b[0mheurisch_wrapper\u001b[0m\u001b[0;34m(\u001b[0m\u001b[0mg\u001b[0m\u001b[0;34m,\u001b[0m \u001b[0mx\u001b[0m\u001b[0;34m,\u001b[0m \u001b[0mhints\u001b[0m\u001b[0;34m=\u001b[0m\u001b[0;34m[\u001b[0m\u001b[0;34m]\u001b[0m\u001b[0;34m)\u001b[0m\u001b[0;34m\u001b[0m\u001b[0m\n\u001b[0m\u001b[1;32m    895\u001b[0m                     \u001b[0;32melse\u001b[0m\u001b[0;34m:\u001b[0m\u001b[0;34m\u001b[0m\u001b[0m\n\u001b[1;32m    896\u001b[0m                         \u001b[0mh\u001b[0m \u001b[0;34m=\u001b[0m \u001b[0mheurisch\u001b[0m\u001b[0;34m(\u001b[0m\u001b[0mg\u001b[0m\u001b[0;34m,\u001b[0m \u001b[0mx\u001b[0m\u001b[0;34m,\u001b[0m \u001b[0mhints\u001b[0m\u001b[0;34m=\u001b[0m\u001b[0;34m[\u001b[0m\u001b[0;34m]\u001b[0m\u001b[0;34m)\u001b[0m\u001b[0;34m\u001b[0m\u001b[0m\n",
      "\u001b[0;32m~/anaconda3/lib/python3.6/site-packages/sympy/integrals/heurisch.py\u001b[0m in \u001b[0;36mheurisch_wrapper\u001b[0;34m(f, x, rewrite, hints, mappings, retries, degree_offset, unnecessary_permutations)\u001b[0m\n\u001b[1;32m    128\u001b[0m \u001b[0;34m\u001b[0m\u001b[0m\n\u001b[1;32m    129\u001b[0m     res = heurisch(f, x, rewrite, hints, mappings, retries, degree_offset,\n\u001b[0;32m--> 130\u001b[0;31m                    unnecessary_permutations)\n\u001b[0m\u001b[1;32m    131\u001b[0m     \u001b[0;32mif\u001b[0m \u001b[0;32mnot\u001b[0m \u001b[0misinstance\u001b[0m\u001b[0;34m(\u001b[0m\u001b[0mres\u001b[0m\u001b[0;34m,\u001b[0m \u001b[0mBasic\u001b[0m\u001b[0;34m)\u001b[0m\u001b[0;34m:\u001b[0m\u001b[0;34m\u001b[0m\u001b[0m\n\u001b[1;32m    132\u001b[0m         \u001b[0;32mreturn\u001b[0m \u001b[0mres\u001b[0m\u001b[0;34m\u001b[0m\u001b[0m\n",
      "\u001b[0;32m~/anaconda3/lib/python3.6/site-packages/sympy/integrals/heurisch.py\u001b[0m in \u001b[0;36mheurisch\u001b[0;34m(f, x, rewrite, hints, mappings, retries, degree_offset, unnecessary_permutations)\u001b[0m\n\u001b[1;32m    673\u001b[0m     \u001b[0;32melse\u001b[0m\u001b[0;34m:\u001b[0m\u001b[0;34m\u001b[0m\u001b[0m\n\u001b[1;32m    674\u001b[0m         \u001b[0;32mif\u001b[0m \u001b[0mretries\u001b[0m \u001b[0;34m>=\u001b[0m \u001b[0;36m0\u001b[0m\u001b[0;34m:\u001b[0m\u001b[0;34m\u001b[0m\u001b[0m\n\u001b[0;32m--> 675\u001b[0;31m             \u001b[0mresult\u001b[0m \u001b[0;34m=\u001b[0m \u001b[0mheurisch\u001b[0m\u001b[0;34m(\u001b[0m\u001b[0mf\u001b[0m\u001b[0;34m,\u001b[0m \u001b[0mx\u001b[0m\u001b[0;34m,\u001b[0m \u001b[0mmappings\u001b[0m\u001b[0;34m=\u001b[0m\u001b[0mmappings\u001b[0m\u001b[0;34m,\u001b[0m \u001b[0mrewrite\u001b[0m\u001b[0;34m=\u001b[0m\u001b[0mrewrite\u001b[0m\u001b[0;34m,\u001b[0m \u001b[0mhints\u001b[0m\u001b[0;34m=\u001b[0m\u001b[0mhints\u001b[0m\u001b[0;34m,\u001b[0m \u001b[0mretries\u001b[0m\u001b[0;34m=\u001b[0m\u001b[0mretries\u001b[0m \u001b[0;34m-\u001b[0m \u001b[0;36m1\u001b[0m\u001b[0;34m,\u001b[0m \u001b[0munnecessary_permutations\u001b[0m\u001b[0;34m=\u001b[0m\u001b[0munnecessary_permutations\u001b[0m\u001b[0;34m)\u001b[0m\u001b[0;34m\u001b[0m\u001b[0m\n\u001b[0m\u001b[1;32m    676\u001b[0m \u001b[0;34m\u001b[0m\u001b[0m\n\u001b[1;32m    677\u001b[0m             \u001b[0;32mif\u001b[0m \u001b[0mresult\u001b[0m \u001b[0;32mis\u001b[0m \u001b[0;32mnot\u001b[0m \u001b[0;32mNone\u001b[0m\u001b[0;34m:\u001b[0m\u001b[0;34m\u001b[0m\u001b[0m\n",
      "\u001b[0;32m~/anaconda3/lib/python3.6/site-packages/sympy/integrals/heurisch.py\u001b[0m in \u001b[0;36mheurisch\u001b[0;34m(f, x, rewrite, hints, mappings, retries, degree_offset, unnecessary_permutations)\u001b[0m\n\u001b[1;32m    673\u001b[0m     \u001b[0;32melse\u001b[0m\u001b[0;34m:\u001b[0m\u001b[0;34m\u001b[0m\u001b[0m\n\u001b[1;32m    674\u001b[0m         \u001b[0;32mif\u001b[0m \u001b[0mretries\u001b[0m \u001b[0;34m>=\u001b[0m \u001b[0;36m0\u001b[0m\u001b[0;34m:\u001b[0m\u001b[0;34m\u001b[0m\u001b[0m\n\u001b[0;32m--> 675\u001b[0;31m             \u001b[0mresult\u001b[0m \u001b[0;34m=\u001b[0m \u001b[0mheurisch\u001b[0m\u001b[0;34m(\u001b[0m\u001b[0mf\u001b[0m\u001b[0;34m,\u001b[0m \u001b[0mx\u001b[0m\u001b[0;34m,\u001b[0m \u001b[0mmappings\u001b[0m\u001b[0;34m=\u001b[0m\u001b[0mmappings\u001b[0m\u001b[0;34m,\u001b[0m \u001b[0mrewrite\u001b[0m\u001b[0;34m=\u001b[0m\u001b[0mrewrite\u001b[0m\u001b[0;34m,\u001b[0m \u001b[0mhints\u001b[0m\u001b[0;34m=\u001b[0m\u001b[0mhints\u001b[0m\u001b[0;34m,\u001b[0m \u001b[0mretries\u001b[0m\u001b[0;34m=\u001b[0m\u001b[0mretries\u001b[0m \u001b[0;34m-\u001b[0m \u001b[0;36m1\u001b[0m\u001b[0;34m,\u001b[0m \u001b[0munnecessary_permutations\u001b[0m\u001b[0;34m=\u001b[0m\u001b[0munnecessary_permutations\u001b[0m\u001b[0;34m)\u001b[0m\u001b[0;34m\u001b[0m\u001b[0m\n\u001b[0m\u001b[1;32m    676\u001b[0m \u001b[0;34m\u001b[0m\u001b[0m\n\u001b[1;32m    677\u001b[0m             \u001b[0;32mif\u001b[0m \u001b[0mresult\u001b[0m \u001b[0;32mis\u001b[0m \u001b[0;32mnot\u001b[0m \u001b[0;32mNone\u001b[0m\u001b[0;34m:\u001b[0m\u001b[0;34m\u001b[0m\u001b[0m\n",
      "\u001b[0;32m~/anaconda3/lib/python3.6/site-packages/sympy/integrals/heurisch.py\u001b[0m in \u001b[0;36mheurisch\u001b[0;34m(f, x, rewrite, hints, mappings, retries, degree_offset, unnecessary_permutations)\u001b[0m\n\u001b[1;32m    459\u001b[0m         \u001b[0;32mif\u001b[0m \u001b[0;32mnot\u001b[0m \u001b[0mrewrite\u001b[0m\u001b[0;34m:\u001b[0m\u001b[0;34m\u001b[0m\u001b[0m\n\u001b[1;32m    460\u001b[0m             result = heurisch(f, x, rewrite=True, hints=hints,\n\u001b[0;32m--> 461\u001b[0;31m                 unnecessary_permutations=unnecessary_permutations)\n\u001b[0m\u001b[1;32m    462\u001b[0m \u001b[0;34m\u001b[0m\u001b[0m\n\u001b[1;32m    463\u001b[0m             \u001b[0;32mif\u001b[0m \u001b[0mresult\u001b[0m \u001b[0;32mis\u001b[0m \u001b[0;32mnot\u001b[0m \u001b[0;32mNone\u001b[0m\u001b[0;34m:\u001b[0m\u001b[0;34m\u001b[0m\u001b[0m\n",
      "\u001b[0;32m~/anaconda3/lib/python3.6/site-packages/sympy/integrals/heurisch.py\u001b[0m in \u001b[0;36mheurisch\u001b[0;34m(f, x, rewrite, hints, mappings, retries, degree_offset, unnecessary_permutations)\u001b[0m\n\u001b[1;32m    661\u001b[0m             \u001b[0msolution\u001b[0m \u001b[0;34m=\u001b[0m \u001b[0m_integrate\u001b[0m\u001b[0;34m(\u001b[0m\u001b[0;34m)\u001b[0m\u001b[0;34m\u001b[0m\u001b[0m\n\u001b[1;32m    662\u001b[0m     \u001b[0;32melse\u001b[0m\u001b[0;34m:\u001b[0m\u001b[0;34m\u001b[0m\u001b[0m\n\u001b[0;32m--> 663\u001b[0;31m         \u001b[0msolution\u001b[0m \u001b[0;34m=\u001b[0m \u001b[0m_integrate\u001b[0m\u001b[0;34m(\u001b[0m\u001b[0;34m)\u001b[0m\u001b[0;34m\u001b[0m\u001b[0m\n\u001b[0m\u001b[1;32m    664\u001b[0m \u001b[0;34m\u001b[0m\u001b[0m\n\u001b[1;32m    665\u001b[0m     \u001b[0;32mif\u001b[0m \u001b[0msolution\u001b[0m \u001b[0;32mis\u001b[0m \u001b[0;32mnot\u001b[0m \u001b[0;32mNone\u001b[0m\u001b[0;34m:\u001b[0m\u001b[0;34m\u001b[0m\u001b[0m\n",
      "\u001b[0;32m~/anaconda3/lib/python3.6/site-packages/sympy/integrals/heurisch.py\u001b[0m in \u001b[0;36m_integrate\u001b[0;34m(field)\u001b[0m\n\u001b[1;32m    647\u001b[0m         \u001b[0;32mexcept\u001b[0m \u001b[0mValueError\u001b[0m\u001b[0;34m:\u001b[0m\u001b[0;34m\u001b[0m\u001b[0m\n\u001b[1;32m    648\u001b[0m             \u001b[0;32mraise\u001b[0m \u001b[0mPolynomialError\u001b[0m\u001b[0;34m\u001b[0m\u001b[0m\n\u001b[0;32m--> 649\u001b[0;31m         \u001b[0msolution\u001b[0m \u001b[0;34m=\u001b[0m \u001b[0msolve_lin_sys\u001b[0m\u001b[0;34m(\u001b[0m\u001b[0mnumer\u001b[0m\u001b[0;34m.\u001b[0m\u001b[0mcoeffs\u001b[0m\u001b[0;34m(\u001b[0m\u001b[0;34m)\u001b[0m\u001b[0;34m,\u001b[0m \u001b[0mcoeff_ring\u001b[0m\u001b[0;34m,\u001b[0m \u001b[0m_raw\u001b[0m\u001b[0;34m=\u001b[0m\u001b[0;32mFalse\u001b[0m\u001b[0;34m)\u001b[0m\u001b[0;34m\u001b[0m\u001b[0m\n\u001b[0m\u001b[1;32m    650\u001b[0m \u001b[0;34m\u001b[0m\u001b[0m\n\u001b[1;32m    651\u001b[0m         \u001b[0;32mif\u001b[0m \u001b[0msolution\u001b[0m \u001b[0;32mis\u001b[0m \u001b[0;32mNone\u001b[0m\u001b[0;34m:\u001b[0m\u001b[0;34m\u001b[0m\u001b[0m\n",
      "\u001b[0;32m~/anaconda3/lib/python3.6/site-packages/sympy/polys/solvers.py\u001b[0m in \u001b[0;36msolve_lin_sys\u001b[0;34m(eqs, ring, _raw)\u001b[0m\n\u001b[1;32m     40\u001b[0m \u001b[0;34m\u001b[0m\u001b[0m\n\u001b[1;32m     41\u001b[0m     \u001b[0;31m# solve by row-reduction\u001b[0m\u001b[0;34m\u001b[0m\u001b[0;34m\u001b[0m\u001b[0m\n\u001b[0;32m---> 42\u001b[0;31m     \u001b[0mechelon\u001b[0m\u001b[0;34m,\u001b[0m \u001b[0mpivots\u001b[0m \u001b[0;34m=\u001b[0m \u001b[0mmatrix\u001b[0m\u001b[0;34m.\u001b[0m\u001b[0mrref\u001b[0m\u001b[0;34m(\u001b[0m\u001b[0miszerofunc\u001b[0m\u001b[0;34m=\u001b[0m\u001b[0;32mlambda\u001b[0m \u001b[0mx\u001b[0m\u001b[0;34m:\u001b[0m \u001b[0;32mnot\u001b[0m \u001b[0mx\u001b[0m\u001b[0;34m,\u001b[0m \u001b[0msimplify\u001b[0m\u001b[0;34m=\u001b[0m\u001b[0;32mlambda\u001b[0m \u001b[0mx\u001b[0m\u001b[0;34m:\u001b[0m \u001b[0mx\u001b[0m\u001b[0;34m)\u001b[0m\u001b[0;34m\u001b[0m\u001b[0m\n\u001b[0m\u001b[1;32m     43\u001b[0m \u001b[0;34m\u001b[0m\u001b[0m\n\u001b[1;32m     44\u001b[0m     \u001b[0;31m# construct the returnable form of the solutions\u001b[0m\u001b[0;34m\u001b[0m\u001b[0;34m\u001b[0m\u001b[0m\n",
      "\u001b[0;32m~/anaconda3/lib/python3.6/site-packages/sympy/matrices/matrices.py\u001b[0m in \u001b[0;36mrref\u001b[0;34m(self, iszerofunc, simplify, pivots, normalize_last)\u001b[0m\n\u001b[1;32m    878\u001b[0m         ret, pivot_cols = self._eval_rref(iszerofunc=iszerofunc,\n\u001b[1;32m    879\u001b[0m                                           \u001b[0msimpfunc\u001b[0m\u001b[0;34m=\u001b[0m\u001b[0msimpfunc\u001b[0m\u001b[0;34m,\u001b[0m\u001b[0;34m\u001b[0m\u001b[0m\n\u001b[0;32m--> 880\u001b[0;31m                                           normalize_last=normalize_last)\n\u001b[0m\u001b[1;32m    881\u001b[0m         \u001b[0;32mif\u001b[0m \u001b[0mpivots\u001b[0m\u001b[0;34m:\u001b[0m\u001b[0;34m\u001b[0m\u001b[0m\n\u001b[1;32m    882\u001b[0m             \u001b[0mret\u001b[0m \u001b[0;34m=\u001b[0m \u001b[0;34m(\u001b[0m\u001b[0mret\u001b[0m\u001b[0;34m,\u001b[0m \u001b[0mpivot_cols\u001b[0m\u001b[0;34m)\u001b[0m\u001b[0;34m\u001b[0m\u001b[0m\n",
      "\u001b[0;32m~/anaconda3/lib/python3.6/site-packages/sympy/matrices/matrices.py\u001b[0m in \u001b[0;36m_eval_rref\u001b[0;34m(self, iszerofunc, simpfunc, normalize_last)\u001b[0m\n\u001b[1;32m    533\u001b[0m         reduced, pivot_cols, swaps = self._row_reduce(iszerofunc, simpfunc,\n\u001b[1;32m    534\u001b[0m                                                       \u001b[0mnormalize_last\u001b[0m\u001b[0;34m,\u001b[0m \u001b[0mnormalize\u001b[0m\u001b[0;34m=\u001b[0m\u001b[0;32mTrue\u001b[0m\u001b[0;34m,\u001b[0m\u001b[0;34m\u001b[0m\u001b[0m\n\u001b[0;32m--> 535\u001b[0;31m                                                       zero_above=True)\n\u001b[0m\u001b[1;32m    536\u001b[0m         \u001b[0;32mreturn\u001b[0m \u001b[0mreduced\u001b[0m\u001b[0;34m,\u001b[0m \u001b[0mpivot_cols\u001b[0m\u001b[0;34m\u001b[0m\u001b[0m\n\u001b[1;32m    537\u001b[0m \u001b[0;34m\u001b[0m\u001b[0m\n",
      "\u001b[0;32m~/anaconda3/lib/python3.6/site-packages/sympy/matrices/matrices.py\u001b[0m in \u001b[0;36m_row_reduce\u001b[0;34m(self, iszerofunc, simpfunc, normalize_last, normalize, zero_above)\u001b[0m\n\u001b[1;32m    689\u001b[0m                     \u001b[0;32mcontinue\u001b[0m\u001b[0;34m\u001b[0m\u001b[0m\n\u001b[1;32m    690\u001b[0m \u001b[0;34m\u001b[0m\u001b[0m\n\u001b[0;32m--> 691\u001b[0;31m                 \u001b[0mcross_cancel\u001b[0m\u001b[0;34m(\u001b[0m\u001b[0mpivot_val\u001b[0m\u001b[0;34m,\u001b[0m \u001b[0mrow\u001b[0m\u001b[0;34m,\u001b[0m \u001b[0mval\u001b[0m\u001b[0;34m,\u001b[0m \u001b[0mpiv_row\u001b[0m\u001b[0;34m)\u001b[0m\u001b[0;34m\u001b[0m\u001b[0m\n\u001b[0m\u001b[1;32m    692\u001b[0m             \u001b[0mpiv_row\u001b[0m \u001b[0;34m+=\u001b[0m \u001b[0;36m1\u001b[0m\u001b[0;34m\u001b[0m\u001b[0m\n\u001b[1;32m    693\u001b[0m \u001b[0;34m\u001b[0m\u001b[0m\n",
      "\u001b[0;32m~/anaconda3/lib/python3.6/site-packages/sympy/matrices/matrices.py\u001b[0m in \u001b[0;36mcross_cancel\u001b[0;34m(a, i, b, j)\u001b[0m\n\u001b[1;32m    640\u001b[0m             \u001b[0mq\u001b[0m \u001b[0;34m=\u001b[0m \u001b[0;34m(\u001b[0m\u001b[0mj\u001b[0m \u001b[0;34m-\u001b[0m \u001b[0mi\u001b[0m\u001b[0;34m)\u001b[0m\u001b[0;34m*\u001b[0m\u001b[0mcols\u001b[0m\u001b[0;34m\u001b[0m\u001b[0m\n\u001b[1;32m    641\u001b[0m             \u001b[0;32mfor\u001b[0m \u001b[0mp\u001b[0m \u001b[0;32min\u001b[0m \u001b[0mrange\u001b[0m\u001b[0;34m(\u001b[0m\u001b[0mi\u001b[0m\u001b[0;34m*\u001b[0m\u001b[0mcols\u001b[0m\u001b[0;34m,\u001b[0m \u001b[0;34m(\u001b[0m\u001b[0mi\u001b[0m \u001b[0;34m+\u001b[0m \u001b[0;36m1\u001b[0m\u001b[0;34m)\u001b[0m\u001b[0;34m*\u001b[0m\u001b[0mcols\u001b[0m\u001b[0;34m)\u001b[0m\u001b[0;34m:\u001b[0m\u001b[0;34m\u001b[0m\u001b[0m\n\u001b[0;32m--> 642\u001b[0;31m                 \u001b[0mmat\u001b[0m\u001b[0;34m[\u001b[0m\u001b[0mp\u001b[0m\u001b[0;34m]\u001b[0m \u001b[0;34m=\u001b[0m \u001b[0ma\u001b[0m\u001b[0;34m*\u001b[0m\u001b[0mmat\u001b[0m\u001b[0;34m[\u001b[0m\u001b[0mp\u001b[0m\u001b[0;34m]\u001b[0m \u001b[0;34m-\u001b[0m \u001b[0mb\u001b[0m\u001b[0;34m*\u001b[0m\u001b[0mmat\u001b[0m\u001b[0;34m[\u001b[0m\u001b[0mp\u001b[0m \u001b[0;34m+\u001b[0m \u001b[0mq\u001b[0m\u001b[0;34m]\u001b[0m\u001b[0;34m\u001b[0m\u001b[0m\n\u001b[0m\u001b[1;32m    643\u001b[0m \u001b[0;34m\u001b[0m\u001b[0m\n\u001b[1;32m    644\u001b[0m         \u001b[0mpiv_row\u001b[0m\u001b[0;34m,\u001b[0m \u001b[0mpiv_col\u001b[0m \u001b[0;34m=\u001b[0m \u001b[0;36m0\u001b[0m\u001b[0;34m,\u001b[0m \u001b[0;36m0\u001b[0m\u001b[0;34m\u001b[0m\u001b[0m\n",
      "\u001b[0;32m~/anaconda3/lib/python3.6/site-packages/sympy/polys/domains/expressiondomain.py\u001b[0m in \u001b[0;36m__mul__\u001b[0;34m(f, g)\u001b[0m\n\u001b[1;32m     87\u001b[0m \u001b[0;34m\u001b[0m\u001b[0m\n\u001b[1;32m     88\u001b[0m             \u001b[0;32mif\u001b[0m \u001b[0mg\u001b[0m \u001b[0;32mis\u001b[0m \u001b[0;32mnot\u001b[0m \u001b[0;32mNone\u001b[0m\u001b[0;34m:\u001b[0m\u001b[0;34m\u001b[0m\u001b[0m\n\u001b[0;32m---> 89\u001b[0;31m                 \u001b[0;32mreturn\u001b[0m \u001b[0mf\u001b[0m\u001b[0;34m.\u001b[0m\u001b[0msimplify\u001b[0m\u001b[0;34m(\u001b[0m\u001b[0mf\u001b[0m\u001b[0;34m.\u001b[0m\u001b[0mex\u001b[0m\u001b[0;34m*\u001b[0m\u001b[0mg\u001b[0m\u001b[0;34m.\u001b[0m\u001b[0mex\u001b[0m\u001b[0;34m)\u001b[0m\u001b[0;34m\u001b[0m\u001b[0m\n\u001b[0m\u001b[1;32m     90\u001b[0m             \u001b[0;32melse\u001b[0m\u001b[0;34m:\u001b[0m\u001b[0;34m\u001b[0m\u001b[0m\n\u001b[1;32m     91\u001b[0m                 \u001b[0;32mreturn\u001b[0m \u001b[0mNotImplemented\u001b[0m\u001b[0;34m\u001b[0m\u001b[0m\n",
      "\u001b[0;32m~/anaconda3/lib/python3.6/site-packages/sympy/core/numbers.py\u001b[0m in \u001b[0;36m__mul__\u001b[0;34m(self, other)\u001b[0m\n\u001b[1;32m   2072\u001b[0m                 \u001b[0;32mreturn\u001b[0m \u001b[0mInteger\u001b[0m\u001b[0;34m(\u001b[0m\u001b[0mself\u001b[0m\u001b[0;34m.\u001b[0m\u001b[0mp\u001b[0m\u001b[0;34m*\u001b[0m\u001b[0mother\u001b[0m\u001b[0;34m)\u001b[0m\u001b[0;34m\u001b[0m\u001b[0m\n\u001b[1;32m   2073\u001b[0m             \u001b[0;32melif\u001b[0m \u001b[0misinstance\u001b[0m\u001b[0;34m(\u001b[0m\u001b[0mother\u001b[0m\u001b[0;34m,\u001b[0m \u001b[0mInteger\u001b[0m\u001b[0;34m)\u001b[0m\u001b[0;34m:\u001b[0m\u001b[0;34m\u001b[0m\u001b[0m\n\u001b[0;32m-> 2074\u001b[0;31m                 \u001b[0;32mreturn\u001b[0m \u001b[0mInteger\u001b[0m\u001b[0;34m(\u001b[0m\u001b[0mself\u001b[0m\u001b[0;34m.\u001b[0m\u001b[0mp\u001b[0m\u001b[0;34m*\u001b[0m\u001b[0mother\u001b[0m\u001b[0;34m.\u001b[0m\u001b[0mp\u001b[0m\u001b[0;34m)\u001b[0m\u001b[0;34m\u001b[0m\u001b[0m\n\u001b[0m\u001b[1;32m   2075\u001b[0m             \u001b[0;32melif\u001b[0m \u001b[0misinstance\u001b[0m\u001b[0;34m(\u001b[0m\u001b[0mother\u001b[0m\u001b[0;34m,\u001b[0m \u001b[0mRational\u001b[0m\u001b[0;34m)\u001b[0m\u001b[0;34m:\u001b[0m\u001b[0;34m\u001b[0m\u001b[0m\n\u001b[1;32m   2076\u001b[0m                 \u001b[0;32mreturn\u001b[0m \u001b[0mRational\u001b[0m\u001b[0;34m(\u001b[0m\u001b[0mself\u001b[0m\u001b[0;34m.\u001b[0m\u001b[0mp\u001b[0m\u001b[0;34m*\u001b[0m\u001b[0mother\u001b[0m\u001b[0;34m.\u001b[0m\u001b[0mp\u001b[0m\u001b[0;34m,\u001b[0m \u001b[0mother\u001b[0m\u001b[0;34m.\u001b[0m\u001b[0mq\u001b[0m\u001b[0;34m,\u001b[0m \u001b[0migcd\u001b[0m\u001b[0;34m(\u001b[0m\u001b[0mself\u001b[0m\u001b[0;34m.\u001b[0m\u001b[0mp\u001b[0m\u001b[0;34m,\u001b[0m \u001b[0mother\u001b[0m\u001b[0;34m.\u001b[0m\u001b[0mq\u001b[0m\u001b[0;34m)\u001b[0m\u001b[0;34m)\u001b[0m\u001b[0;34m\u001b[0m\u001b[0m\n",
      "\u001b[0;31mKeyboardInterrupt\u001b[0m: "
     ]
    }
   ],
   "source": [
    "F_solved = dsolve(F_equation)\n",
    "F_solved"
   ]
  },
  {
   "cell_type": "markdown",
   "metadata": {},
   "source": [
    "We then substitute this equation for y into the previous pressure equation, thus giving us a final equation for the pressure:"
   ]
  },
  {
   "cell_type": "code",
   "execution_count": 32,
   "metadata": {},
   "outputs": [
    {
     "data": {
      "image/png": "[encoded data removed]",
      "text/latex": [
       "$$p{\\left (x,y \\right )} = \\frac{1}{\\cos^{2}{\\left (x \\right )}} \\left(\\frac{4 C_{x}}{3} \\mu \\sin{\\left (x \\right )} + \\left(C_{1} + \\frac{4 C_{y} \\mu \\sin{\\left (y \\right )}}{3 \\cos^{2}{\\left (y \\right )}} + \\sin{\\left (y \\right )}\\right) \\cos^{2}{\\left (x \\right )} - \\sin^{3}{\\left (x \\right )} + \\sin{\\left (x \\right )}\\right)$$"
      ],
      "text/plain": [
       "          4⋅Cₓ⋅μ⋅sin(x)   ⎛     4⋅C_y⋅μ⋅sin(y)         ⎞    2         3       \n",
       "          ───────────── + ⎜C₁ + ────────────── + sin(y)⎟⋅cos (x) - sin (x) + s\n",
       "                3         ⎜            2               ⎟                      \n",
       "                          ⎝       3⋅cos (y)            ⎠                      \n",
       "p(x, y) = ────────────────────────────────────────────────────────────────────\n",
       "                                              2                               \n",
       "                                           cos (x)                            \n",
       "\n",
       "     \n",
       "in(x)\n",
       "     \n",
       "     \n",
       "─────\n",
       "     \n",
       "     "
      ]
     },
     "execution_count": 32,
     "metadata": {},
     "output_type": "execute_result"
    }
   ],
   "source": [
    "pressure_equation_final = pressure_equation.subs(F_solved.lhs,F_solved.rhs)\n",
    "pressure_equation_final"
   ]
  },
  {
   "cell_type": "markdown",
   "metadata": {},
   "source": [
    "We now have to perform a trigonometric substitution to neaten the solution, which Sympy itself cannot find"
   ]
  },
  {
   "cell_type": "code",
   "execution_count": 33,
   "metadata": {},
   "outputs": [
    {
     "data": {
      "image/png": "[encoded data removed]",
      "text/latex": [
       "$$p{\\left (x,y \\right )} = C_{1} + \\frac{4 C_{x} \\mu \\sin{\\left (x \\right )}}{3 \\cos^{2}{\\left (x \\right )}} + \\frac{4 C_{y} \\mu \\sin{\\left (y \\right )}}{3 \\cos^{2}{\\left (y \\right )}} + \\sin{\\left (x \\right )} + \\sin{\\left (y \\right )}$$"
      ],
      "text/plain": [
       "               4⋅Cₓ⋅μ⋅sin(x)   4⋅C_y⋅μ⋅sin(y)                  \n",
       "p(x, y) = C₁ + ───────────── + ────────────── + sin(x) + sin(y)\n",
       "                      2               2                        \n",
       "                 3⋅cos (x)       3⋅cos (y)                     "
      ]
     },
     "execution_count": 33,
     "metadata": {},
     "output_type": "execute_result"
    }
   ],
   "source": [
    "pressure_equation_final = pressure_equation_final.subs(-sin(x)**3+sin(x),sin(x)*cos(x)**2).expand()\n",
    "pressure_equation_final"
   ]
  },
  {
   "cell_type": "code",
   "execution_count": 34,
   "metadata": {},
   "outputs": [
    {
     "data": {
      "image/png": "[encoded data removed]",
      "text/latex": [
       "$$C_{1} + \\frac{4 C_{x} \\mu \\sin{\\left (x \\right )}}{3 \\cos^{2}{\\left (x \\right )}} + \\frac{4 C_{y} \\mu \\sin{\\left (y \\right )}}{3 \\cos^{2}{\\left (y \\right )}} + \\sin{\\left (x \\right )} + \\sin{\\left (y \\right )}$$"
      ],
      "text/plain": [
       "     4⋅Cₓ⋅μ⋅sin(x)   4⋅C_y⋅μ⋅sin(y)                  \n",
       "C₁ + ───────────── + ────────────── + sin(x) + sin(y)\n",
       "            2               2                        \n",
       "       3⋅cos (x)       3⋅cos (y)                     "
      ]
     },
     "execution_count": 34,
     "metadata": {},
     "output_type": "execute_result"
    }
   ],
   "source": [
    "p = pressure_equation_final.rhs\n",
    "p"
   ]
  },
  {
   "cell_type": "markdown",
   "metadata": {},
   "source": [
    "We then perform two \"sanity checks\": we substitute the obtained equations into the continuity and momentum equations, which should then return zero:"
   ]
  },
  {
   "cell_type": "code",
   "execution_count": 35,
   "metadata": {
    "collapsed": true
   },
   "outputs": [
    {
     "data": {
      "image/png": "[encoded data removed]",
      "text/latex": [
       "$$0$$"
      ],
      "text/plain": [
       "0"
      ]
     },
     "execution_count": 35,
     "metadata": {},
     "output_type": "execute_result"
    }
   ],
   "source": [
    "get_momentum_equation_x(p).doit().expand()"
   ]
  },
  {
   "cell_type": "code",
   "execution_count": 36,
   "metadata": {},
   "outputs": [
    {
     "data": {
      "image/png": "[encoded data removed]",
      "text/latex": [
       "$$0$$"
      ],
      "text/plain": [
       "0"
      ]
     },
     "execution_count": 36,
     "metadata": {},
     "output_type": "execute_result"
    }
   ],
   "source": [
    "get_momentum_equation_y(p).doit().expand()"
   ]
  },
  {
   "cell_type": "code",
   "execution_count": 37,
   "metadata": {
    "collapsed": true
   },
   "outputs": [
    {
     "data": {
      "image/png": "[encoded data removed]",
      "text/latex": [
       "$$0$$"
      ],
      "text/plain": [
       "0"
      ]
     },
     "execution_count": 37,
     "metadata": {},
     "output_type": "execute_result"
    }
   ],
   "source": [
    "get_continuity_equation_x(vx,rho).doit()"
   ]
  },
  {
   "cell_type": "code",
   "execution_count": 38,
   "metadata": {},
   "outputs": [
    {
     "data": {
      "image/png": "[encoded data removed]",
      "text/latex": [
       "$$0$$"
      ],
      "text/plain": [
       "0"
      ]
     },
     "execution_count": 38,
     "metadata": {},
     "output_type": "execute_result"
    }
   ],
   "source": [
    "get_continuity_equation_y(vy,rho).doit()"
   ]
  },
  {
   "cell_type": "markdown",
   "metadata": {},
   "source": [
    "Finally, we need to calculate the strain rate:"
   ]
  },
  {
   "cell_type": "code",
   "execution_count": 39,
   "metadata": {},
   "outputs": [
    {
     "data": {
      "image/png": "[encoded data removed]",
      "text/latex": [
       "$$\\frac{C_{x} \\sin{\\left (x \\right )}}{\\cos^{2}{\\left (x \\right )}}$$"
      ],
      "text/plain": [
       "Cₓ⋅sin(x)\n",
       "─────────\n",
       "    2    \n",
       " cos (x) "
      ]
     },
     "execution_count": 39,
     "metadata": {},
     "output_type": "execute_result"
    }
   ],
   "source": [
    "exx = Derivative(vx,x).doit()\n",
    "exx"
   ]
  },
  {
   "cell_type": "code",
   "execution_count": 40,
   "metadata": {},
   "outputs": [
    {
     "data": {
      "image/png": "[encoded data removed]",
      "text/latex": [
       "$$0$$"
      ],
      "text/plain": [
       "0"
      ]
     },
     "execution_count": 40,
     "metadata": {},
     "output_type": "execute_result"
    }
   ],
   "source": [
    "exy = Derivative(vx,y).doit()\n",
    "exy"
   ]
  },
  {
   "cell_type": "code",
   "execution_count": 41,
   "metadata": {},
   "outputs": [
    {
     "data": {
      "image/png": "[encoded data removed]",
      "text/latex": [
       "$$0$$"
      ],
      "text/plain": [
       "0"
      ]
     },
     "execution_count": 41,
     "metadata": {},
     "output_type": "execute_result"
    }
   ],
   "source": [
    "eyx = Derivative(vy,x).doit()\n",
    "eyx"
   ]
  },
  {
   "cell_type": "code",
   "execution_count": 42,
   "metadata": {},
   "outputs": [
    {
     "data": {
      "image/png": "[encoded data removed]",
      "text/latex": [
       "$$\\frac{C_{y} \\sin{\\left (y \\right )}}{\\cos^{2}{\\left (y \\right )}}$$"
      ],
      "text/plain": [
       "C_y⋅sin(y)\n",
       "──────────\n",
       "    2     \n",
       " cos (y)  "
      ]
     },
     "execution_count": 42,
     "metadata": {},
     "output_type": "execute_result"
    }
   ],
   "source": [
    "eyy = Derivative(vy,y).doit()\n",
    "eyy"
   ]
  },
  {
   "cell_type": "markdown",
   "metadata": {},
   "source": [
    "This gives us the following final equations for the velocity and pressure:"
   ]
  },
  {
   "cell_type": "code",
   "execution_count": 43,
   "metadata": {},
   "outputs": [
    {
     "data": {
      "image/png": "[encoded data removed]",
      "text/latex": [
       "$$p{\\left (x,y \\right )} = \\frac{1}{\\cos^{2}{\\left (x \\right )}} \\left(\\frac{4 C_{x}}{3} \\mu \\sin{\\left (x \\right )} + F{\\left (y \\right )} \\cos^{2}{\\left (x \\right )} - \\sin^{3}{\\left (x \\right )} + \\sin{\\left (x \\right )}\\right)$$"
      ],
      "text/plain": [
       "          4⋅Cₓ⋅μ⋅sin(x)           2         3            \n",
       "          ───────────── + F(y)⋅cos (x) - sin (x) + sin(x)\n",
       "                3                                        \n",
       "p(x, y) = ───────────────────────────────────────────────\n",
       "                                 2                       \n",
       "                              cos (x)                    "
      ]
     },
     "execution_count": 43,
     "metadata": {},
     "output_type": "execute_result"
    }
   ],
   "source": [
    "pressure_equation"
   ]
  },
  {
   "cell_type": "markdown",
   "metadata": {},
   "source": [
    "# Plotting"
   ]
  },
  {
   "cell_type": "markdown",
   "metadata": {},
   "source": [
    "Firstly, we need to generate functions from the above expressions for density, velocity and pressure:"
   ]
  },
  {
   "cell_type": "code",
   "execution_count": 44,
   "metadata": {},
   "outputs": [],
   "source": [
    "density_function = lambdify((x,y),rho)"
   ]
  },
  {
   "cell_type": "code",
   "execution_count": 45,
   "metadata": {},
   "outputs": [],
   "source": [
    "vx_function = lambdify((x,y),vx.subs(Cx,1))"
   ]
  },
  {
   "cell_type": "code",
   "execution_count": 46,
   "metadata": {},
   "outputs": [],
   "source": [
    "vy_function = lambdify((x,y),vy.subs(Cy,1))"
   ]
  },
  {
   "cell_type": "code",
   "execution_count": 47,
   "metadata": {},
   "outputs": [],
   "source": [
    "def v_magnitude_function(x,y):\n",
    "    return np.sqrt(vy_function(x,y)**2 + vx_function(x,y)**2)"
   ]
  },
  {
   "cell_type": "code",
   "execution_count": 48,
   "metadata": {},
   "outputs": [],
   "source": [
    "pressure_function = lambdify((x,y),p.subs(C1,0).subs(Cx,1).subs(mu,1).subs(Cy,1))"
   ]
  },
  {
   "cell_type": "code",
   "execution_count": 49,
   "metadata": {},
   "outputs": [],
   "source": [
    "exx_function = lambdify((x,y),exx.subs(Cx,1))"
   ]
  },
  {
   "cell_type": "code",
   "execution_count": 50,
   "metadata": {},
   "outputs": [],
   "source": [
    "eyy_function = lambdify((x,y),eyy.subs(Cy,1))"
   ]
  },
  {
   "cell_type": "markdown",
   "metadata": {},
   "source": [
    "Now we need an x range to plot over:\n"
   ]
  },
  {
   "cell_type": "code",
   "execution_count": 51,
   "metadata": {},
   "outputs": [],
   "source": [
    "x_plotting = np.arange(-1.3,1.3,0.01)\n",
    "y_plotting = np.arange(-1.3,1.3,0.01)\n",
    "X_plotting,Y_plotting = np.meshgrid(x_plotting,y_plotting)"
   ]
  },
  {
   "cell_type": "markdown",
   "metadata": {},
   "source": [
    "Finally, we plot the density, velocity and pressure profiles:"
   ]
  },
  {
   "cell_type": "code",
   "execution_count": 52,
   "metadata": {
    "collapsed": true
   },
   "outputs": [
    {
     "data": {
      "text/plain": [
       "<matplotlib.text.Text at 0x7f2803338358>"
      ]
     },
     "execution_count": 52,
     "metadata": {},
     "output_type": "execute_result"
    },
    {
     "data": {
      "image/png": "[encoded data removed]",
      "text/plain": [
       "<matplotlib.figure.Figure at 0x7f280ac9c940>"
      ]
     },
     "metadata": {},
     "output_type": "display_data"
    }
   ],
   "source": [
    "fig,axes = plt.subplots(3,2,figsize=(12,18))\n",
    "\n",
    "axes[0,0].contourf(X_plotting,Y_plotting,density_function(X_plotting,Y_plotting))\n",
    "axes[0,0].contour(X_plotting,Y_plotting,density_function(X_plotting,Y_plotting))\n",
    "axes[0,0].set_xlabel(\"$x$\")\n",
    "axes[0,0].set_ylabel(\"$y$\")\n",
    "axes[0,0].set_title(r\"Density ($\\rho$)\")\n",
    "\n",
    "axes[0,1].contourf(X_plotting,Y_plotting,pressure_function(X_plotting,Y_plotting))\n",
    "axes[0,1].contour(X_plotting,Y_plotting,pressure_function(X_plotting,Y_plotting))\n",
    "axes[0,1].set_xlabel(\"$x$\")\n",
    "axes[0,1].set_ylabel(\"$y$\")\n",
    "axes[0,1].set_title(r\"Pressure ($p$)\")\n",
    "\n",
    "axes[1,0].contourf(X_plotting,Y_plotting,vx_function(X_plotting,Y_plotting))\n",
    "axes[1,0].contour(X_plotting,Y_plotting,vx_function(X_plotting,Y_plotting))\n",
    "axes[1,0].set_xlabel(\"$x$\")\n",
    "axes[1,0].set_ylabel(\"$y$\")\n",
    "axes[1,0].set_title(r\"x-Velocity ($v_x$)\")\n",
    "\n",
    "axes[1,1].contourf(X_plotting,Y_plotting,vy_function(X_plotting,Y_plotting))\n",
    "axes[1,1].contour(X_plotting,Y_plotting,vy_function(X_plotting,Y_plotting))\n",
    "axes[1,1].set_xlabel(\"$x$\")\n",
    "axes[1,1].set_ylabel(\"$y$\")\n",
    "axes[1,1].set_title(r\"y-Velocity ($v_y$)\")\n",
    "\n",
    "axes[2,0].contourf(X_plotting,Y_plotting,exx_function(X_plotting,Y_plotting))\n",
    "axes[2,0].contour(X_plotting,Y_plotting,exx_function(X_plotting,Y_plotting))\n",
    "axes[2,0].set_xlabel(\"$x$\")\n",
    "axes[2,0].set_ylabel(\"$y$\")\n",
    "axes[2,0].set_title(r\"xx Strain Rate ($e_{xx}$)\")\n",
    "\n",
    "axes[2,1].contourf(X_plotting,Y_plotting,eyy_function(X_plotting,Y_plotting))\n",
    "axes[2,1].contour(X_plotting,Y_plotting,eyy_function(X_plotting,Y_plotting))\n",
    "axes[2,1].set_xlabel(\"$x$\")\n",
    "axes[2,1].set_ylabel(\"$y$\")\n",
    "axes[2,1].set_title(r\"yy Strain Rate ($e_{yy}$)\")"
   ]
  },
  {
   "cell_type": "code",
   "execution_count": 53,
   "metadata": {},
   "outputs": [],
   "source": [
    "fig.savefig(\"2DCartesianSinusoidal.pdf\")"
   ]
  }
 ],
 "metadata": {
  "kernelspec": {
   "display_name": "Python 3",
   "language": "python",
   "name": "python3"
  },
  "language_info": {
   "codemirror_mode": {
    "name": "ipython",
    "version": 3
   },
   "file_extension": ".py",
   "mimetype": "text/x-python",
   "name": "python",
   "nbconvert_exporter": "python",
   "pygments_lexer": "ipython3",
   "version": "3.6.2"
  }
 },
 "nbformat": 4,
 "nbformat_minor": 2
}
