{
 "cells": [
  {
   "cell_type": "markdown",
   "metadata": {},
   "source": [
    "# Analytical Benchmarks - 1D Cartesian Linear"
   ]
  },
  {
   "cell_type": "code",
   "execution_count": 1,
   "metadata": {
    "collapsed": true
   },
   "outputs": [],
   "source": [
    "#import and initialisation\n",
    "from sympy import *\n",
    "import matplotlib.pyplot as plt\n",
    "import numpy as np\n",
    "init_printing()\n",
    "%matplotlib inline"
   ]
  },
  {
   "cell_type": "code",
   "execution_count": 2,
   "metadata": {
    "collapsed": true
   },
   "outputs": [],
   "source": [
    "#define the symbols used in the derivation\n",
    "x,rho,C1,Cx,gx,mu,tau, exx = symbols( 'x  rho C1 C_x g_x mu tau e_{xx}')\n",
    "vx = symbols('v_x',function=True)\n",
    "p = symbols('p',function=True)"
   ]
  },
  {
   "cell_type": "markdown",
   "metadata": {},
   "source": [
    "Firstly, we define the continuity (mass conservation) equation and the momentum equation in 1D, as well as the 1D stress tensor ($\\tau$):"
   ]
  },
  {
   "cell_type": "code",
   "execution_count": 3,
   "metadata": {},
   "outputs": [],
   "source": [
    "def get_continuity_equation(vx,rho):\n",
    "    return (1/vx)*Derivative(vx,x) + (1/rho)*diff(rho,x)"
   ]
  },
  {
   "cell_type": "code",
   "execution_count": 4,
   "metadata": {
    "collapsed": true
   },
   "outputs": [],
   "source": [
    "def get_tau():\n",
    "    tau = 2*mu*Derivative(vx,x) - mu*Derivative(vx,x)*Rational(2,3)\n",
    "    return tau"
   ]
  },
  {
   "cell_type": "code",
   "execution_count": 5,
   "metadata": {
    "collapsed": true
   },
   "outputs": [],
   "source": [
    "def get_momentum_equation(p):\n",
    "    return -Derivative(p,x) + rho*gx + Derivative(tau,x).doit()"
   ]
  },
  {
   "cell_type": "markdown",
   "metadata": {},
   "source": [
    "Next we prescibe the density profile, and then get the continuity equation:"
   ]
  },
  {
   "cell_type": "code",
   "execution_count": 6,
   "metadata": {},
   "outputs": [
    {
     "data": {
      "image/png": "[encoded data removed]",
      "text/latex": [
       "$$\\frac{\\frac{d}{d x} \\operatorname{v_{x}}{\\left (x \\right )}}{\\operatorname{v_{x}}{\\left (x \\right )}} + \\frac{1}{x}$$"
      ],
      "text/plain": [
       "d            \n",
       "──(vₓ(x))    \n",
       "dx          1\n",
       "───────── + ─\n",
       "  vₓ(x)     x"
      ]
     },
     "execution_count": 6,
     "metadata": {},
     "output_type": "execute_result"
    }
   ],
   "source": [
    "rho=x\n",
    "continuity_equation = get_continuity_equation(vx(x),rho)\n",
    "continuity_equation"
   ]
  },
  {
   "cell_type": "markdown",
   "metadata": {},
   "source": [
    "(Note that equations in Sympy are implicitly equal to zero)\n",
    "\n",
    "Then, we solve the continuity equation for the velocity:"
   ]
  },
  {
   "cell_type": "code",
   "execution_count": 7,
   "metadata": {},
   "outputs": [
    {
     "data": {
      "image/png": "[encoded data removed]",
      "text/latex": [
       "$$\\operatorname{v_{x}}{\\left (x \\right )} = \\frac{C_{1}}{x}$$"
      ],
      "text/plain": [
       "        C₁\n",
       "vₓ(x) = ──\n",
       "        x "
      ]
     },
     "execution_count": 7,
     "metadata": {},
     "output_type": "execute_result"
    }
   ],
   "source": [
    "velocity_equation = dsolve(continuity_equation)\n",
    "velocity_equation"
   ]
  },
  {
   "cell_type": "markdown",
   "metadata": {},
   "source": [
    "Now assign this equation to a new value for $v_x$, and replace the placeholder constant $C1$ with the more informative $C_x$:"
   ]
  },
  {
   "cell_type": "code",
   "execution_count": 8,
   "metadata": {},
   "outputs": [
    {
     "data": {
      "image/png": "[encoded data removed]",
      "text/latex": [
       "$$\\frac{C_{x}}{x}$$"
      ],
      "text/plain": [
       "Cₓ\n",
       "──\n",
       "x "
      ]
     },
     "execution_count": 8,
     "metadata": {},
     "output_type": "execute_result"
    }
   ],
   "source": [
    "vx = velocity_equation.rhs\n",
    "vx = vx.subs(C1,Cx)\n",
    "vx"
   ]
  },
  {
   "cell_type": "markdown",
   "metadata": {},
   "source": [
    "Next, we obtain the stress tensor $\\tau$:"
   ]
  },
  {
   "cell_type": "code",
   "execution_count": 9,
   "metadata": {},
   "outputs": [
    {
     "data": {
      "image/png": "[encoded data removed]",
      "text/latex": [
       "$$- \\frac{4 C_{x} \\mu}{3 x^{2}}$$"
      ],
      "text/plain": [
       "-4⋅Cₓ⋅μ \n",
       "────────\n",
       "     2  \n",
       "  3⋅x   "
      ]
     },
     "execution_count": 9,
     "metadata": {},
     "output_type": "execute_result"
    }
   ],
   "source": [
    "tau=get_tau()\n",
    "tau.doit()"
   ]
  },
  {
   "cell_type": "markdown",
   "metadata": {},
   "source": [
    "Then, we obtain the momentum equation:"
   ]
  },
  {
   "cell_type": "code",
   "execution_count": 10,
   "metadata": {},
   "outputs": [
    {
     "data": {
      "image/png": "[encoded data removed]",
      "text/latex": [
       "$$\\frac{8 C_{x} \\mu}{3 x^{3}} + g_{x} x - \\frac{d}{d x} p{\\left (x \\right )}$$"
      ],
      "text/plain": [
       "8⋅Cₓ⋅μ          d       \n",
       "────── + gₓ⋅x - ──(p(x))\n",
       "    3           dx      \n",
       " 3⋅x                    "
      ]
     },
     "execution_count": 10,
     "metadata": {},
     "output_type": "execute_result"
    }
   ],
   "source": [
    "momentum_equation = get_momentum_equation(p(x))\n",
    "momentum_equation"
   ]
  },
  {
   "cell_type": "markdown",
   "metadata": {},
   "source": [
    "Next, we solve this differential equation to give us an equation for the pressure:"
   ]
  },
  {
   "cell_type": "code",
   "execution_count": 11,
   "metadata": {},
   "outputs": [
    {
     "data": {
      "image/png": "[encoded data removed]",
      "text/latex": [
       "$$p{\\left (x \\right )} = C_{1} - \\frac{4 C_{x} \\mu}{3 x^{2}} + \\frac{g_{x} x^{2}}{2}$$"
      ],
      "text/plain": [
       "                         2\n",
       "            4⋅Cₓ⋅μ   gₓ⋅x \n",
       "p(x) = C₁ - ────── + ─────\n",
       "                2      2  \n",
       "             3⋅x          "
      ]
     },
     "execution_count": 11,
     "metadata": {},
     "output_type": "execute_result"
    }
   ],
   "source": [
    "pressure_equation = dsolve(momentum_equation)\n",
    "pressure_equation"
   ]
  },
  {
   "cell_type": "code",
   "execution_count": 12,
   "metadata": {},
   "outputs": [
    {
     "data": {
      "image/png": "[encoded data removed]",
      "text/latex": [
       "$$C_{1} - \\frac{4 C_{x} \\mu}{3 x^{2}} + \\frac{g_{x} x^{2}}{2}$$"
      ],
      "text/plain": [
       "                  2\n",
       "     4⋅Cₓ⋅μ   gₓ⋅x \n",
       "C₁ - ────── + ─────\n",
       "         2      2  \n",
       "      3⋅x          "
      ]
     },
     "execution_count": 12,
     "metadata": {},
     "output_type": "execute_result"
    }
   ],
   "source": [
    "p = pressure_equation.rhs\n",
    "p"
   ]
  },
  {
   "cell_type": "markdown",
   "metadata": {},
   "source": [
    "We then perform two \"sanity checks\": we substitute the obtained equations into the continuity and momentum equations, which should then return zero:"
   ]
  },
  {
   "cell_type": "code",
   "execution_count": 13,
   "metadata": {
    "collapsed": true
   },
   "outputs": [
    {
     "data": {
      "image/png": "[encoded data removed]",
      "text/latex": [
       "$$0$$"
      ],
      "text/plain": [
       "0"
      ]
     },
     "execution_count": 13,
     "metadata": {},
     "output_type": "execute_result"
    }
   ],
   "source": [
    "get_momentum_equation(p).doit()"
   ]
  },
  {
   "cell_type": "code",
   "execution_count": 14,
   "metadata": {
    "collapsed": true
   },
   "outputs": [
    {
     "data": {
      "image/png": "[encoded data removed]",
      "text/latex": [
       "$$0$$"
      ],
      "text/plain": [
       "0"
      ]
     },
     "execution_count": 14,
     "metadata": {},
     "output_type": "execute_result"
    }
   ],
   "source": [
    "get_continuity_equation(vx,rho).doit()"
   ]
  },
  {
   "cell_type": "markdown",
   "metadata": {},
   "source": [
    "Finally, we need to calculate the strain rate:"
   ]
  },
  {
   "cell_type": "code",
   "execution_count": 15,
   "metadata": {},
   "outputs": [
    {
     "data": {
      "image/png": "[encoded data removed]",
      "text/latex": [
       "$$- \\frac{C_{x}}{x^{2}}$$"
      ],
      "text/plain": [
       "-Cₓ \n",
       "────\n",
       "  2 \n",
       " x  "
      ]
     },
     "execution_count": 15,
     "metadata": {},
     "output_type": "execute_result"
    }
   ],
   "source": [
    "exx = Derivative(vx,x).doit()\n",
    "exx"
   ]
  },
  {
   "cell_type": "markdown",
   "metadata": {},
   "source": [
    "This gives us the following final equations for the velocity and pressure:"
   ]
  },
  {
   "cell_type": "code",
   "execution_count": 16,
   "metadata": {},
   "outputs": [
    {
     "data": {
      "image/png": "[encoded data removed]",
      "text/latex": [
       "$$\\operatorname{v_{x}}{\\left (x \\right )} = \\frac{C_{1}}{x}$$"
      ],
      "text/plain": [
       "        C₁\n",
       "vₓ(x) = ──\n",
       "        x "
      ]
     },
     "execution_count": 16,
     "metadata": {},
     "output_type": "execute_result"
    }
   ],
   "source": [
    "velocity_equation"
   ]
  },
  {
   "cell_type": "code",
   "execution_count": 17,
   "metadata": {},
   "outputs": [
    {
     "data": {
      "image/png": "[encoded data removed]",
      "text/latex": [
       "$$p{\\left (x \\right )} = C_{1} - \\frac{4 C_{x} \\mu}{3 x^{2}} + \\frac{g_{x} x^{2}}{2}$$"
      ],
      "text/plain": [
       "                         2\n",
       "            4⋅Cₓ⋅μ   gₓ⋅x \n",
       "p(x) = C₁ - ────── + ─────\n",
       "                2      2  \n",
       "             3⋅x          "
      ]
     },
     "execution_count": 17,
     "metadata": {},
     "output_type": "execute_result"
    }
   ],
   "source": [
    "pressure_equation"
   ]
  },
  {
   "cell_type": "code",
   "execution_count": 18,
   "metadata": {},
   "outputs": [
    {
     "data": {
      "image/png": "[encoded data removed]",
      "text/latex": [
       "$$\\frac{4}{3 x^{4}}$$"
      ],
      "text/plain": [
       " 4  \n",
       "────\n",
       "   4\n",
       "3⋅x "
      ]
     },
     "execution_count": 18,
     "metadata": {},
     "output_type": "execute_result"
    }
   ],
   "source": [
    "phi = exx*tau \n",
    "phi.doit().subs(Cx,1).subs(mu,1)"
   ]
  },
  {
   "cell_type": "markdown",
   "metadata": {},
   "source": [
    "# Plotting"
   ]
  },
  {
   "cell_type": "markdown",
   "metadata": {},
   "source": [
    "Firstly, we need to generate functions from the above expressions for density, velocity and pressure:"
   ]
  },
  {
   "cell_type": "code",
   "execution_count": 19,
   "metadata": {},
   "outputs": [],
   "source": [
    "density_function = lambdify(x,rho)"
   ]
  },
  {
   "cell_type": "code",
   "execution_count": 20,
   "metadata": {},
   "outputs": [],
   "source": [
    "velocity_function = lambdify(x,vx.subs(Cx,1))"
   ]
  },
  {
   "cell_type": "code",
   "execution_count": 21,
   "metadata": {},
   "outputs": [],
   "source": [
    "pressure_function = lambdify(x,p.subs(C1,0).subs(Cx,1).subs(gx,1).subs(mu,1))"
   ]
  },
  {
   "cell_type": "code",
   "execution_count": 22,
   "metadata": {},
   "outputs": [],
   "source": [
    "exx_function = lambdify(x,exx.subs(Cx,1))"
   ]
  },
  {
   "cell_type": "markdown",
   "metadata": {},
   "source": [
    "Now we need an x range to plot over:\n"
   ]
  },
  {
   "cell_type": "code",
   "execution_count": 23,
   "metadata": {},
   "outputs": [],
   "source": [
    "x_plotting = np.arange(1,2,0.01)"
   ]
  },
  {
   "cell_type": "markdown",
   "metadata": {},
   "source": [
    "Finally, we plot the density, velocity and pressure profiles:"
   ]
  },
  {
   "cell_type": "code",
   "execution_count": 24,
   "metadata": {
    "collapsed": true
   },
   "outputs": [
    {
     "data": {
      "text/plain": [
       "<matplotlib.text.Text at 0x7fc021216ac8>"
      ]
     },
     "execution_count": 24,
     "metadata": {},
     "output_type": "execute_result"
    },
    {
     "data": {
      "image/png": "[encoded data removed]",
      "text/plain": [
       "<matplotlib.figure.Figure at 0x7fc02888f6d8>"
      ]
     },
     "metadata": {},
     "output_type": "display_data"
    }
   ],
   "source": [
    "fig,axes = plt.subplots(1,4,figsize=(15,4))\n",
    "\n",
    "axes[0].plot(x_plotting,density_function(x_plotting))\n",
    "axes[0].set_xlabel(\"x\")\n",
    "axes[0].set_ylabel(r\"$\\rho$\")\n",
    "axes[0].set_title(\"Density\")\n",
    "\n",
    "axes[1].plot(x_plotting,velocity_function(x_plotting))\n",
    "axes[1].set_xlabel(\"x\")\n",
    "axes[1].set_ylabel(\"$v_x$\")\n",
    "axes[1].set_title(\"Velocity\")\n",
    "\n",
    "axes[2].plot(x_plotting,pressure_function(x_plotting))\n",
    "axes[2].set_xlabel(\"x\")\n",
    "axes[2].set_ylabel(\"$p$\")\n",
    "axes[2].set_title(\"Pressure\")\n",
    "\n",
    "axes[3].plot(x_plotting,pressure_function(x_plotting))\n",
    "axes[3].set_xlabel(\"x\")\n",
    "axes[3].set_ylabel(\"$e_{xx}$\")\n",
    "axes[3].set_title(\"Strain\")\n",
    "\n",
    "fig.suptitle(\"Density, velocity, pressure and strain plots for 1D Cartesian Linear Benchmark\")"
   ]
  },
  {
   "cell_type": "code",
   "execution_count": 25,
   "metadata": {},
   "outputs": [],
   "source": [
    "fig.savefig(\"1DCartesianLinear.pdf\")"
   ]
  }
 ],
 "metadata": {
  "kernelspec": {
   "display_name": "Python 3",
   "language": "python",
   "name": "python3"
  },
  "language_info": {
   "codemirror_mode": {
    "name": "ipython",
    "version": 3
   },
   "file_extension": ".py",
   "mimetype": "text/x-python",
   "name": "python",
   "nbconvert_exporter": "python",
   "pygments_lexer": "ipython3",
   "version": "3.6.2"
  }
 },
 "nbformat": 4,
 "nbformat_minor": 2
}
